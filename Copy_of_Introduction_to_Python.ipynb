{
  "cells": [
    {
      "cell_type": "markdown",
      "metadata": {
        "id": "view-in-github",
        "colab_type": "text"
      },
      "source": [
        "<a href=\"https://colab.research.google.com/github/erikawawawa/Week1-Introduction_to_Python/blob/newbranch/Copy_of_Introduction_to_Python.ipynb\" target=\"_parent\"><img src=\"https://colab.research.google.com/assets/colab-badge.svg\" alt=\"Open In Colab\"/></a>"
      ]
    },
    {
      "cell_type": "markdown",
      "metadata": {
        "id": "3RLWbzicyOkq"
      },
      "source": [
        "# PYTHON INTRODUCTION"
      ]
    },
    {
      "cell_type": "markdown",
      "metadata": {
        "id": "KW4zlFXUyOku"
      },
      "source": [
        "#                                                      Table Of Content\n",
        "1.introdution\n",
        "\n",
        "     1.1 What is Python\n",
        "     \n",
        "2.Data types\n",
        "\n",
        "     2.1 variables\n",
        "     2.2 Numbers\n",
        "     2.3 Strings\n",
        "     2.4 Lists\n",
        "     2.5 Dictionaries\n",
        "     2.6 Tuples\n",
        "     2.7 Sets\n",
        "   \n",
        "3.Comparison operators\n",
        "\n",
        "4.If-Else statement\n",
        "\n",
        "5.For Loop and While loop\n",
        "\n",
        "6.Functions\n",
        "\n",
        "7.Lambda functions\n",
        "\n",
        "     7.1 Map()\n",
        "     7.2 Filter()\n",
        "   \n",
        "8.File I/O\n",
        "\n",
        "9.Pandas liberary introduction\n",
        "\n",
        "10.Series\n",
        "\n",
        "     10.1 From ndarray\n",
        "     10.2 From dict\n",
        "     10.3 From scalar value\n",
        "     10.4 Series is ndarray-like\n",
        "     10.5 Series is dict-like\n",
        "     10.6 Vectorized operations and label alignment with series\n",
        "   \n",
        "11.Data frames\n",
        "\n",
        "     11.1 From dict of series or dicts\n",
        "     11.2 from dict of ndarrays/lists\n",
        "     11.3 from a list of dicts\n",
        "     11.4 from a list of tuples\n",
        "     11.5 Alternate constructors\n",
        "     11.6 Column selection, addition, deletion\n",
        "     11.7 Indexing/ selection\n",
        "     11.8 Data alignment\n",
        "     11.9 transposing"
      ]
    },
    {
      "cell_type": "markdown",
      "metadata": {
        "id": "_s8vd6dxyOkw"
      },
      "source": [
        "# 1. Introduction\n"
      ]
    },
    {
      "cell_type": "markdown",
      "metadata": {
        "id": "v2VMxdlcyOkw"
      },
      "source": [
        "## 1.1 What is python"
      ]
    },
    {
      "cell_type": "markdown",
      "metadata": {
        "id": "8Exauf5MyOkx"
      },
      "source": [
        "Guido Van Rossum developed the Python language in the late 1980s. In contrast to other popular languages such as C, C++, Java, and C#, Python strives to provide a simple but powerful syntax.It is open source general purpose language with great interactive environment.It provides all the three types of programming features Object Oriented, Procedural and Functional.It is used by many of the most highly productive professional programmers.Moreover, Python can also become a common language for production of web based analytics product. A few of the places that use Python extensively are Google, the New York Stock Exchange, Industrial Light,Magic etc.\n",
        "#### Important features of Python:\n",
        " -  Built-in high level data types: strings, lists, dictionaries, etc.\n",
        " -  The usual control structures: if, if-else, if-elif-else, while, plus a powerful collection iterator (for).\n",
        " -  Multiple levels of organizational structure: functions, classes, modules, and  packages. These assist in organizing code. An excellent and large example is the Python standard library.\n",
        " - Compile on the fly to byte code -- Source code is compiled to byte code without a separate compile step. Source code modules can also be \"pre-compiled\" to byte code files.\n",
        " - Object-oriented -- Python provides a consistent way to use objects: everything is an object. And, in Python it is easy to implement new object types (called classes in object-oriented programming).\n",
        " - Extensions in C and C++ -- Extension modules and extension types can be written by hand. There are also tools that help with this, for example, SWIG, sip, Pyrex"
      ]
    },
    {
      "cell_type": "markdown",
      "metadata": {
        "id": "NaPiQDs3yOky"
      },
      "source": [
        "# 2. Data types"
      ]
    },
    {
      "cell_type": "markdown",
      "metadata": {
        "id": "5-uDSw6jyOky"
      },
      "source": [
        "There are various data types in Python. Some of the important types are listed below."
      ]
    },
    {
      "cell_type": "markdown",
      "metadata": {
        "id": "2sUB9HS2yOky"
      },
      "source": [
        "## 2.1 Variables"
      ]
    },
    {
      "cell_type": "markdown",
      "metadata": {
        "id": "8F8pyh4XyOkz"
      },
      "source": [
        " - Python variables do not need explicit declaration to reserve memory space.\n",
        " - The declaration happens automatically when you assign a value to a variable.\n",
        " - The equal sign = is used to assign values to variables.\n",
        "  \n",
        "  Some examples are given as follows:"
      ]
    },
    {
      "cell_type": "code",
      "execution_count": null,
      "metadata": {
        "id": "E8eBm4tQyOkz",
        "outputId": "0aa8b20b-ddb6-443b-fd5d-02a965faff70",
        "colab": {
          "base_uri": "https://localhost:8080/"
        }
      },
      "outputs": [
        {
          "output_type": "stream",
          "name": "stdout",
          "text": [
            "123.45\n",
            "12\n",
            "Hello world\n"
          ]
        }
      ],
      "source": [
        "area = 200.30  #float type variable\n",
        "Distance = 100 #integer type variabe\n",
        "name = 'Sara' #string type variable\n",
        "\n",
        "#print all values\n",
        "print (area)\n",
        "print(Distance)\n",
        "print(name)"
      ]
    },
    {
      "cell_type": "markdown",
      "source": [
        "### **Erika example**"
      ],
      "metadata": {
        "id": "svNmWUO1cDtp"
      }
    },
    {
      "cell_type": "code",
      "source": [
        "#Using above example, declare my own float, int, string\n",
        "#then print values\n",
        "newFloat = 123.45\n",
        "newInt = 12\n",
        "newString = 'Hello world'\n",
        "\n",
        "print(newFloat)\n",
        "print(newInt)\n",
        "print(newString)"
      ],
      "metadata": {
        "id": "18wgOS9_cHLZ"
      },
      "execution_count": null,
      "outputs": []
    },
    {
      "cell_type": "markdown",
      "metadata": {
        "id": "zpsVx_N_yOk2"
      },
      "source": [
        "## 2.2 Numbers"
      ]
    },
    {
      "cell_type": "markdown",
      "metadata": {
        "id": "dZuFsFyVyOk2"
      },
      "source": [
        " - This data type store numeric values\n",
        " - Numbers are immutable data types (Immutable data types means values cannot be changed after it is created)\n",
        "\n",
        "  Some examples are given as follows:"
      ]
    },
    {
      "cell_type": "code",
      "execution_count": null,
      "metadata": {
        "id": "wWSaGwfzyOk2",
        "outputId": "c8c615ba-fde9-46d3-c1fd-73428a40f66b",
        "colab": {
          "base_uri": "https://localhost:8080/"
        }
      },
      "outputs": [
        {
          "output_type": "execute_result",
          "data": {
            "text/plain": [
              "10"
            ]
          },
          "metadata": {},
          "execution_count": 3
        }
      ],
      "source": [
        "5 #integer"
      ]
    },
    {
      "cell_type": "code",
      "execution_count": null,
      "metadata": {
        "id": "f_JTKqeFyOk2",
        "outputId": "7dca1e21-8fde-45f0-85e3-31dfb406f3b7",
        "colab": {
          "base_uri": "https://localhost:8080/"
        }
      },
      "outputs": [
        {
          "output_type": "stream",
          "name": "stdout",
          "text": [
            "46\n"
          ]
        }
      ],
      "source": [
        "10+10 #integer"
      ]
    },
    {
      "cell_type": "code",
      "execution_count": 1,
      "metadata": {
        "id": "8bx_9PUsyOk2",
        "outputId": "e03dcd63-e9c7-40a2-acb5-58963302dea1",
        "colab": {
          "base_uri": "https://localhost:8080/"
        }
      },
      "outputs": [
        {
          "output_type": "execute_result",
          "data": {
            "text/plain": [
              "11.0"
            ]
          },
          "metadata": {},
          "execution_count": 1
        }
      ],
      "source": [
        "5.5+5.5 #float"
      ]
    },
    {
      "cell_type": "code",
      "execution_count": 2,
      "metadata": {
        "id": "A2LEGhsVyOk3",
        "outputId": "ab25e9c6-7a42-41a7-eb36-4bb5a5acc928",
        "colab": {
          "base_uri": "https://localhost:8080/"
        }
      },
      "outputs": [
        {
          "output_type": "execute_result",
          "data": {
            "text/plain": [
              "25"
            ]
          },
          "metadata": {},
          "execution_count": 2
        }
      ],
      "source": [
        "5**2 #exponent"
      ]
    },
    {
      "cell_type": "markdown",
      "source": [
        "### **Erika example**"
      ],
      "metadata": {
        "id": "hv6xl8wIciDU"
      }
    },
    {
      "cell_type": "code",
      "source": [
        "#integer\n",
        "10\n",
        "\n",
        "#integer equation\n",
        "12+34\n",
        "\n",
        "#float\n",
        "1.2+3.4\n",
        "\n",
        "#exponent\n",
        "1**2"
      ],
      "metadata": {
        "colab": {
          "base_uri": "https://localhost:8080/"
        },
        "id": "5al06iI0csM6",
        "outputId": "ba9a1cfa-7713-4ece-9eeb-b71f25d10989"
      },
      "execution_count": 3,
      "outputs": [
        {
          "output_type": "execute_result",
          "data": {
            "text/plain": [
              "1"
            ]
          },
          "metadata": {},
          "execution_count": 3
        }
      ]
    },
    {
      "cell_type": "markdown",
      "metadata": {
        "id": "6v9gnHCcyOk3"
      },
      "source": [
        "## 2.3 Strings"
      ]
    },
    {
      "cell_type": "markdown",
      "metadata": {
        "id": "vGl89d8HyOk3"
      },
      "source": [
        " - Strings in Python are identified as a contiguous set of characters represented in the quotation marks.\n",
        " - Python allows either pair of single or double quotes.\n",
        " - Strings are immutable.\n",
        " - Python doesn't support Char data type.It will beas string of length one in python."
      ]
    },
    {
      "cell_type": "code",
      "execution_count": null,
      "metadata": {
        "id": "8wLxfAHfyOk3",
        "outputId": "9b4df349-3114-4f15-fb64-2e740ba71d04",
        "colab": {
          "base_uri": "https://localhost:8080/"
        }
      },
      "outputs": [
        {
          "output_type": "stream",
          "name": "stdout",
          "text": [
            "Sara Artificial Intelligence\n",
            "Vancouver, British Columbia Snowing\n"
          ]
        }
      ],
      "source": [
        "Course=\"Artificial Intelligence\"\n",
        "name='Sara'\n",
        "print(name, Course)"
      ]
    },
    {
      "cell_type": "markdown",
      "source": [
        "### **Erika example**"
      ],
      "metadata": {
        "id": "i0v7mCYGdPbA"
      }
    },
    {
      "cell_type": "code",
      "source": [
        "#Declare two strings, print both\n",
        "\n",
        "Place = \"Vancouver, British Columbia is\"\n",
        "Weather = \"Snowing\"\n",
        "print(Place, Weather)"
      ],
      "metadata": {
        "colab": {
          "base_uri": "https://localhost:8080/"
        },
        "id": "frrWY_BvdVag",
        "outputId": "0a8d822c-a797-4843-bb10-29d511c66163"
      },
      "execution_count": 5,
      "outputs": [
        {
          "output_type": "stream",
          "name": "stdout",
          "text": [
            "Vancouver, British Columbia is Snowing\n"
          ]
        }
      ]
    },
    {
      "cell_type": "markdown",
      "metadata": {
        "id": "eqef1cE5yOk5"
      },
      "source": [
        "### Access values in strings"
      ]
    },
    {
      "cell_type": "markdown",
      "metadata": {
        "id": "32M-NFv5yOk5"
      },
      "source": [
        " - we can access a specific character or range of characters from strings.\n",
        " - Subsets of strings can be taken using the slice operator [] and [:] with indexes starting from 0.\n",
        "\n",
        " Some examples are listed below:"
      ]
    },
    {
      "cell_type": "code",
      "execution_count": null,
      "metadata": {
        "scrolled": true,
        "id": "Dj9IGB6FyOk5",
        "outputId": "a1a3c03f-d233-4675-caea-dd1afd6d5578",
        "colab": {
          "base_uri": "https://localhost:8080/"
        }
      },
      "outputs": [
        {
          "output_type": "stream",
          "name": "stdout",
          "text": [
            "stringVariable[0]: H\n",
            "stringVariable[1:5]: ello\n",
            "newString[4]: n\n",
            "newString[5:8]:  Fr\n"
          ]
        }
      ],
      "source": [
        "stringVariable = 'Hello World'\n",
        "\n",
        "print(\"stringVariable[0]:\", stringVariable[0])\n",
        "print(\"stringVariable[1:5]:\", stringVariable[1:5])"
      ]
    },
    {
      "cell_type": "markdown",
      "source": [
        "### **Erika example**"
      ],
      "metadata": {
        "id": "eu8oXz86dgTi"
      }
    },
    {
      "cell_type": "code",
      "source": [
        "#Declare new string, then print fifth letter, and the sixth letter to seventh letter\n",
        "newString = 'Simon Fraser University'\n",
        "\n",
        "print(\"newString[4]:\", newString[4])\n",
        "print(\"newString[5:8]:\", newString[5:8])"
      ],
      "metadata": {
        "colab": {
          "base_uri": "https://localhost:8080/"
        },
        "id": "rl1zfbDJdktN",
        "outputId": "bb93af60-f9a2-4a71-c6a1-c4ad7ccab0bb"
      },
      "execution_count": 9,
      "outputs": [
        {
          "output_type": "stream",
          "name": "stdout",
          "text": [
            "newString[4]: n\n",
            "newString[5:8]:  Fr\n"
          ]
        }
      ]
    },
    {
      "cell_type": "markdown",
      "metadata": {
        "id": "kY4lddAsyOk8"
      },
      "source": [
        "### Updating string"
      ]
    },
    {
      "cell_type": "markdown",
      "metadata": {
        "id": "MiuqdFMdyOk8"
      },
      "source": [
        " - Value of string can be changed or updated by assigning a new value to it.\n",
        " - New value must have same data type as previous value.\n",
        " - For this purpose '+' operator is used as follows:"
      ]
    },
    {
      "cell_type": "code",
      "execution_count": null,
      "metadata": {
        "id": "iH-oj2WnyOk8",
        "outputId": "9f3f6caa-90fa-4d08-c56a-12d9693ca6f7",
        "colab": {
          "base_uri": "https://localhost:8080/"
        }
      },
      "outputs": [
        {
          "output_type": "stream",
          "name": "stdout",
          "text": [
            "updated string: Hello Python\n",
            "updated string: I like hotdogs and tacos\n"
          ]
        }
      ],
      "source": [
        "stringVariable =\"Hello World \"\n",
        "stringVariable = stringVariable[:6]+\"Python\"\n",
        "\n",
        "\n",
        "print (\"updated string:\",stringVariable)"
      ]
    },
    {
      "cell_type": "markdown",
      "source": [
        "### **Erika example**"
      ],
      "metadata": {
        "id": "GjzchXtteWLF"
      }
    },
    {
      "cell_type": "code",
      "source": [
        "#Declare new string, then redeclare with additional string value attached after 16th letter\n",
        "newString =\"I like hotdogs \"\n",
        "newString = newString[:15]+\"and tacos\"\n",
        "\n",
        "print (\"updated string:\",newString)"
      ],
      "metadata": {
        "colab": {
          "base_uri": "https://localhost:8080/"
        },
        "id": "-HLe-Lk4eVkh",
        "outputId": "9e32bf5b-075c-4b25-e26d-b8ef8e23bf92"
      },
      "execution_count": 10,
      "outputs": [
        {
          "output_type": "stream",
          "name": "stdout",
          "text": [
            "updated string: I like hotdogs and tacos\n"
          ]
        }
      ]
    },
    {
      "cell_type": "markdown",
      "metadata": {
        "id": "aCwtHYHJyOlK"
      },
      "source": [
        "### Delete string"
      ]
    },
    {
      "cell_type": "markdown",
      "metadata": {
        "id": "qsK---xLyOlK"
      },
      "source": [
        " - we can delete the value of string by just deleteing its object.\n",
        " - 'del' keyword is used for this purpose\n",
        "\n",
        "  It would be cleared by using following example:"
      ]
    },
    {
      "cell_type": "code",
      "execution_count": 11,
      "metadata": {
        "id": "c-nfHs95yOlL"
      },
      "outputs": [],
      "source": [
        "stringVariable =\"Hello World \"\n",
        "#print (stringVariable)\n",
        "del stringVariable\n",
        "#print (stringVariable)"
      ]
    },
    {
      "cell_type": "markdown",
      "source": [
        "### **Erika example**"
      ],
      "metadata": {
        "id": "i74RdV4Feutl"
      }
    },
    {
      "cell_type": "code",
      "source": [
        "#Declare new string, then delete. commented out print statements to avoid error\n",
        "\n",
        "newStringVar =\"I like hotdogs\"\n",
        "# print (newStringVar)\n",
        "\n",
        "del newStringVar\n",
        "# print (newStringVar)"
      ],
      "metadata": {
        "id": "YA5wI1BrexNq"
      },
      "execution_count": 12,
      "outputs": []
    },
    {
      "cell_type": "markdown",
      "metadata": {
        "id": "--zQSMqnyOlM"
      },
      "source": [
        "### String special operators"
      ]
    },
    {
      "cell_type": "markdown",
      "metadata": {
        "id": "JTw5LIEDyOlM"
      },
      "source": [
        " - some special operators are used in Python to perform different opertions.\n",
        "   These are given below:"
      ]
    },
    {
      "cell_type": "markdown",
      "metadata": {
        "id": "ZDWY9NWayOlM"
      },
      "source": [
        "#### String Concatenation"
      ]
    },
    {
      "cell_type": "markdown",
      "metadata": {
        "id": "HmXTQtg_yOlM"
      },
      "source": [
        " - To concatenate the strings we used '+' operator.\n",
        "\n",
        "    Following are the examples of concatenation:"
      ]
    },
    {
      "cell_type": "code",
      "execution_count": null,
      "metadata": {
        "id": "WAXp8WX0yOlM",
        "outputId": "6cf3efd2-c3aa-4ad9-a3e0-87e8c3c6b834",
        "colab": {
          "base_uri": "https://localhost:8080/"
        }
      },
      "outputs": [
        {
          "output_type": "stream",
          "name": "stdout",
          "text": [
            "machinelearning\n",
            "I like hotdogs and tacos\n"
          ]
        }
      ],
      "source": [
        "stringvalue1=\"machine\"\n",
        "stringvalue2=\"learning\"\n",
        "print(stringvalue1+stringvalue2)"
      ]
    },
    {
      "cell_type": "markdown",
      "source": [
        "###**Erika example**"
      ],
      "metadata": {
        "id": "J2dJruetfEOl"
      }
    },
    {
      "cell_type": "code",
      "source": [
        "#Declare three strings, then concatenate\n",
        "\n",
        "stringvalue1=\"I like hotdogs\"\n",
        "space = \" \"\n",
        "stringvalue2=\"and tacos\"\n",
        "print(stringvalue1+space+stringvalue2)"
      ],
      "metadata": {
        "id": "A5zmpFtKfITH"
      },
      "execution_count": null,
      "outputs": []
    },
    {
      "cell_type": "markdown",
      "metadata": {
        "id": "AE6msJFZyOlN"
      },
      "source": [
        "#### Repitition"
      ]
    },
    {
      "cell_type": "markdown",
      "metadata": {
        "id": "rjLNa7_zyOlN"
      },
      "source": [
        " - '*' symbol is used for repitition.\n"
      ]
    },
    {
      "cell_type": "code",
      "execution_count": null,
      "metadata": {
        "id": "t_TsnG11yOlN",
        "outputId": "dc672d57-e6b0-4bf0-9d1c-cc49f2956e6a",
        "colab": {
          "base_uri": "https://localhost:8080/"
        }
      },
      "outputs": [
        {
          "output_type": "stream",
          "name": "stdout",
          "text": [
            "AssignmentAssignment\n",
            "I really really really really like tacos\n"
          ]
        }
      ],
      "source": [
        "stringvalue=\"Assignment\"\n",
        "print(stringvalue*2)"
      ]
    },
    {
      "cell_type": "markdown",
      "source": [
        "### **Erika**"
      ],
      "metadata": {
        "id": "53PH3QMYfUQA"
      }
    },
    {
      "cell_type": "code",
      "source": [
        "#Declare three strings, then concatenate, but repeat second string four times\n",
        "\n",
        "string1= \"I \"\n",
        "string2= \"really \"\n",
        "string3= \"like tacos\"\n",
        "print(string1+string2*4+string3)"
      ],
      "metadata": {
        "colab": {
          "base_uri": "https://localhost:8080/"
        },
        "id": "uM79vfTdfW9X",
        "outputId": "907d2e09-6c79-4b16-eb39-3ed00850a211"
      },
      "execution_count": 13,
      "outputs": [
        {
          "output_type": "stream",
          "name": "stdout",
          "text": [
            "I really really really really like tacos\n"
          ]
        }
      ]
    },
    {
      "cell_type": "markdown",
      "metadata": {
        "id": "ed-Q8jjgyOlO"
      },
      "source": [
        "#### Use of [] symbol"
      ]
    },
    {
      "cell_type": "markdown",
      "metadata": {
        "id": "EEBLbGELyOlO"
      },
      "source": [
        " - '[]'symbol give the character of string at given index."
      ]
    },
    {
      "cell_type": "code",
      "execution_count": null,
      "metadata": {
        "id": "QBhDsT2DyOlO",
        "colab": {
          "base_uri": "https://localhost:8080/"
        },
        "outputId": "2fe7ce31-dbde-41dc-a6ba-93fad48bfda0"
      },
      "outputs": [
        {
          "output_type": "stream",
          "name": "stdout",
          "text": [
            "a\n",
            " \n"
          ]
        }
      ],
      "source": [
        "Stringvalue=\"Machine Learning\"\n",
        "print(Stringvalue[1])"
      ]
    },
    {
      "cell_type": "markdown",
      "source": [
        "### **Erika**"
      ],
      "metadata": {
        "id": "tZUnsTt_fmGR"
      }
    },
    {
      "cell_type": "code",
      "source": [
        "#declare string, then print fourth letter\n",
        "\n",
        "string1= \"I am so excited for dinner\"\n",
        "print(string1[5])"
      ],
      "metadata": {
        "colab": {
          "base_uri": "https://localhost:8080/"
        },
        "id": "_03lQnoVfokB",
        "outputId": "bb201006-f0de-49c7-a542-3572f381504f"
      },
      "execution_count": 16,
      "outputs": [
        {
          "output_type": "stream",
          "name": "stdout",
          "text": [
            "s\n"
          ]
        }
      ]
    },
    {
      "cell_type": "markdown",
      "metadata": {
        "id": "bRaaJ78ryOlP"
      },
      "source": [
        "#### Use of [:] symbol"
      ]
    },
    {
      "cell_type": "markdown",
      "metadata": {
        "id": "6RSaZEKWyOlP"
      },
      "source": [
        " - [:] is used to get substring from string."
      ]
    },
    {
      "cell_type": "code",
      "execution_count": null,
      "metadata": {
        "id": "PizhfzMPyOlP",
        "colab": {
          "base_uri": "https://localhost:8080/"
        },
        "outputId": "cc584d55-09da-433a-c1f5-6d2725333f98"
      },
      "outputs": [
        {
          "output_type": "stream",
          "name": "stdout",
          "text": [
            "el\n",
            "I really want ta\n"
          ]
        }
      ],
      "source": [
        "stringvalue=\"Hello\"\n",
        "print(stringvalue [1:3])"
      ]
    },
    {
      "cell_type": "markdown",
      "source": [
        "### **Erika**"
      ],
      "metadata": {
        "id": "cpy3jvsKf0_R"
      }
    },
    {
      "cell_type": "code",
      "source": [
        "#Print string until 15th letter\n",
        "\n",
        "string1 = \"I really want taco\"\n",
        "print(string1 [0:16])"
      ],
      "metadata": {
        "id": "kKDicXjcf292"
      },
      "execution_count": null,
      "outputs": []
    },
    {
      "cell_type": "markdown",
      "metadata": {
        "id": "ZCie1YcEyOlP"
      },
      "source": [
        "#### use of 'in'"
      ]
    },
    {
      "cell_type": "markdown",
      "metadata": {
        "id": "SRMzod_jyOlP"
      },
      "source": [
        " - 'in' is used to check the existance of character in string.\n",
        " - It returns TRUE if given character exist in string,otherwise FALSE."
      ]
    },
    {
      "cell_type": "code",
      "execution_count": 18,
      "metadata": {
        "id": "KZNyAeykyOlP",
        "outputId": "6fdbae71-3385-488b-85f5-d2953e8d38f2",
        "colab": {
          "base_uri": "https://localhost:8080/"
        }
      },
      "outputs": [
        {
          "output_type": "stream",
          "name": "stdout",
          "text": [
            "True\n"
          ]
        }
      ],
      "source": [
        "Stringvalue=\"Hello\"\n",
        "print('H' in Stringvalue)"
      ]
    },
    {
      "cell_type": "markdown",
      "source": [
        "### **Erika**"
      ],
      "metadata": {
        "id": "Ll_ijsAfgJt2"
      }
    },
    {
      "cell_type": "code",
      "source": [
        "#Check to see if 'Poke' exists in 'string1'\n",
        "\n",
        "string1=\"I am craving a poke bowl from Poke Guy\"\n",
        "print('Poke' in string1)"
      ],
      "metadata": {
        "colab": {
          "base_uri": "https://localhost:8080/"
        },
        "id": "TxsV0LG4gLTe",
        "outputId": "81956322-bc30-43ef-ea0e-7792c6f360f6"
      },
      "execution_count": 17,
      "outputs": [
        {
          "output_type": "stream",
          "name": "stdout",
          "text": [
            "True\n"
          ]
        }
      ]
    },
    {
      "cell_type": "markdown",
      "metadata": {
        "id": "HVyoI3btyOlQ"
      },
      "source": [
        "#### Use of \"not in\""
      ]
    },
    {
      "cell_type": "markdown",
      "metadata": {
        "id": "ie9L4KLsyOlQ"
      },
      "source": [
        " - 'not in' returns true if given character is not in string,otherwise false."
      ]
    },
    {
      "cell_type": "code",
      "execution_count": 19,
      "metadata": {
        "id": "dWQS-Q2VyOlQ",
        "outputId": "f4272dd3-04f0-4a6d-8ab8-0a2914f58df5",
        "colab": {
          "base_uri": "https://localhost:8080/"
        }
      },
      "outputs": [
        {
          "output_type": "stream",
          "name": "stdout",
          "text": [
            "True\n"
          ]
        }
      ],
      "source": [
        "Stringvalue=\"Hello\"\n",
        "print('G' not in Stringvalue)"
      ]
    },
    {
      "cell_type": "markdown",
      "source": [
        "Erika"
      ],
      "metadata": {
        "id": "ML6v3CMGgUa0"
      }
    },
    {
      "cell_type": "code",
      "source": [
        "#Check for string 'cold' in hot chocolate, then return if true or false\n",
        "string1 = \"Hot cup of hot chocolate\"\n",
        "print('Cold' not in string1)"
      ],
      "metadata": {
        "id": "ybVjBEHBgSu-"
      },
      "execution_count": null,
      "outputs": []
    },
    {
      "cell_type": "markdown",
      "metadata": {
        "id": "kFeZvcbuyOlR"
      },
      "source": [
        "### String formatting operator"
      ]
    },
    {
      "cell_type": "markdown",
      "metadata": {
        "id": "9qUmlcGGyOlR"
      },
      "source": [
        " - Python uses C-style string formatting to create new, formatted strings.\n",
        " - The \"%\" operator is used to format in print statement.\n",
        "\n",
        "See following examples:"
      ]
    },
    {
      "cell_type": "code",
      "execution_count": 21,
      "metadata": {
        "id": "zJWusS3QyOlR",
        "outputId": "e3bf5b6d-9e26-490c-988f-4c08c6fb35a7",
        "colab": {
          "base_uri": "https://localhost:8080/"
        }
      },
      "outputs": [
        {
          "output_type": "stream",
          "name": "stdout",
          "text": [
            "My name is Sara and weight is 21 kg!\n"
          ]
        }
      ],
      "source": [
        "print(\"My name is %s and weight is %d kg!\" % (\"Sara\", 21))"
      ]
    },
    {
      "cell_type": "markdown",
      "source": [
        "Erika"
      ],
      "metadata": {
        "id": "0gp6SCkSgnrw"
      }
    },
    {
      "cell_type": "code",
      "source": [
        "#Format string with int, and two strings\n",
        "\n",
        "print(\"%d servings of %s and %s and %s, please.\" % (3, \"fish\", \"chips\", \"vinegar\"))"
      ],
      "metadata": {
        "colab": {
          "base_uri": "https://localhost:8080/"
        },
        "id": "0tz8H6LPgoao",
        "outputId": "01c902b9-9bc8-495b-d8d3-a74395172cdb"
      },
      "execution_count": 20,
      "outputs": [
        {
          "output_type": "stream",
          "name": "stdout",
          "text": [
            "3 servings of fish and chips and vinegar, please.\n"
          ]
        }
      ]
    },
    {
      "cell_type": "markdown",
      "metadata": {
        "id": "cUZC1emnyOlS"
      },
      "source": [
        "## 2.4 Lists"
      ]
    },
    {
      "cell_type": "markdown",
      "metadata": {
        "id": "td4qbX-wyOlS"
      },
      "source": [
        " - Multiple types of data can be stored in a list.\n",
        " - A list contains items separated by commas and enclosed within square brackets [].\n",
        " - Individual elements of a list can be changed\n",
        " - list indices start with 0 just like arrays.\n",
        "\n"
      ]
    },
    {
      "cell_type": "code",
      "execution_count": null,
      "metadata": {
        "id": "1aorf0TnyOlS",
        "outputId": "0aac7ed0-b714-44a6-82c8-1c721db85287",
        "colab": {
          "base_uri": "https://localhost:8080/"
        }
      },
      "outputs": [
        {
          "output_type": "stream",
          "name": "stdout",
          "text": [
            "['Mary', 2000]\n",
            "['Red', 'Yellow', 'Blue']\n"
          ]
        }
      ],
      "source": [
        "list1 = [ 'Mary', 2000 ]\n",
        "\n",
        "print (list1) # Prints complete list"
      ]
    },
    {
      "cell_type": "markdown",
      "source": [
        "Erika"
      ],
      "metadata": {
        "id": "soDQm7e4g0V0"
      }
    },
    {
      "cell_type": "code",
      "source": [
        "#Declare my own list, and print\n",
        "\n",
        "list2 = [ 'Red', 'Yellow', 'Blue' ]\n",
        "print (list2)"
      ],
      "metadata": {
        "colab": {
          "base_uri": "https://localhost:8080/"
        },
        "id": "bIK5xP8Tg1dm",
        "outputId": "33de0442-9757-4ab3-9aa4-fdc455d6ab94"
      },
      "execution_count": 22,
      "outputs": [
        {
          "output_type": "stream",
          "name": "stdout",
          "text": [
            "['Red', 'Yellow', 'Blue']\n"
          ]
        }
      ]
    },
    {
      "cell_type": "markdown",
      "metadata": {
        "id": "qg3VSu0-yOlT"
      },
      "source": [
        "### Accessing values in list"
      ]
    },
    {
      "cell_type": "markdown",
      "metadata": {
        "id": "ba1xEH-EyOlU"
      },
      "source": [
        " - Square brackets are used to access the values of a list\n",
        " - We can access specific values or range of values from a list"
      ]
    },
    {
      "cell_type": "code",
      "execution_count": null,
      "metadata": {
        "id": "ZqFEZAgMyOlU",
        "outputId": "496e13ac-0a25-4896-bbb0-0f4549459522",
        "colab": {
          "base_uri": "https://localhost:8080/"
        }
      },
      "outputs": [
        {
          "output_type": "stream",
          "name": "stdout",
          "text": [
            "list1[0]:  Physics\n",
            "list2[1:5]:  [2, 3, 4, 5]\n",
            " \n",
            "newList[0] tuna\n",
            "newList[0:3] ['salmon', 'shrimp']\n"
          ]
        }
      ],
      "source": [
        "list1 = [ 'Physics' , 'Chemistry' , 1857, 3290]\n",
        "list2 = [1,2,3,4,5,6,7]\n",
        "\n",
        "print(\"list1[0]: \", list1[0])\n",
        "print(\"list2[1:5]: \", list2[1:5])"
      ]
    },
    {
      "cell_type": "markdown",
      "source": [
        "Erika"
      ],
      "metadata": {
        "id": "FyEODCt0g8xi"
      }
    },
    {
      "cell_type": "code",
      "source": [
        "#declare my own list, then print first item, then print first item to third item.\n",
        "\n",
        "newList = ['tuna', 'salmon', 'shrimp', 123, 456]\n",
        "print(\"newList[0]\", newList[0])\n",
        "print(\"newList[0:3]\", newList[0:3])"
      ],
      "metadata": {
        "colab": {
          "base_uri": "https://localhost:8080/"
        },
        "id": "qJedd-48g97B",
        "outputId": "e62d5068-bb55-434f-9d67-1261e521069e"
      },
      "execution_count": 24,
      "outputs": [
        {
          "output_type": "stream",
          "name": "stdout",
          "text": [
            "newList[0] tuna\n",
            "newList[0:3] ['tuna', 'salmon', 'shrimp']\n"
          ]
        }
      ]
    },
    {
      "cell_type": "markdown",
      "metadata": {
        "id": "Lof40-tKyOlU"
      },
      "source": [
        "### Updating list"
      ]
    },
    {
      "cell_type": "markdown",
      "metadata": {
        "id": "tWr_3OKlyOlU"
      },
      "source": [
        " - Value of string can be changed or updated by assigning a new value to it.\n",
        " - we can update single or multiple elements of a list by giving slice on left hand of the assignment operator.\n",
        " - we can also update list by using append() function."
      ]
    },
    {
      "cell_type": "code",
      "execution_count": 26,
      "metadata": {
        "id": "Mhd3MxO7yOlU",
        "colab": {
          "base_uri": "https://localhost:8080/"
        },
        "outputId": "f01a8723-ddac-4e23-ed77-f04256930b27"
      },
      "outputs": [
        {
          "output_type": "stream",
          "name": "stdout",
          "text": [
            "['dell', 'samsung', 'Apple']\n",
            "['dell', 'samsung', 'Apple', 'acer']\n"
          ]
        }
      ],
      "source": [
        "list1=[\"dell\",\"Hp\",\"Apple\"]\n",
        "list1[1]=\"samsung\"\n",
        "print(list1)\n",
        "\n",
        "list1.append('acer')\n",
        "print(list1)"
      ]
    },
    {
      "cell_type": "markdown",
      "source": [
        "Erika"
      ],
      "metadata": {
        "id": "aF-PSFyUhLHx"
      }
    },
    {
      "cell_type": "code",
      "source": [
        "#declare list, then replace second item in list with 'popcorn'.\n",
        "#then, append 'shrimp' to list.\n",
        "\n",
        "list2=[\"tuna\",\"salmon\",\"egg\"]\n",
        "list2[1]=\"popcorn\"\n",
        "print(list2)\n",
        "\n",
        "list2.append('shrimp')\n",
        "print(list2)"
      ],
      "metadata": {
        "colab": {
          "base_uri": "https://localhost:8080/"
        },
        "id": "XOdOTOcEhKjn",
        "outputId": "f671081b-5115-4dd0-9c3c-bd3edd8eda82"
      },
      "execution_count": 25,
      "outputs": [
        {
          "output_type": "stream",
          "name": "stdout",
          "text": [
            "['tuna', 'popcorn', 'egg']\n",
            "['tuna', 'popcorn', 'egg', 'shrimp']\n"
          ]
        }
      ]
    },
    {
      "cell_type": "markdown",
      "metadata": {
        "id": "QnQXtbcvyOlV"
      },
      "source": [
        "### Delete List Element"
      ]
    },
    {
      "cell_type": "markdown",
      "metadata": {
        "id": "ljz5hJNsyOlV"
      },
      "source": [
        "- we can delete the element of list by using del keyword or remove()function.\n",
        "- 'del' keyword is used when you know the position or index of element to be deleted.\n",
        "- remove() function can be used when you don't know the postion of element to be removed.\n",
        "\n",
        "  It would be cleared by using following example:"
      ]
    },
    {
      "cell_type": "code",
      "execution_count": null,
      "metadata": {
        "id": "Ird_FwvGyOlV",
        "outputId": "f8ec9e68-0b1a-4c7f-b090-ad03ec5b9056",
        "colab": {
          "base_uri": "https://localhost:8080/"
        }
      },
      "outputs": [
        {
          "output_type": "stream",
          "name": "stdout",
          "text": [
            "['dell', 'Hp', 'Apple']\n",
            "After deleting the value \n",
            "['dell', 'Apple']\n",
            " \n",
            "['tuna', 'salmon', 'egg']\n",
            "After deleting the value \n",
            "['tuna', 'egg']\n"
          ]
        }
      ],
      "source": [
        "list1=[\"dell\",\"Hp\",\"Apple\"]\n",
        "print (list1) # Prints complete list\n",
        "del list1[1]\n",
        "print(\"After deleting the value \")\n",
        "print (list1)"
      ]
    },
    {
      "cell_type": "markdown",
      "source": [
        "Erika"
      ],
      "metadata": {
        "id": "aCbk-mN9hmcy"
      }
    },
    {
      "cell_type": "code",
      "source": [
        "#delete second value in list.\n",
        "\n",
        "list2=[\"tuna\",\"salmon\",\"egg\"]\n",
        "print (list2)\n",
        "\n",
        "del list2[1]\n",
        "print(\"After deleting the value \")\n",
        "print (list2)"
      ],
      "metadata": {
        "colab": {
          "base_uri": "https://localhost:8080/"
        },
        "id": "exeGBAQPhnO5",
        "outputId": "eb98a62f-69fb-4368-cd3c-506526fa8087"
      },
      "execution_count": 27,
      "outputs": [
        {
          "output_type": "stream",
          "name": "stdout",
          "text": [
            "['tuna', 'salmon', 'egg']\n",
            "After deleting the value \n",
            "['tuna', 'egg']\n"
          ]
        }
      ]
    },
    {
      "cell_type": "code",
      "execution_count": 28,
      "metadata": {
        "id": "r1XKQfqByOlW",
        "colab": {
          "base_uri": "https://localhost:8080/"
        },
        "outputId": "49d77c33-bb5e-4e1a-d587-6eb685727c56"
      },
      "outputs": [
        {
          "output_type": "stream",
          "name": "stdout",
          "text": [
            "['dell', 'Hp', 'Apple']\n",
            "After deleting the value \n",
            "['dell', 'Apple']\n"
          ]
        }
      ],
      "source": [
        "list1=[\"dell\",\"Hp\",\"Apple\"]\n",
        "print (list1) # Prints complete list\n",
        "\n",
        "list1.remove('Hp')\n",
        "print(\"After deleting the value \")\n",
        "print (list1)"
      ]
    },
    {
      "cell_type": "markdown",
      "source": [
        "Erika"
      ],
      "metadata": {
        "id": "ftG_iBdxhtV-"
      }
    },
    {
      "cell_type": "code",
      "source": [
        "#delete item from list using remove function.\n",
        "\n",
        "list2=[\"tuna\",\"salmon\",\"egg\"]\n",
        "print (list2)\n",
        "\n",
        "list2.remove(\"salmon\")\n",
        "print(\"After deleting the value \")\n",
        "print (list2)"
      ],
      "metadata": {
        "colab": {
          "base_uri": "https://localhost:8080/"
        },
        "id": "dCBhNXcbh0zQ",
        "outputId": "9afb123e-cd75-414e-c8de-725675a49df4"
      },
      "execution_count": 29,
      "outputs": [
        {
          "output_type": "stream",
          "name": "stdout",
          "text": [
            "['tuna', 'salmon', 'egg']\n",
            "After deleting the value \n",
            "['tuna', 'egg']\n"
          ]
        }
      ]
    },
    {
      "cell_type": "markdown",
      "metadata": {
        "id": "ieu1AEWuyOlW"
      },
      "source": [
        "## 2.5 Dictionaries"
      ]
    },
    {
      "cell_type": "markdown",
      "metadata": {
        "id": "ZIgIiR-LyOlW"
      },
      "source": [
        " - Dictionary is an unordered set of key: value pairs, with the requirement that the keys are unique (within one dictionary).\n",
        " - Each key is seperated by colon(:) from its value.\n",
        " - Each item is seperated with comma(,).\n",
        " - A pair of braces creates an empty dictionary: {}.\n",
        " - Python's dictionaries are kind of hash-table type.\n",
        " - A dictionary key can be almost any Python type, but are usually numbers or strings. Values, on the other hand, can be any       arbitrary Python object.\n",
        " - Dictionaries are enclosed by curly braces ({ }) and values can be assigned and accessed using square braces ([])\n",
        " - Dictionaries have no concept of order among elements. It is incorrect to say that the elements are \"out of order\"; they are simply unordered"
      ]
    },
    {
      "cell_type": "markdown",
      "metadata": {
        "id": "GiRscnkeyOlX"
      },
      "source": [
        "## Accessing value in dictionary"
      ]
    },
    {
      "cell_type": "markdown",
      "metadata": {
        "id": "QjNY2bGNyOlY"
      },
      "source": [
        "- Square brackets [] along with the key are used to access its value.\n",
        "\n"
      ]
    },
    {
      "cell_type": "code",
      "execution_count": null,
      "metadata": {
        "id": "Ltum738yyOlY",
        "colab": {
          "base_uri": "https://localhost:8080/"
        },
        "outputId": "44219e2d-9204-4ffa-8251-cdf6634b8268"
      },
      "outputs": [
        {
          "output_type": "stream",
          "name": "stdout",
          "text": [
            "Sara\n",
            " \n",
            "Lime\n"
          ]
        }
      ],
      "source": [
        "dict1 = {'Name':\"Sara\" , \"Department\" : \"SIAT\", \"Batch\":2023}\n",
        "print(dict1['Name'])"
      ]
    },
    {
      "cell_type": "markdown",
      "source": [
        "Erika"
      ],
      "metadata": {
        "id": "osQv1GD1h8n7"
      }
    },
    {
      "cell_type": "code",
      "source": [
        "#declare my own dictionary.\n",
        "\n",
        "dict2 = {'Yellow fruit':\"Lemon\" , 'Orange fruit' : \"Orange\", 'Green fruit':\"Lime\"}\n",
        "print(dict2['Green fruit'])"
      ],
      "metadata": {
        "id": "lQUORJ7Lh8Ii"
      },
      "execution_count": null,
      "outputs": []
    },
    {
      "cell_type": "markdown",
      "metadata": {
        "id": "1bRngBK_yOlZ"
      },
      "source": [
        "### Updating Dictionary"
      ]
    },
    {
      "cell_type": "markdown",
      "metadata": {
        "id": "2TUfYqiOyOlZ"
      },
      "source": [
        "- we can update values in dictionary\n",
        "- we can also add new values in dictionary\n",
        "\n",
        "Some examples are given below:"
      ]
    },
    {
      "cell_type": "code",
      "execution_count": null,
      "metadata": {
        "id": "U621T8fWyOlZ",
        "outputId": "682143c8-e9b3-4169-8bbe-55cfc2744335",
        "colab": {
          "base_uri": "https://localhost:8080/"
        }
      },
      "outputs": [
        {
          "output_type": "stream",
          "name": "stdout",
          "text": [
            "{'Name': 'Sara', 'Department': 'SIAT', 'Batch': 2023}\n",
            "{'Name': 'Sara', 'Department': 'SIAT', 'Batch': 'S23'}\n",
            " \n",
            "{'Yellow fruit': 'Lemon', 'Orange fruit': 'Orange', 'Green fruit': 'Lime'}\n",
            "{'Yellow fruit': 'Banana', 'Orange fruit': 'Orange', 'Green fruit': 'Lime'}\n"
          ]
        }
      ],
      "source": [
        "dict1 = {'Name':\"Sara\" , \"Department\" : \"SIAT\", \"Batch\":2023}\n",
        "print(dict1)\n",
        "dict1['Batch']=\"S23\"\n",
        "print(dict1)"
      ]
    },
    {
      "cell_type": "markdown",
      "source": [
        "Erika"
      ],
      "metadata": {
        "id": "81nWKhDciBMW"
      }
    },
    {
      "cell_type": "code",
      "source": [
        "#Replace item 'yellow fruit' from 'lemon' to 'banana'\n",
        "\n",
        "dict2 = {'Yellow fruit':\"Lemon\" , 'Orange fruit' : \"Orange\", 'Green fruit':\"Lime\"}\n",
        "print(dict2)\n",
        "dict2['Yellow fruit']=\"Banana\"\n",
        "print(dict2)"
      ],
      "metadata": {
        "colab": {
          "base_uri": "https://localhost:8080/"
        },
        "id": "ioylHXskiB8Z",
        "outputId": "44229d94-3c2b-44ac-eec1-ccb69683ab91"
      },
      "execution_count": 31,
      "outputs": [
        {
          "output_type": "stream",
          "name": "stdout",
          "text": [
            "{'Yellow fruit': 'Lemon', 'Orange fruit': 'Orange', 'Green fruit': 'Lime'}\n",
            "{'Yellow fruit': 'Banana', 'Orange fruit': 'Orange', 'Green fruit': 'Lime'}\n"
          ]
        }
      ]
    },
    {
      "cell_type": "markdown",
      "metadata": {
        "id": "4KbjWOYtyOla"
      },
      "source": [
        "### Delete Dictionary element"
      ]
    },
    {
      "cell_type": "markdown",
      "metadata": {
        "id": "iABNAFIQyOla"
      },
      "source": [
        "- we can delete elements of dictionary as well as complete content of dictionary.\n",
        "- To delete single element del keyword is used.\n",
        "- clear() function  is used to remove complete dictionary.\n",
        "\n",
        " Some examples are as follows:"
      ]
    },
    {
      "cell_type": "code",
      "execution_count": null,
      "metadata": {
        "id": "vtfiXDeOyOla",
        "colab": {
          "base_uri": "https://localhost:8080/"
        },
        "outputId": "30d962c5-6c97-4652-a6c9-4a8524e4b968"
      },
      "outputs": [
        {
          "output_type": "stream",
          "name": "stdout",
          "text": [
            "{'Name': 'Sara', 'Department': 'SIAT', 'Batch': 2023}\n",
            "{'Name': 'Sara', 'Department': 'SIAT'}\n",
            " \n",
            "{'Yellow fruit': 'Lemon', 'Orange fruit': 'Orange', 'Green fruit': 'Lime'}\n",
            "{'Yellow fruit': 'Lemon', 'Orange fruit': 'Orange'}\n"
          ]
        }
      ],
      "source": [
        "dict1 = {'Name':\"Sara\" , \"Department\" : \"SIAT\", \"Batch\":2023}\n",
        "print(dict1)\n",
        "\n",
        "del dict1['Batch']\n",
        "print(dict1)"
      ]
    },
    {
      "cell_type": "markdown",
      "source": [
        "Erika"
      ],
      "metadata": {
        "id": "PloDilO0iSQo"
      }
    },
    {
      "cell_type": "code",
      "source": [
        "#delete item 'green fruit' from dictionary\n",
        "\n",
        "dict2 = {'Yellow fruit':\"Lemon\" , 'Orange fruit' : \"Orange\", 'Green fruit':\"Lime\"}\n",
        "print(dict2)\n",
        "\n",
        "del dict2['Green fruit']\n",
        "print(dict2)"
      ],
      "metadata": {
        "colab": {
          "base_uri": "https://localhost:8080/"
        },
        "id": "KwTUMlGviS31",
        "outputId": "e1082abd-667a-492d-8387-050d65f3a198"
      },
      "execution_count": 32,
      "outputs": [
        {
          "output_type": "stream",
          "name": "stdout",
          "text": [
            "{'Yellow fruit': 'Lemon', 'Orange fruit': 'Orange', 'Green fruit': 'Lime'}\n",
            "{'Yellow fruit': 'Lemon', 'Orange fruit': 'Orange'}\n"
          ]
        }
      ]
    },
    {
      "cell_type": "markdown",
      "source": [],
      "metadata": {
        "id": "3ZBE6BcyL-ru"
      }
    },
    {
      "cell_type": "code",
      "execution_count": 33,
      "metadata": {
        "id": "1GP2uAamyOla",
        "outputId": "50ce48d2-545d-40b8-824a-914ec6a9377c",
        "colab": {
          "base_uri": "https://localhost:8080/"
        }
      },
      "outputs": [
        {
          "output_type": "stream",
          "name": "stdout",
          "text": [
            "{}\n"
          ]
        }
      ],
      "source": [
        "dict1 = {'Name':\"Sara\" , \"Department\" : \"SIAT\", \"Batch\":2023}\n",
        "dict1.clear()\n",
        "print(dict1)"
      ]
    },
    {
      "cell_type": "markdown",
      "source": [
        "Erika"
      ],
      "metadata": {
        "id": "6Rwbjt_RiZnK"
      }
    },
    {
      "cell_type": "code",
      "source": [
        "#Remove all items from dictionary\n",
        "\n",
        "dict2 = {'Yellow fruit':\"Lemon\" , 'Orange fruit' : \"Orange\", 'Green fruit':\"Lime\"}\n",
        "dict2.clear()\n",
        "print(dict2)"
      ],
      "metadata": {
        "colab": {
          "base_uri": "https://localhost:8080/"
        },
        "id": "oACI_3ihiaTn",
        "outputId": "18932c19-646b-431d-fc73-07b3d8013d29"
      },
      "execution_count": 34,
      "outputs": [
        {
          "output_type": "stream",
          "name": "stdout",
          "text": [
            "{}\n"
          ]
        }
      ]
    },
    {
      "cell_type": "markdown",
      "metadata": {
        "id": "y9Uo3ISAyOlb"
      },
      "source": [
        "## 2.6 Tuples"
      ]
    },
    {
      "cell_type": "markdown",
      "metadata": {
        "id": "4iDmCoWQyOlb"
      },
      "source": [
        " - A tuple is another sequence data type that is similar to the list.\n",
        " - A tuple consists of a number of values separated by commas. Unlike lists, however, tuples are enclosed within parenthesis.\n",
        " - The main difference between lists and tuples are − Lists are enclosed in brackets ( [ ] ) and their elements and size can be  changed, while tuples are enclosed in parentheses ( ( ) ) and cannot be updated. Tuples can be thought of as read-only lists.   \n",
        " - It can also have multiple data type values.\n",
        "\n",
        "  For example:"
      ]
    },
    {
      "cell_type": "markdown",
      "metadata": {
        "id": "zFrOCg-EyOld"
      },
      "source": [
        "### Accessing values in Tuples"
      ]
    },
    {
      "cell_type": "markdown",
      "metadata": {
        "id": "TznWXoYqyOle"
      },
      "source": [
        "- Square brackets [] along with the index are used to access its value.\n"
      ]
    },
    {
      "cell_type": "code",
      "execution_count": null,
      "metadata": {
        "id": "Wz7DRYL0yOle",
        "colab": {
          "base_uri": "https://localhost:8080/"
        },
        "outputId": "ed7c2b02-ec87-4503-f5e1-a53689000391"
      },
      "outputs": [
        {
          "output_type": "stream",
          "name": "stdout",
          "text": [
            "('simon', 'sara', '20', 'saira40')\n",
            "('sara', '20')\n",
            " \n",
            "('Lemon', 'Orange', 'Lime')\n",
            "('Lemon', 'Orange')\n"
          ]
        }
      ],
      "source": [
        "tuple1 = ( 'simon','sara' , '20', 'saira40')\n",
        "\n",
        "print (tuple1)\n",
        "print(tuple1[1:3])"
      ]
    },
    {
      "cell_type": "markdown",
      "source": [
        "Erika"
      ],
      "metadata": {
        "id": "RjSQnGhjinJz"
      }
    },
    {
      "cell_type": "code",
      "source": [
        "#Delcare tuple, print full tuple, then print first two items from tuple\n",
        "\n",
        "tuple2 = (\"Lemon\" , \"Orange\", \"Lime\")\n",
        "\n",
        "print(tuple2)\n",
        "print(tuple2[0:2])"
      ],
      "metadata": {
        "colab": {
          "base_uri": "https://localhost:8080/"
        },
        "id": "FxJ4xDYSioHo",
        "outputId": "f8e5af18-2ce9-4027-f74c-caa0aec79a60"
      },
      "execution_count": 36,
      "outputs": [
        {
          "output_type": "stream",
          "name": "stdout",
          "text": [
            "('Lemon', 'Orange', 'Lime')\n",
            "('Lemon', 'Orange')\n"
          ]
        }
      ]
    },
    {
      "cell_type": "markdown",
      "metadata": {
        "id": "KG5EF_CpyOle"
      },
      "source": [
        "### Updating Tuples"
      ]
    },
    {
      "cell_type": "markdown",
      "metadata": {
        "id": "lBQXz4rTyOle"
      },
      "source": [
        "- Tuples are immutable means we cannot change the value of tuple.\n",
        "- It is read only.\n",
        "- we are able to take portions of tuples to make a new tuple."
      ]
    },
    {
      "cell_type": "code",
      "execution_count": null,
      "metadata": {
        "id": "D0VuCX12yOle",
        "colab": {
          "base_uri": "https://localhost:8080/"
        },
        "outputId": "c34f6633-a2a5-4bb1-bbda-64177bb2721d"
      },
      "outputs": [
        {
          "output_type": "stream",
          "name": "stdout",
          "text": [
            "('sun', 'mon', 'tue', 'wed', 'thur', 'fri', 'sat')\n",
            "(1, 2, 3, 4, 5, 6, 7)\n",
            "('sun', 'mon', 'tue', 'wed', 'thur', 'fri', 'sat', 1, 2, 3, 4, 5, 6, 7)\n",
            " \n",
            "('Lemon', 'Orange', 'Lime')\n",
            "('Banana', 'Apple', 'Grape')\n",
            "('Lemon', 'Orange', 'Lime', 'Banana', 'Apple', 'Grape')\n"
          ]
        }
      ],
      "source": [
        "tuple1=('sun','mon','tue','wed','thur','fri' , 'sat')\n",
        "tuple2=(1,2,3,4,5,6,7)\n",
        "print(tuple1)\n",
        "print(tuple2)\n",
        "tuple3=(tuple1+tuple2)\n",
        "print(tuple3)\n"
      ]
    },
    {
      "cell_type": "markdown",
      "source": [
        "Erika"
      ],
      "metadata": {
        "id": "fR9ndESTi5aM"
      }
    },
    {
      "cell_type": "code",
      "source": [
        "#Declare two tuples, then concatenate the tuples\n",
        "\n",
        "tuple4 = (\"Lemon\" , \"Orange\", \"Lime\")\n",
        "tuple5 = (\"Banana\" , \"Apple\", \"Grape\")\n",
        "print(tuple4)\n",
        "print(tuple5)\n",
        "\n",
        "tuple6 = (tuple4+tuple5)\n",
        "print(tuple6)"
      ],
      "metadata": {
        "colab": {
          "base_uri": "https://localhost:8080/"
        },
        "id": "3WKTwlmGi4yV",
        "outputId": "96cbdcc6-f8cc-4786-9e0f-cdf8aa7aff08"
      },
      "execution_count": 37,
      "outputs": [
        {
          "output_type": "stream",
          "name": "stdout",
          "text": [
            "('Lemon', 'Orange', 'Lime')\n",
            "('Banana', 'Apple', 'Grape')\n",
            "('Lemon', 'Orange', 'Lime', 'Banana', 'Apple', 'Grape')\n"
          ]
        }
      ]
    },
    {
      "cell_type": "markdown",
      "metadata": {
        "id": "G_5HMEUsyOlf"
      },
      "source": [
        "### Delete tuple elements"
      ]
    },
    {
      "cell_type": "markdown",
      "metadata": {
        "id": "2OuPrsgmyOlf"
      },
      "source": [
        "- we cannot delete single elements of tuple because they cannot be updated.\n",
        "- To delete entire elements del keyword is used.\n",
        "\n",
        " Some examples are as follows:"
      ]
    },
    {
      "cell_type": "code",
      "execution_count": 38,
      "metadata": {
        "id": "m3HmoQn0yOlf",
        "colab": {
          "base_uri": "https://localhost:8080/"
        },
        "outputId": "d7b2c4be-560a-456e-dcd8-2f8e151a7f04"
      },
      "outputs": [
        {
          "output_type": "stream",
          "name": "stdout",
          "text": [
            "('sun', 'mon', 'tue', 'wed', 'thur', 'fri', 'sat')\n",
            "(1, 2, 3, 4, 5, 6, 7)\n"
          ]
        }
      ],
      "source": [
        "tuple1=('sun','mon','tue','wed','thur','fri' , 'sat')\n",
        "tuple2=(1,2,3,4,5,6,7)\n",
        "print(tuple1)\n",
        "print(tuple2)\n",
        "del(tuple1)\n",
        "#print(tuple1)"
      ]
    },
    {
      "cell_type": "markdown",
      "source": [
        "Erika"
      ],
      "metadata": {
        "id": "FV09jp5xjPT2"
      }
    },
    {
      "cell_type": "code",
      "source": [
        "#Declare tuple, then delete\n",
        "#commented out last print statement to avoid error\n",
        "\n",
        "tuple4 = (\"Lemon\" , \"Orange\", \"Lime\")\n",
        "print(tuple4)\n",
        "del(tuple4)\n",
        "# print(tuple4)"
      ],
      "metadata": {
        "colab": {
          "base_uri": "https://localhost:8080/"
        },
        "id": "nIdy6H_FjLjY",
        "outputId": "9e19be7f-0166-431a-9228-d3386201fd6a"
      },
      "execution_count": 39,
      "outputs": [
        {
          "output_type": "stream",
          "name": "stdout",
          "text": [
            "('Lemon', 'Orange', 'Lime')\n"
          ]
        }
      ]
    },
    {
      "cell_type": "markdown",
      "metadata": {
        "id": "UtlBviifyOlf"
      },
      "source": [
        "# 2.7 Sets"
      ]
    },
    {
      "cell_type": "markdown",
      "metadata": {
        "id": "CGfmVIIQyOlf"
      },
      "source": [
        " - A set is an unordered collection in which each value occurs at most once.\n",
        " - You can use curly braces to give an expression whose value is a set.\n",
        " - Python prints sets using curly braces.\n",
        " - Every value in a set is immutable but the set itself is immutable we can add o remove items from it.\n",
        " - Sets can be used to perform mathematical operations like union,intersection,etc\n",
        " - Empty set will be written as {}.\n",
        " - We can also make a set from a list using set() function.\n",
        " - Data type can be found using type() function.\n",
        " - add() is used to add single value, update() is used for adding multiple values.\n",
        " - update() function can take tuple,string,list or other set as argument.\n",
        " - discard() and remove() are used to delete specific item from list.\n",
        " - discard() will not raise an error if item doesn't exist.\n",
        " - remove() will raise an error if item doesn't exist in set.\n",
        " - The cardinality of a set S is the number of elements in the set.\n",
        " - In Python, the cardinality of a set is obtained using the function len(·)."
      ]
    },
    {
      "cell_type": "code",
      "execution_count": null,
      "metadata": {
        "id": "tSGADHvTyOlf",
        "outputId": "1e15c2ed-f286-4414-f481-6ccc4f0bd72c",
        "colab": {
          "base_uri": "https://localhost:8080/",
          "height": 279
        }
      },
      "outputs": [
        {
          "output_type": "stream",
          "name": "stdout",
          "text": [
            "<class 'list'>\n",
            "<class 'set'>\n",
            "{1, 2, 3}\n",
            "{1, 2, 3, 'D', 4, 5, 'Hello'}\n"
          ]
        },
        {
          "output_type": "error",
          "ename": "KeyError",
          "evalue": "ignored",
          "traceback": [
            "\u001b[0;31m---------------------------------------------------------------------------\u001b[0m",
            "\u001b[0;31mKeyError\u001b[0m                                  Traceback (most recent call last)",
            "\u001b[0;32m<ipython-input-36-d317cecf6d5f>\u001b[0m in \u001b[0;36m<cell line: 26>\u001b[0;34m()\u001b[0m\n\u001b[1;32m     24\u001b[0m \u001b[0;34m\u001b[0m\u001b[0m\n\u001b[1;32m     25\u001b[0m \u001b[0mmy_set\u001b[0m\u001b[0;34m.\u001b[0m\u001b[0mdiscard\u001b[0m\u001b[0;34m(\u001b[0m\u001b[0;34m'G'\u001b[0m\u001b[0;34m)\u001b[0m \u001b[0;31m#it will not raise an error\u001b[0m\u001b[0;34m\u001b[0m\u001b[0;34m\u001b[0m\u001b[0m\n\u001b[0;32m---> 26\u001b[0;31m \u001b[0mmy_set\u001b[0m\u001b[0;34m.\u001b[0m\u001b[0mremove\u001b[0m\u001b[0;34m(\u001b[0m\u001b[0;34m'G'\u001b[0m\u001b[0;34m)\u001b[0m \u001b[0;31m#it will raise an error\u001b[0m\u001b[0;34m\u001b[0m\u001b[0;34m\u001b[0m\u001b[0m\n\u001b[0m",
            "\u001b[0;31mKeyError\u001b[0m: 'G'"
          ]
        }
      ],
      "source": [
        "#list\n",
        "list1=[1,2,3,4,5]\n",
        "\n",
        "print(type(list1))\n",
        "\n",
        "my_set=set(list1)\n",
        "\n",
        "print(type(my_set))\n",
        "\n",
        "#set of integers\n",
        "my_set={1,2,3}\n",
        "print(my_set)\n",
        "\n",
        "#set of mixed data types\n",
        "my_set={1, \"Hello\"}\n",
        "\n",
        "#adding a single value\n",
        "my_set.add(\"D\")\n",
        "\n",
        "#adding multiple values\n",
        "my_set.update(list1)\n",
        "print(my_set)\n",
        "\n",
        "\n",
        "my_set.discard('G') #it will not raise an error\n",
        "my_set.remove('G') #it will raise an error\n"
      ]
    },
    {
      "cell_type": "markdown",
      "source": [],
      "metadata": {
        "id": "gIZDQgBWPGnn"
      }
    },
    {
      "cell_type": "markdown",
      "metadata": {
        "id": "lJROmF7CyOlh"
      },
      "source": [
        "# 3.Comparison Operators"
      ]
    },
    {
      "cell_type": "markdown",
      "metadata": {
        "id": "l5lnkl1ZyOlh"
      },
      "source": [
        " - Comparison operators are used to compare values and return TRUE/FALSE according to the situation.\n",
        " - Python defines the following comparison operators:"
      ]
    },
    {
      "cell_type": "markdown",
      "metadata": {
        "id": "MA2F-JQ0yOli"
      },
      "source": [
        "### Less than operator  (<)"
      ]
    },
    {
      "cell_type": "code",
      "execution_count": 40,
      "metadata": {
        "id": "i1P_4GR6yOli",
        "colab": {
          "base_uri": "https://localhost:8080/"
        },
        "outputId": "910a3c8f-8bef-48bc-90aa-fa255cce40e6"
      },
      "outputs": [
        {
          "output_type": "execute_result",
          "data": {
            "text/plain": [
              "True"
            ]
          },
          "metadata": {},
          "execution_count": 40
        }
      ],
      "source": [
        "10<17"
      ]
    },
    {
      "cell_type": "markdown",
      "metadata": {
        "id": "FYt5MhnvyOli"
      },
      "source": [
        "### Less than equal to operator (<=)"
      ]
    },
    {
      "cell_type": "code",
      "execution_count": null,
      "metadata": {
        "id": "WwttsZ6xyOli",
        "colab": {
          "base_uri": "https://localhost:8080/"
        },
        "outputId": "62893c85-d400-4908-dc44-a477288e73e3"
      },
      "outputs": [
        {
          "output_type": "execute_result",
          "data": {
            "text/plain": [
              "True"
            ]
          },
          "metadata": {},
          "execution_count": 5
        }
      ],
      "source": [
        "15<=10"
      ]
    },
    {
      "cell_type": "markdown",
      "metadata": {
        "id": "YnjQrPuJyOli"
      },
      "source": [
        "### Equal to operatoe (==)"
      ]
    },
    {
      "cell_type": "code",
      "execution_count": null,
      "metadata": {
        "id": "Zls3VKhNyOlj",
        "colab": {
          "base_uri": "https://localhost:8080/"
        },
        "outputId": "7203d736-9a1b-4f90-ea09-aa72eb6bc9db"
      },
      "outputs": [
        {
          "output_type": "execute_result",
          "data": {
            "text/plain": [
              "True"
            ]
          },
          "metadata": {},
          "execution_count": 3
        }
      ],
      "source": [
        "16==16"
      ]
    },
    {
      "cell_type": "code",
      "execution_count": null,
      "metadata": {
        "id": "mbzpqO44yOlj",
        "colab": {
          "base_uri": "https://localhost:8080/"
        },
        "outputId": "45ddd0ee-fd61-4670-c4e1-d19c632d52e3"
      },
      "outputs": [
        {
          "output_type": "execute_result",
          "data": {
            "text/plain": [
              "False"
            ]
          },
          "metadata": {},
          "execution_count": 2
        }
      ],
      "source": [
        "\"Sara\"==\"sara\""
      ]
    },
    {
      "cell_type": "code",
      "execution_count": null,
      "metadata": {
        "id": "eQpj0Gz3yOlj",
        "colab": {
          "base_uri": "https://localhost:8080/"
        },
        "outputId": "6c93ec5f-fd0e-449f-8d63-ba01bbfa5a72"
      },
      "outputs": [
        {
          "output_type": "execute_result",
          "data": {
            "text/plain": [
              "True"
            ]
          },
          "metadata": {},
          "execution_count": 4
        }
      ],
      "source": [
        "\"ALI\"==\"ALI\""
      ]
    },
    {
      "cell_type": "markdown",
      "metadata": {
        "id": "ujIEI1kvyOlk"
      },
      "source": [
        "### Not equal to operator (!=)"
      ]
    },
    {
      "cell_type": "code",
      "execution_count": null,
      "metadata": {
        "id": "4WqW1oKJyOlk",
        "outputId": "148e4425-71de-4475-b3f1-ff131a52b66c",
        "colab": {
          "base_uri": "https://localhost:8080/"
        }
      },
      "outputs": [
        {
          "output_type": "execute_result",
          "data": {
            "text/plain": [
              "True"
            ]
          },
          "metadata": {},
          "execution_count": 6
        }
      ],
      "source": [
        "3!=5"
      ]
    },
    {
      "cell_type": "markdown",
      "metadata": {
        "id": "eXrhRobeyOlk"
      },
      "source": [
        "### OR Operator"
      ]
    },
    {
      "cell_type": "code",
      "execution_count": null,
      "metadata": {
        "id": "rMaG0t_4yOll",
        "colab": {
          "base_uri": "https://localhost:8080/"
        },
        "outputId": "002d8acb-5461-48d9-bca3-38909d5233b6"
      },
      "outputs": [
        {
          "output_type": "execute_result",
          "data": {
            "text/plain": [
              "True"
            ]
          },
          "metadata": {},
          "execution_count": 7
        }
      ],
      "source": [
        "(10==10)or(10<17)"
      ]
    },
    {
      "cell_type": "markdown",
      "metadata": {
        "id": "iwG7TeMXyOll"
      },
      "source": [
        "### And operator"
      ]
    },
    {
      "cell_type": "code",
      "execution_count": null,
      "metadata": {
        "id": "8YryjblByOll",
        "colab": {
          "base_uri": "https://localhost:8080/"
        },
        "outputId": "2a9a67ca-9aa2-49a5-ccdf-68b10b5dbf94"
      },
      "outputs": [
        {
          "output_type": "execute_result",
          "data": {
            "text/plain": [
              "True"
            ]
          },
          "metadata": {},
          "execution_count": 8
        }
      ],
      "source": [
        "(10==10)and (10<17)"
      ]
    },
    {
      "cell_type": "markdown",
      "source": [
        "Erika"
      ],
      "metadata": {
        "id": "y2eTYRNvk3es"
      }
    },
    {
      "cell_type": "code",
      "source": [
        "#Repeating examples from above\n",
        "\n",
        "123<456\n",
        "\n",
        "123<=456\n",
        "\n",
        "123==123\n",
        "\n",
        "123!=456\n",
        "\n",
        "(123==456) or (123<456)\n",
        "\n",
        "(12!=34)and(123>4)"
      ],
      "metadata": {
        "colab": {
          "base_uri": "https://localhost:8080/"
        },
        "id": "WVLd2BRxkMRy",
        "outputId": "71a2a731-e29d-4227-c270-5ec311f53d63"
      },
      "execution_count": 43,
      "outputs": [
        {
          "output_type": "execute_result",
          "data": {
            "text/plain": [
              "True"
            ]
          },
          "metadata": {},
          "execution_count": 43
        }
      ]
    },
    {
      "cell_type": "markdown",
      "metadata": {
        "id": "8a_cI4Z8yOll"
      },
      "source": [
        "# 4.If else statement"
      ]
    },
    {
      "cell_type": "markdown",
      "metadata": {
        "id": "R9qEq9jhyOll"
      },
      "source": [
        " - The if–else is used to make choices in Python code.\n",
        " - This is a compound statement.\n",
        " - The syntax is:\n",
        " - if c o n d i t i o n\n",
        "          action −1\n",
        "  else :\n",
        "          action −2\n",
        " - The indentation is required"
      ]
    },
    {
      "cell_type": "code",
      "execution_count": null,
      "metadata": {
        "scrolled": true,
        "id": "WBSEtB9ayOll",
        "outputId": "5315847b-ecbd-4fe0-b3df-ed97652ad6ec",
        "colab": {
          "base_uri": "https://localhost:8080/"
        }
      },
      "outputs": [
        {
          "output_type": "stream",
          "name": "stdout",
          "text": [
            "You and me could write a bad romance (oh-oh-oh-oh-oh)\n"
          ]
        }
      ],
      "source": [
        "# x = 3\n",
        "# if x > 0:\n",
        "#     print(\" sunday is wonderful\")\n",
        "# else :\n",
        "#     print(\" Monday is Good \")"
      ]
    },
    {
      "cell_type": "markdown",
      "source": [
        "Erika"
      ],
      "metadata": {
        "id": "jRvz3D9IlGE_"
      }
    },
    {
      "cell_type": "code",
      "source": [
        "#Print different strings based on if 'x1' is more than 0\n",
        "\n",
        "x1 = 123\n",
        "if x1 > 0:\n",
        "    print(\"You and me could write a bad romance (oh-oh-oh-oh-oh)\")\n",
        "else :\n",
        "    print(\"I want your love, and I want your revenge\")"
      ],
      "metadata": {
        "colab": {
          "base_uri": "https://localhost:8080/"
        },
        "id": "2QGN1axIlG3z",
        "outputId": "ba8ed667-37bf-450d-cc57-78bce55c13f8"
      },
      "execution_count": 44,
      "outputs": [
        {
          "output_type": "stream",
          "name": "stdout",
          "text": [
            "You and me could write a bad romance (oh-oh-oh-oh-oh)\n"
          ]
        }
      ]
    },
    {
      "cell_type": "code",
      "source": [
        "# if 25 % 2:\n",
        "#   print(\"Even\")\n",
        "# else:\n",
        "#   print(\"Odd\")"
      ],
      "metadata": {
        "colab": {
          "base_uri": "https://localhost:8080/"
        },
        "id": "vNZbNRhIQKYn",
        "outputId": "d98cb8e1-7686-40af-d4d2-26dea3113c34"
      },
      "execution_count": null,
      "outputs": [
        {
          "output_type": "stream",
          "name": "stdout",
          "text": [
            "Rah, rah-ah-ah-ah\n"
          ]
        }
      ]
    },
    {
      "cell_type": "markdown",
      "source": [
        "Erika"
      ],
      "metadata": {
        "id": "ta7WIIRulO1f"
      }
    },
    {
      "cell_type": "code",
      "source": [
        "#Return true or false based on whether 'bad romance' matches 'lady gaga' or not\n",
        "\n",
        "if \"bad romance\"!=\"lady gaga\":\n",
        "  print(\"Rah, rah-ah-ah-ah\")\n",
        "else:\n",
        "  print(\"Roma, roma-ma\")"
      ],
      "metadata": {
        "colab": {
          "base_uri": "https://localhost:8080/"
        },
        "id": "vvMeiSAplRKN",
        "outputId": "afb29edb-807c-44c8-d9f5-c431a8570cc3"
      },
      "execution_count": 45,
      "outputs": [
        {
          "output_type": "stream",
          "name": "stdout",
          "text": [
            "Rah, rah-ah-ah-ah\n"
          ]
        }
      ]
    },
    {
      "cell_type": "markdown",
      "metadata": {
        "id": "tX-ELcXpyOlm"
      },
      "source": [
        "# 5.For and while loop"
      ]
    },
    {
      "cell_type": "markdown",
      "metadata": {
        "id": "vHrWxmv9yOlm"
      },
      "source": [
        "- Python has for and while loop for iteration,used when we want to perfrom a specific task repeatedly."
      ]
    },
    {
      "cell_type": "markdown",
      "metadata": {
        "id": "7Cclh2veyOlm"
      },
      "source": [
        "### For loop"
      ]
    },
    {
      "cell_type": "markdown",
      "metadata": {
        "id": "T91L9EFHyOlm"
      },
      "source": [
        "- The for statement is used to iterate over the elements of a sequence.\n",
        "- It's traditionally used when you have a piece of code which you want to repeat n number of time.\n",
        "- The syntax of a for loop is:\n",
        "\n",
        "    for item in list :\n",
        "      a c t i o n\n",
        "- As usual, the action consists of one or more statements, all at the same indentation level. These statements are also known as the body of the loop. The item is a variable name, and list is a list.\n",
        "- Execution of the for loop works by setting the variable successively to each item in the list, and then executing the body each time.\n",
        "\n",
        "  Here is a simple example:"
      ]
    },
    {
      "cell_type": "code",
      "execution_count": 50,
      "metadata": {
        "id": "Kpsb7A2YyOlm"
      },
      "outputs": [],
      "source": [
        "# for i in [2 , 4 , 6 , 0]:\n",
        "#     print(i)"
      ]
    },
    {
      "cell_type": "markdown",
      "source": [
        "Erika"
      ],
      "metadata": {
        "id": "WqXXojEAlgpi"
      }
    },
    {
      "cell_type": "code",
      "source": [
        "#For each item in array, print the value\n",
        "\n",
        "for i in [\"Rah,\" , \"rah\" , \"ah\" , \"ah\", \"ah\"]:\n",
        "    print(i)"
      ],
      "metadata": {
        "colab": {
          "base_uri": "https://localhost:8080/"
        },
        "id": "3GEhBu6Ulhiw",
        "outputId": "24ced5d1-6f42-4747-c179-ca2ce316b4c2"
      },
      "execution_count": 49,
      "outputs": [
        {
          "output_type": "stream",
          "name": "stdout",
          "text": [
            "Rah,\n",
            "rah\n",
            "ah\n",
            "ah\n",
            "ah\n"
          ]
        }
      ]
    },
    {
      "cell_type": "code",
      "execution_count": 47,
      "metadata": {
        "id": "Q4ZzlHcjyOlr"
      },
      "outputs": [],
      "source": [
        "# for counter in range(1, 6):\n",
        "#     print (counter)"
      ]
    },
    {
      "cell_type": "markdown",
      "source": [
        "Erika"
      ],
      "metadata": {
        "id": "HuPWyRoTlvKf"
      }
    },
    {
      "cell_type": "code",
      "source": [
        "#Printing numbers 1 - 5 + string \"Lady Gagas\".\n",
        "#If number is 1, print \"Lady Gaga\" (singular), if not, print \"Lady Gagas\" (plural)\n",
        "\n",
        "for i in range(1, 6):\n",
        "  if i==1:\n",
        "    print(i,\"Lady Gaga\")\n",
        "  else:\n",
        "    print(i, \"Lady Gagas\")"
      ],
      "metadata": {
        "colab": {
          "base_uri": "https://localhost:8080/"
        },
        "id": "2iqAIpn5lwyV",
        "outputId": "0cb2d948-50fe-41b9-b9cb-4ab2fe0f81ae"
      },
      "execution_count": 48,
      "outputs": [
        {
          "output_type": "stream",
          "name": "stdout",
          "text": [
            "1 Lady Gaga\n",
            "2 Lady Gagas\n",
            "3 Lady Gagas\n",
            "4 Lady Gagas\n",
            "5 Lady Gagas\n"
          ]
        }
      ]
    },
    {
      "cell_type": "code",
      "execution_count": 51,
      "metadata": {
        "id": "DdTgxLwbyOls"
      },
      "outputs": [],
      "source": [
        "# word = \"sara\"\n",
        "# for letter in word:\n",
        "#     print (letter)"
      ]
    },
    {
      "cell_type": "markdown",
      "source": [
        "Erika"
      ],
      "metadata": {
        "id": "p6oxmWORl3NM"
      }
    },
    {
      "cell_type": "code",
      "source": [
        "#Set 'word' to Lady Gaga. Set enumerator to 'letter'.\n",
        "#For each letter in word 'Lady Gaga', print 'letter'.\n",
        "\n",
        "word = \"Lady Gaga\"\n",
        "for letter in word:\n",
        "    print (letter)"
      ],
      "metadata": {
        "colab": {
          "base_uri": "https://localhost:8080/"
        },
        "id": "mAJjdauPl4h-",
        "outputId": "c5f9187c-d97a-4724-b890-a7a08ba4ed0a"
      },
      "execution_count": 52,
      "outputs": [
        {
          "output_type": "stream",
          "name": "stdout",
          "text": [
            "L\n",
            "a\n",
            "d\n",
            "y\n",
            " \n",
            "G\n",
            "a\n",
            "g\n",
            "a\n"
          ]
        }
      ]
    },
    {
      "cell_type": "markdown",
      "metadata": {
        "id": "xRVaJ8yhyOlt"
      },
      "source": [
        "### While loop"
      ]
    },
    {
      "cell_type": "code",
      "source": [
        "# a=0\n",
        "# while a < 10:\n",
        "#   a=a+1\n",
        "#   print(a)"
      ],
      "metadata": {
        "id": "WfmtJZKWQsmx"
      },
      "execution_count": 53,
      "outputs": []
    },
    {
      "cell_type": "markdown",
      "source": [
        "Erika"
      ],
      "metadata": {
        "id": "viKhvzPLmADg"
      }
    },
    {
      "cell_type": "code",
      "source": [
        "#Set enumerator 'a' to 0. Set while both while loops to add 1 to 'a' per loop.\n",
        "#while 'a' is less than two, print \"rah\" times 'a'. while 'a' is less than 10, print 'ah' times 'a'.\n",
        "\n",
        "a=0\n",
        "while a < 2:\n",
        "  a=a+1\n",
        "  print(\"rah\"*a)\n",
        "while a < 10:\n",
        "  a=a+1\n",
        "  print(\"ah\"*a)"
      ],
      "metadata": {
        "colab": {
          "base_uri": "https://localhost:8080/"
        },
        "id": "TI8v7hCsl_P_",
        "outputId": "706f1035-4264-4772-a44d-0fa7d8473cc9"
      },
      "execution_count": 54,
      "outputs": [
        {
          "output_type": "stream",
          "name": "stdout",
          "text": [
            "rah\n",
            "rahrah\n",
            "ahahah\n",
            "ahahahah\n",
            "ahahahahah\n",
            "ahahahahahah\n",
            "ahahahahahahah\n",
            "ahahahahahahahah\n",
            "ahahahahahahahahah\n",
            "ahahahahahahahahahah\n"
          ]
        }
      ]
    },
    {
      "cell_type": "markdown",
      "metadata": {
        "id": "L1MwXDpdyOlv"
      },
      "source": [
        "# 6.Functions"
      ]
    },
    {
      "cell_type": "markdown",
      "metadata": {
        "id": "65xX9WZ9yOlv"
      },
      "source": [
        " - You use functions in programming to bundle a set of instructions that you want to use repeatedly or that, because of their  complexity, are better self-contained in a sub-program and called when needed.                                 \n",
        " - Function is a piece of code written to carry out a specified task.\n",
        " - There are three types of functions in Python:\n",
        " - Built-in functions, such as help() to ask for help, min() to get the minimum value, print() to print an object.\n",
        " - User-Defined Functions (UDFs), which are functions that users create to help them out.\n",
        " - Anonymous functions, which are also called lambda functions because they are not declared with the standard def keyword.\n",
        " - The syntax is:\n",
        "\n",
        "   def functionname(parameters)\n",
        "    \n",
        "   \"function_docstring\"\n",
        "   \n",
        "   function_suite\n",
        "   \n",
        "   return [expression]\n"
      ]
    },
    {
      "cell_type": "code",
      "execution_count": 55,
      "metadata": {
        "id": "6H6ReP86yOlw"
      },
      "outputs": [],
      "source": [
        "# def my_function(name):\n",
        "#   #This prints a passed string into this function\n",
        "#     print(name)\n",
        "#     return;\n",
        "\n",
        "# #Now you can call my_function\n",
        "# my_function(\"Mary\")"
      ]
    },
    {
      "cell_type": "markdown",
      "source": [
        "Erika"
      ],
      "metadata": {
        "id": "wqrSQ9cCmGn0"
      }
    },
    {
      "cell_type": "code",
      "source": [
        "#Assign function 'print_lyrics' to accept two strings as arguments,\n",
        "#then pass the lyrics to \"bad romance\" by Lady Gaga to 'print_lyrics'\n",
        "\n",
        "def print_lyrics(line1, line2):\n",
        "    print(line1, \",\", line2)\n",
        "    return;\n",
        "\n",
        "print_lyrics(\"I want your love\", \"and I want your revenge\")\n",
        "print_lyrics(\"You and me could write a bad romance\", \"(oh-oh-oh-oh-oh)\")"
      ],
      "metadata": {
        "colab": {
          "base_uri": "https://localhost:8080/"
        },
        "id": "CmAL6YdnmHtP",
        "outputId": "8c35340f-fa43-4ac0-87de-e3f7ec93ca21"
      },
      "execution_count": 56,
      "outputs": [
        {
          "output_type": "stream",
          "name": "stdout",
          "text": [
            "I want your love , and I want your revenge\n",
            "You and me could write a bad romance , (oh-oh-oh-oh-oh)\n"
          ]
        }
      ]
    },
    {
      "cell_type": "markdown",
      "metadata": {
        "id": "oZC9oo-jyOlw"
      },
      "source": [
        "# 7.Lambda Functions"
      ]
    },
    {
      "cell_type": "markdown",
      "metadata": {
        "id": "MknoTpf-yOlw"
      },
      "source": [
        " - The creation of anonymous functions at runtime,using a construct called \"lambda\"\n",
        " - A lambda function is a small anonymous function.\n",
        " - A lambda function can take any number of arguments, but can only have one expression.\n",
        " - Lambda function does not include return statement,it always contains an expression which is returned.\n",
        " - You might want to use lambdas when you don’t want to use a function twice in a program.\n",
        "\n",
        "   some examples are given:"
      ]
    },
    {
      "cell_type": "code",
      "source": [
        "#Normal Function\n",
        "# def f (x):\n",
        "#   return x**2\n",
        "# print (f(8))"
      ],
      "metadata": {
        "id": "c-GXl-L-RdIC"
      },
      "execution_count": 58,
      "outputs": []
    },
    {
      "cell_type": "markdown",
      "source": [
        "Erika"
      ],
      "metadata": {
        "id": "mnq-htcSmM2x"
      }
    },
    {
      "cell_type": "code",
      "source": [
        "#Pass 'x','y' into 'f', multiply x by y, then multiply xy by two, then print\n",
        "\n",
        "def f(x,y):\n",
        "  return x*y*2\n",
        "print (f(1,2))"
      ],
      "metadata": {
        "colab": {
          "base_uri": "https://localhost:8080/"
        },
        "id": "h8Q5jFKjmN6m",
        "outputId": "bcb5e8f7-9fa5-40a2-f300-296bb92fcd3f"
      },
      "execution_count": 57,
      "outputs": [
        {
          "output_type": "stream",
          "name": "stdout",
          "text": [
            "4\n"
          ]
        }
      ]
    },
    {
      "cell_type": "code",
      "source": [
        "# times3 = lambda var:var*3\n",
        "# times3(10)\n",
        "\n",
        "#lamba expressions : another way to write a function in line"
      ],
      "metadata": {
        "colab": {
          "base_uri": "https://localhost:8080/"
        },
        "id": "pBOo5NroR3fG",
        "outputId": "d1c705f4-c825-410c-e553-2e0ec5cc3843"
      },
      "execution_count": null,
      "outputs": [
        {
          "output_type": "execute_result",
          "data": {
            "text/plain": [
              "4"
            ]
          },
          "metadata": {},
          "execution_count": 56
        }
      ]
    },
    {
      "cell_type": "markdown",
      "source": [
        "Erika"
      ],
      "metadata": {
        "id": "7Kd0txHomR2m"
      }
    },
    {
      "cell_type": "code",
      "source": [
        "#Same function as above example, in lambda form\n",
        "\n",
        "times2 = lambda x,y:x*y*2\n",
        "times2(1,2)"
      ],
      "metadata": {
        "colab": {
          "base_uri": "https://localhost:8080/"
        },
        "id": "UD9PYs9cmSnP",
        "outputId": "a1e36a22-9270-47fd-b212-35f5dc6e5c5f"
      },
      "execution_count": 59,
      "outputs": [
        {
          "output_type": "execute_result",
          "data": {
            "text/plain": [
              "4"
            ]
          },
          "metadata": {},
          "execution_count": 59
        }
      ]
    },
    {
      "cell_type": "code",
      "execution_count": 61,
      "metadata": {
        "id": "KPDPCAjpyOlw"
      },
      "outputs": [],
      "source": [
        "# add = lambda x, y: x + y\n",
        "\n",
        "# print(add(3, 5))"
      ]
    },
    {
      "cell_type": "markdown",
      "source": [
        "Erika"
      ],
      "metadata": {
        "id": "NDwOQRkgmWo9"
      }
    },
    {
      "cell_type": "code",
      "source": [
        "#Same function as above example, in lambda form, wrapped in 'print' function\n",
        "\n",
        "times2 = lambda x,y:x*y*2\n",
        "print(times2(1,2))"
      ],
      "metadata": {
        "colab": {
          "base_uri": "https://localhost:8080/"
        },
        "id": "i5SBy0rfmX-w",
        "outputId": "e683075c-939e-4054-b7a9-f71971c8b253"
      },
      "execution_count": 60,
      "outputs": [
        {
          "output_type": "stream",
          "name": "stdout",
          "text": [
            "4\n"
          ]
        }
      ]
    },
    {
      "cell_type": "markdown",
      "metadata": {
        "id": "WVp38V0nyOlx"
      },
      "source": [
        "## 7.1 Map()"
      ]
    },
    {
      "cell_type": "markdown",
      "metadata": {
        "id": "Z0LFGyJKyOlx"
      },
      "source": [
        " - Map() function is used with two arguments.Just like: r=map(func,seq)\n",
        " - The first argument func is function name and the second is a sequence(list etc)\n",
        " - Map functions expects a function object and any number of iterables like list, dictionary, etc.\n",
        " - It executes the function_object for each element in the sequence and returns a list of the elements modified by the function  object.\n",
        "\n",
        "   Example:\n",
        "\n"
      ]
    },
    {
      "cell_type": "code",
      "execution_count": null,
      "metadata": {
        "id": "5H7aW8b1yOlx",
        "outputId": "19ee1e23-2615-4fcc-edee-d468677fd3a5",
        "colab": {
          "base_uri": "https://localhost:8080/"
        }
      },
      "outputs": [
        {
          "output_type": "execute_result",
          "data": {
            "text/plain": [
              "[2, 2, 7, 4, 3, 4]"
            ]
          },
          "metadata": {},
          "execution_count": 97
        }
      ],
      "source": [
        "sentence = \"It is raining cats and dogs\"\n",
        "words = sentence.split()\n",
        "# print(words)\n",
        "\n",
        "lengths= map(lambda word :len(word), words)\n",
        "\n",
        "list (lengths)"
      ]
    },
    {
      "cell_type": "markdown",
      "source": [
        "### **Erika Example**"
      ],
      "metadata": {
        "id": "DPn-4lV-nqw6"
      }
    },
    {
      "cell_type": "code",
      "source": [
        "#Input array of Lady Gaga songs.\n",
        "#Create \"isAlejandro\" to iterate through each item in 'songs', return true if string matches 'alejandro'\n",
        "#List if true or false.\n",
        "\n",
        "songs = [\"bad romance\", \"alejandro\", \"just dance\", \"telephone\"]\n",
        "\n",
        "isAlejandro = map(lambda i : 'alejandro' in i , songs)\n",
        "\n",
        "list (isAlejandro)"
      ],
      "metadata": {
        "colab": {
          "base_uri": "https://localhost:8080/"
        },
        "id": "Iogu5aG7nrPp",
        "outputId": "80432784-dec7-49a9-c6d5-b4a16637410a"
      },
      "execution_count": null,
      "outputs": [
        {
          "output_type": "execute_result",
          "data": {
            "text/plain": [
              "[False, True, False, False]"
            ]
          },
          "metadata": {},
          "execution_count": 96
        }
      ]
    },
    {
      "cell_type": "markdown",
      "metadata": {
        "id": "oQ458z36yOly"
      },
      "source": [
        "## 7.2 Filter()"
      ]
    },
    {
      "cell_type": "markdown",
      "metadata": {
        "id": "DklokG5fyOly"
      },
      "source": [
        " - The filter() method filters the given iterable with the help of a function that tests each element in the iterable to be true or not.\n",
        " - The syntax of filter() method is:\n",
        "      filter(function, iterable)\n",
        " - The filter() method takes two parameters:\n",
        "\n",
        "      1)function - function that tests if elements of an iterable returns true or false If None, the function defaults to Identity function - which returns false if any elements are false\n",
        "      \n",
        "      2)iterable - iterable which is to be filtered, could be sets, lists, tuples, or containers of any iterators\n",
        " - The filter() method returns an iterator that passed the function check for each element in the iterable."
      ]
    },
    {
      "cell_type": "code",
      "execution_count": null,
      "metadata": {
        "id": "zEv6KZ6SyOly",
        "colab": {
          "base_uri": "https://localhost:8080/"
        },
        "outputId": "5bf24394-f312-4343-a001-6ddbbe4c292b"
      },
      "outputs": [
        {
          "output_type": "stream",
          "name": "stdout",
          "text": [
            "a\n",
            "e\n",
            "i\n",
            "o\n"
          ]
        }
      ],
      "source": [
        "# list of alphabets\n",
        "alphabets = ['a', 'b', 'd', 'e', 'i', 'j', 'o']\n",
        "\n",
        "# function that filters vowels\n",
        "def filterVowels(alphabet):\n",
        "    vowels = ['a', 'e', 'i', 'o', 'u']\n",
        "\n",
        "    if(alphabet in vowels):\n",
        "        return True\n",
        "    else:\n",
        "        return False\n",
        "\n",
        "for i in filter(filterVowels, alphabets):\n",
        "     print(i)"
      ]
    },
    {
      "cell_type": "code",
      "execution_count": null,
      "metadata": {
        "id": "BqRYKFNbyOly",
        "colab": {
          "base_uri": "https://localhost:8080/"
        },
        "outputId": "5e086df1-7b62-4152-f5c8-f4c723d26e30"
      },
      "outputs": [
        {
          "output_type": "stream",
          "name": "stdout",
          "text": [
            "The filtered elements are:\n",
            "1\n",
            "a\n",
            "True\n",
            "0\n"
          ]
        }
      ],
      "source": [
        "# random list\n",
        "randomList = [1, 'a', 0, False, True, '0']\n",
        "\n",
        "filteredList = filter(None, randomList)\n",
        "\n",
        "print('The filtered elements are:')\n",
        "for element in filteredList:\n",
        "    print(element)"
      ]
    },
    {
      "cell_type": "code",
      "execution_count": null,
      "metadata": {
        "id": "SxEi_36LyOly",
        "colab": {
          "base_uri": "https://localhost:8080/"
        },
        "outputId": "63df1b96-dc99-439d-df2c-3444d3e78be6"
      },
      "outputs": [
        {
          "output_type": "stream",
          "name": "stdout",
          "text": [
            "18\n",
            "24\n",
            "32\n"
          ]
        }
      ],
      "source": [
        "ages = [5, 12, 17, 18, 24, 32]\n",
        "\n",
        "def myFunc(x):\n",
        "  if x < 18:\n",
        "    return False\n",
        "  else:\n",
        "    return True\n",
        "\n",
        "adults = filter(myFunc, ages)\n",
        "\n",
        "for x in adults:\n",
        "  print(x)"
      ]
    },
    {
      "cell_type": "markdown",
      "source": [
        "### **Erika example:**"
      ],
      "metadata": {
        "id": "zs3Ccj97nUAA"
      }
    },
    {
      "cell_type": "code",
      "source": [
        "#Declare string 'badRomance',\n",
        "#Define filterVowels, filter through 'badRomance' and return only the consonants,\n",
        "#Declare empty string 'bdRmnc',\n",
        "#Iterate through output of 'filterVowels' and add each consonant to empty string, and redeclare 'bdRmnc'.\n",
        "#Print final output.\n",
        "\n",
        "badRomance = \"I want your drama, the touch of your hand (hey)\"\n",
        "\n",
        "def filterVowels(lyrics):\n",
        "    vowels = ['a', 'e', 'i', 'o', 'u']\n",
        "\n",
        "    for i in lyrics:\n",
        "      if(i in vowels):\n",
        "          return False\n",
        "      else:\n",
        "          return True\n",
        "\n",
        "bdRmnc = \"\"\n",
        "for i in filter(filterVowels, badRomance):\n",
        "     bdRmnc=bdRmnc+i\n",
        "\n",
        "print(bdRmnc)"
      ],
      "metadata": {
        "colab": {
          "base_uri": "https://localhost:8080/"
        },
        "id": "fFyZUh96nNP5",
        "outputId": "1461669f-fffd-4d20-d114-281fbf3567c9"
      },
      "execution_count": null,
      "outputs": [
        {
          "output_type": "stream",
          "name": "stdout",
          "text": [
            "I wnt yr drm, th tch f yr hnd (hy)\n"
          ]
        }
      ]
    },
    {
      "cell_type": "markdown",
      "metadata": {
        "id": "ZPuRsXogyOly"
      },
      "source": [
        "# 8.File I/O"
      ]
    },
    {
      "cell_type": "markdown",
      "metadata": {
        "id": "x0jKuKHqyOly"
      },
      "source": [
        " - In this section we will cover basic I/O functions."
      ]
    },
    {
      "cell_type": "markdown",
      "metadata": {
        "id": "5RPtaY-_yOly"
      },
      "source": [
        "## Reading input from keyboard"
      ]
    },
    {
      "cell_type": "markdown",
      "metadata": {
        "id": "8SDiWf1hyOlz"
      },
      "source": [
        " -  There are two functions in Python that you can use to read data from the user:raw_input and input\n",
        " -  You can store the results from them into a variable\n",
        " -  If the input function is called, the program flow will be stopped until the user has given an input and has ended the input  with the return key. The text of the optional parameter, i.e. the prompt, will be printed on the screen.\n",
        "\n",
        " Let's have a look at the following example:"
      ]
    },
    {
      "cell_type": "code",
      "execution_count": null,
      "metadata": {
        "id": "njG09b1ayOlz",
        "colab": {
          "base_uri": "https://localhost:8080/",
          "height": 245
        },
        "outputId": "1ec0d8cf-28ef-400b-ecd1-62dd6313697a"
      },
      "outputs": [
        {
          "output_type": "error",
          "ename": "NameError",
          "evalue": "name 'raw_input' is not defined",
          "traceback": [
            "\u001b[0;31m---------------------------------------------------------------------------\u001b[0m",
            "\u001b[0;31mNameError\u001b[0m                                 Traceback (most recent call last)",
            "\u001b[0;32m<ipython-input-91-4bbbf78f68fc>\u001b[0m in \u001b[0;36m<cell line: 1>\u001b[0;34m()\u001b[0m\n\u001b[0;32m----> 1\u001b[0;31m \u001b[0mname\u001b[0m \u001b[0;34m=\u001b[0m \u001b[0mraw_input\u001b[0m\u001b[0;34m(\u001b[0m\u001b[0;34m\"What's your name? \"\u001b[0m\u001b[0;34m)\u001b[0m\u001b[0;34m\u001b[0m\u001b[0;34m\u001b[0m\u001b[0m\n\u001b[0m\u001b[1;32m      2\u001b[0m \u001b[0mprint\u001b[0m\u001b[0;34m(\u001b[0m\u001b[0;34m\"Nice to meet you \"\u001b[0m \u001b[0;34m+\u001b[0m \u001b[0mname\u001b[0m \u001b[0;34m+\u001b[0m \u001b[0;34m\"!\"\u001b[0m\u001b[0;34m)\u001b[0m\u001b[0;34m\u001b[0m\u001b[0;34m\u001b[0m\u001b[0m\n\u001b[1;32m      3\u001b[0m \u001b[0;34m\u001b[0m\u001b[0m\n\u001b[1;32m      4\u001b[0m \u001b[0martist\u001b[0m \u001b[0;34m=\u001b[0m \u001b[0mraw_input\u001b[0m\u001b[0;34m(\u001b[0m\u001b[0;34m\"Who's your favourite artist?\"\u001b[0m\u001b[0;34m)\u001b[0m\u001b[0;34m\u001b[0m\u001b[0;34m\u001b[0m\u001b[0m\n\u001b[1;32m      5\u001b[0m \u001b[0mprint\u001b[0m\u001b[0;34m(\u001b[0m\u001b[0;34m\"I like \"\u001b[0m \u001b[0;34m+\u001b[0m \u001b[0martist\u001b[0m \u001b[0;34m+\u001b[0m \u001b[0;34m\" too!\"\u001b[0m\u001b[0;34m)\u001b[0m\u001b[0;34m\u001b[0m\u001b[0;34m\u001b[0m\u001b[0m\n",
            "\u001b[0;31mNameError\u001b[0m: name 'raw_input' is not defined"
          ]
        }
      ],
      "source": [
        "name = raw_input(\"What's your name? \")\n",
        "print(\"Nice to meet you \" + name + \"!\")"
      ]
    },
    {
      "cell_type": "code",
      "execution_count": null,
      "metadata": {
        "id": "DCsRozsVyOlz"
      },
      "outputs": [],
      "source": [
        "age = raw_input(\"What's your age? \")\n",
        "print(\"your age is \" + age + \"!\")"
      ]
    },
    {
      "cell_type": "code",
      "execution_count": null,
      "metadata": {
        "scrolled": true,
        "id": "xOk3tlxnyOlz"
      },
      "outputs": [],
      "source": [
        "string=raw_input(\"enter your university....\")\n",
        "print(string)"
      ]
    },
    {
      "cell_type": "markdown",
      "source": [
        "### **Erika example:**"
      ],
      "metadata": {
        "id": "g7A7L5CUnj7d"
      }
    },
    {
      "cell_type": "code",
      "source": [
        "#Modified strings from above examples\n",
        "\n",
        "artist = raw_input(\"Who's your favourite artist?\")\n",
        "print(\"I like \" + artist + \" too!\")"
      ],
      "metadata": {
        "id": "uPTBoy0-nADn"
      },
      "execution_count": null,
      "outputs": []
    },
    {
      "cell_type": "markdown",
      "metadata": {
        "id": "zRkWgckHyOlz"
      },
      "source": [
        "## I/O From or to text file"
      ]
    },
    {
      "cell_type": "markdown",
      "metadata": {
        "id": "oxmeYQrDyOlz"
      },
      "source": [
        " - In this scenario, we will read and write to a text file.\n",
        " - we can open files in different modes."
      ]
    },
    {
      "cell_type": "markdown",
      "metadata": {
        "id": "MzGL-uTvyOlz"
      },
      "source": [
        "## Read only mode"
      ]
    },
    {
      "cell_type": "markdown",
      "metadata": {
        "id": "keQohLS-yOlz"
      },
      "source": [
        " - r opens a file in read only mode.\n",
        " - The file pointer is placed at the beginning of the file.\n",
        " - This is the default mode."
      ]
    },
    {
      "cell_type": "code",
      "execution_count": null,
      "metadata": {
        "id": "yHg4cgB0yOl0"
      },
      "outputs": [],
      "source": [
        "file = open(\"hello.txt\", \"r\")\n",
        "str=file.read();\n",
        "print(str)\n",
        "file.close()"
      ]
    },
    {
      "cell_type": "markdown",
      "source": [
        "Erika example"
      ],
      "metadata": {
        "id": "CI-H8z9Oml09"
      }
    },
    {
      "cell_type": "code",
      "source": [
        "#Open (non-existent) file in read only, then assign contents to str, then print str, then close file\n",
        "\n",
        "file = open(\"myfile.txt\", \"r\")\n",
        "str=file.read();\n",
        "\n",
        "print(str)\n",
        "\n",
        "file.close()"
      ],
      "metadata": {
        "colab": {
          "base_uri": "https://localhost:8080/",
          "height": 245
        },
        "id": "SlnDzbB1mpAW",
        "outputId": "ce767a55-ce1f-489f-ef56-e620f3446894"
      },
      "execution_count": 62,
      "outputs": [
        {
          "output_type": "error",
          "ename": "FileNotFoundError",
          "evalue": "[Errno 2] No such file or directory: 'myfile.txt'",
          "traceback": [
            "\u001b[0;31m---------------------------------------------------------------------------\u001b[0m",
            "\u001b[0;31mFileNotFoundError\u001b[0m                         Traceback (most recent call last)",
            "\u001b[0;32m<ipython-input-62-f0ff1a093b42>\u001b[0m in \u001b[0;36m<cell line: 3>\u001b[0;34m()\u001b[0m\n\u001b[1;32m      1\u001b[0m \u001b[0;31m#Open (non-existent) file in read only, then assign contents to str, then print str, then close file\u001b[0m\u001b[0;34m\u001b[0m\u001b[0;34m\u001b[0m\u001b[0m\n\u001b[1;32m      2\u001b[0m \u001b[0;34m\u001b[0m\u001b[0m\n\u001b[0;32m----> 3\u001b[0;31m \u001b[0mfile\u001b[0m \u001b[0;34m=\u001b[0m \u001b[0mopen\u001b[0m\u001b[0;34m(\u001b[0m\u001b[0;34m\"myfile.txt\"\u001b[0m\u001b[0;34m,\u001b[0m \u001b[0;34m\"r\"\u001b[0m\u001b[0;34m)\u001b[0m\u001b[0;34m\u001b[0m\u001b[0;34m\u001b[0m\u001b[0m\n\u001b[0m\u001b[1;32m      4\u001b[0m \u001b[0mstr\u001b[0m\u001b[0;34m=\u001b[0m\u001b[0mfile\u001b[0m\u001b[0;34m.\u001b[0m\u001b[0mread\u001b[0m\u001b[0;34m(\u001b[0m\u001b[0;34m)\u001b[0m\u001b[0;34m;\u001b[0m\u001b[0;34m\u001b[0m\u001b[0;34m\u001b[0m\u001b[0m\n\u001b[1;32m      5\u001b[0m \u001b[0;34m\u001b[0m\u001b[0m\n",
            "\u001b[0;31mFileNotFoundError\u001b[0m: [Errno 2] No such file or directory: 'myfile.txt'"
          ]
        }
      ]
    },
    {
      "cell_type": "markdown",
      "metadata": {
        "id": "aaldi51jyOl0"
      },
      "source": [
        "## Read and write mode"
      ]
    },
    {
      "cell_type": "markdown",
      "metadata": {
        "id": "cY4AUvQlyOl0"
      },
      "source": [
        " - r+ opens a file in read and write mode.\n",
        " - The file pointer placed at the beginning of the file"
      ]
    },
    {
      "cell_type": "code",
      "execution_count": null,
      "metadata": {
        "id": "ajwMxemAyOl0"
      },
      "outputs": [],
      "source": [
        "# Open a file\n",
        "file = open(\"hello.txt\", \"r+\")\n",
        "str = file.read(10);\n",
        "print \"Read String is : \", str\n",
        "# Close opend"
      ]
    },
    {
      "cell_type": "markdown",
      "source": [
        "Erika example"
      ],
      "metadata": {
        "id": "t80Ng9k6nTxZ"
      }
    },
    {
      "cell_type": "code",
      "source": [
        "#Open (non-existent) file in read and write mode, then assign contents to str, then print str\n",
        "\n",
        "file = open(\"myFile.txt\", \"r+\")\n",
        "str = file.read(10);\n",
        "\n",
        "print \"Read String is : \", str"
      ],
      "metadata": {
        "id": "MyapvFsDm60T"
      },
      "execution_count": null,
      "outputs": []
    },
    {
      "cell_type": "markdown",
      "metadata": {
        "id": "XE1AyUsRyOl0"
      },
      "source": [
        "## Write mode only"
      ]
    },
    {
      "cell_type": "markdown",
      "metadata": {
        "id": "MkuBNVJGyOl0"
      },
      "source": [
        " - w opens a file in write mode only.\n",
        " - Overwrites the file if the file exists. If the file does not exist, creates a new file for writing"
      ]
    },
    {
      "cell_type": "code",
      "execution_count": null,
      "metadata": {
        "id": "KGRhdassyOl0"
      },
      "outputs": [],
      "source": [
        "file = open('write.txt','w')\n",
        "file.write(\"This is the write command\")\n",
        "file.write(\"It allows us to write in a particular file\")\n",
        "file = open('write.txt','r')\n",
        "str=file.read()\n",
        "print(str)\n",
        "file.close()\n"
      ]
    },
    {
      "cell_type": "markdown",
      "source": [
        "Erika example"
      ],
      "metadata": {
        "id": "TbnE9WvqoJQt"
      }
    },
    {
      "cell_type": "code",
      "source": [
        "#Open (non-existent) file in write mode, then write two strings to file.\n",
        "\n",
        "file = open('newWrite.txt','w')\n",
        "file.write(\"Bad Romance\")\n",
        "file.write(\"by Lady Gaga\")"
      ],
      "metadata": {
        "id": "FITSiAI1oLjn"
      },
      "execution_count": null,
      "outputs": []
    },
    {
      "cell_type": "markdown",
      "metadata": {
        "id": "UNmsy8MwyOl0"
      },
      "source": [
        "## Append mode"
      ]
    },
    {
      "cell_type": "markdown",
      "metadata": {
        "id": "A9Trygn4yOl1"
      },
      "source": [
        " - a opens a file in append mode.\n",
        " - The file pointer is at the end of the file if the file exists.\n",
        " - That is, the file is in the append mode. If the file does not exist, it creates a new file for writing.\n"
      ]
    },
    {
      "cell_type": "code",
      "execution_count": null,
      "metadata": {
        "id": "d6E4BHyTyOl1"
      },
      "outputs": [],
      "source": [
        "file = open('write.txt','a')\n",
        "file.write(\"This will add this line\")\n",
        "file = open('write.txt','r')\n",
        "str=file.read()\n",
        "print(str)\n",
        "file.close()"
      ]
    },
    {
      "cell_type": "markdown",
      "source": [
        "Erika example"
      ],
      "metadata": {
        "id": "wsgcBRS-oq66"
      }
    },
    {
      "cell_type": "code",
      "source": [
        "#Open (non-existent) file in write mode, then append two strings to file.\n",
        "\n",
        "file = open('newWrite.txt','a')\n",
        "file.write(\"Bad Romance\")\n",
        "file.write(\"by Lady Gaga\")\n"
      ],
      "metadata": {
        "colab": {
          "base_uri": "https://localhost:8080/"
        },
        "id": "W_jc-fY2otR2",
        "outputId": "b9e72757-8059-44b9-d56f-3cc7d98532cc"
      },
      "execution_count": 63,
      "outputs": [
        {
          "output_type": "execute_result",
          "data": {
            "text/plain": [
              "12"
            ]
          },
          "metadata": {},
          "execution_count": 63
        }
      ]
    },
    {
      "cell_type": "markdown",
      "metadata": {
        "id": "aTFsMWYhyOl1"
      },
      "source": [
        "## Append and read mode"
      ]
    },
    {
      "cell_type": "markdown",
      "metadata": {
        "id": "ngY7ZsNVyOl1"
      },
      "source": [
        " - a+ opens a file in append and read mode.\n",
        " - The file pointer is at the end of the file if the file exists. The file opens in the append mode. If the file does not exist,    it creates a  new file for reading and writing."
      ]
    },
    {
      "cell_type": "code",
      "execution_count": null,
      "metadata": {
        "id": "DprDg-hKyOl1"
      },
      "outputs": [],
      "source": [
        "file = open('hello.txt','a+')\n",
        "file.write(\"MSCS From comsats university\")\n",
        "file.close()\n",
        "file = open('hello.txt','r')\n",
        "str=file.read()\n",
        "print(str)\n",
        "file.close()"
      ]
    },
    {
      "cell_type": "markdown",
      "source": [
        "Erika example"
      ],
      "metadata": {
        "id": "JFh86OP3o1qT"
      }
    },
    {
      "cell_type": "code",
      "source": [
        "#Open (non-existent) file in append and read mode, then append two strings to file.\n",
        "\n",
        "file = open('newWrite.txt','a+')\n",
        "file.write(\"Bad Romance\")\n",
        "file.write(\"by Lady Gaga\")"
      ],
      "metadata": {
        "id": "kMUJMS8Jo4GM"
      },
      "execution_count": null,
      "outputs": []
    },
    {
      "cell_type": "markdown",
      "metadata": {
        "id": "l3Y11euJyOl1"
      },
      "source": [
        "## File Position"
      ]
    },
    {
      "cell_type": "markdown",
      "metadata": {
        "id": "3PeRgKfOyOl1"
      },
      "source": [
        " - tells() method tells the current position within the file.\n",
        " - seek() method changes the current file method.\n",
        " - Following is the syntax for seek() method:    fileObject.seek(offset[, whence])"
      ]
    },
    {
      "cell_type": "code",
      "execution_count": null,
      "metadata": {
        "scrolled": true,
        "id": "ONseEgUhyOl2",
        "colab": {
          "base_uri": "https://localhost:8080/",
          "height": 245
        },
        "outputId": "c539ed4d-e3d8-49a6-cae6-7ed82cc64fcb"
      },
      "outputs": [
        {
          "output_type": "error",
          "ename": "FileNotFoundError",
          "evalue": "[Errno 2] No such file or directory: 'hello.txt'",
          "traceback": [
            "\u001b[0;31m---------------------------------------------------------------------------\u001b[0m",
            "\u001b[0;31mFileNotFoundError\u001b[0m                         Traceback (most recent call last)",
            "\u001b[0;32m<ipython-input-99-05fe4238c783>\u001b[0m in \u001b[0;36m<cell line: 1>\u001b[0;34m()\u001b[0m\n\u001b[0;32m----> 1\u001b[0;31m \u001b[0mf\u001b[0m \u001b[0;34m=\u001b[0m \u001b[0mopen\u001b[0m\u001b[0;34m(\u001b[0m\u001b[0;34m'hello.txt'\u001b[0m\u001b[0;34m,\u001b[0m\u001b[0;34m\"r+\"\u001b[0m\u001b[0;34m)\u001b[0m\u001b[0;34m\u001b[0m\u001b[0;34m\u001b[0m\u001b[0m\n\u001b[0m\u001b[1;32m      2\u001b[0m \u001b[0mstr\u001b[0m\u001b[0;34m=\u001b[0m\u001b[0mf\u001b[0m\u001b[0;34m.\u001b[0m\u001b[0mread\u001b[0m\u001b[0;34m(\u001b[0m\u001b[0;36m20\u001b[0m\u001b[0;34m)\u001b[0m\u001b[0;34m;\u001b[0m\u001b[0;34m\u001b[0m\u001b[0;34m\u001b[0m\u001b[0m\n\u001b[1;32m      3\u001b[0m \u001b[0mprint\u001b[0m\u001b[0;34m(\u001b[0m\u001b[0;34m\"read string is :\"\u001b[0m\u001b[0;34m,\u001b[0m\u001b[0mstr\u001b[0m\u001b[0;34m)\u001b[0m\u001b[0;34m\u001b[0m\u001b[0;34m\u001b[0m\u001b[0m\n\u001b[1;32m      4\u001b[0m \u001b[0;34m\u001b[0m\u001b[0m\n\u001b[1;32m      5\u001b[0m \u001b[0mposition\u001b[0m\u001b[0;34m=\u001b[0m\u001b[0mf\u001b[0m\u001b[0;34m.\u001b[0m\u001b[0mtell\u001b[0m\u001b[0;34m(\u001b[0m\u001b[0;34m)\u001b[0m\u001b[0;34m;\u001b[0m\u001b[0;34m\u001b[0m\u001b[0;34m\u001b[0m\u001b[0m\n",
            "\u001b[0;31mFileNotFoundError\u001b[0m: [Errno 2] No such file or directory: 'hello.txt'"
          ]
        }
      ],
      "source": [
        "f = open('hello.txt',\"r+\")\n",
        "str=f.read(20);\n",
        "print(\"read string is :\",str)\n",
        "\n",
        "position=f.tell();\n",
        "print(\"current file position is :\",position)\n",
        "\n",
        "position=f.seek(5);\n",
        "str=f.read(10);\n",
        "print(\"again read string is :\",str)\n",
        "f.close()"
      ]
    },
    {
      "cell_type": "markdown",
      "source": [
        "Erika example"
      ],
      "metadata": {
        "id": "TQDFI8rBpEv6"
      }
    },
    {
      "cell_type": "markdown",
      "metadata": {
        "id": "Tc7pA461yOl2"
      },
      "source": [
        "# 9.Pandas Introduction"
      ]
    },
    {
      "cell_type": "markdown",
      "metadata": {
        "id": "-Ua5TNpkyOl2"
      },
      "source": [
        "Pandas is an open-source Python Library providing high-performance data manipulation and analysis tool using its powerful data structures. The name Pandas is derived from the word Panel Data – an Econometrics from Multidimensional data. In 2008, developer Wes McKinney started developing pandas when in need of high performance, flexible tool for analysis of data.\n",
        "\n",
        "Prior to Pandas, Python was majorly used for data munging and preparation. It had very less contribution towards data analysis. Pandas solved this problem. Using Pandas, we can accomplish five typical steps in the processing and analysis of data, regardless of the origin of data — load, prepare, manipulate, model, and analyze.\n",
        "\n",
        "Python with Pandas is used in a wide range of fields including academic and commercial domains including finance, economics, Statistics, analytics, etc.\n",
        "\n",
        "#### Key Features of Pandas\n",
        "\n",
        "-  Fast and efficient DataFrame object with default and customized indexing.\n",
        "-  Tools for loading data into in-memory data objects from different file formats.\n",
        "-  Data alignment and integrated handling of missing data.\n",
        "-  Reshaping and pivoting of date sets.\n",
        "- Label-based slicing, indexing and subsetting of large data sets.\n",
        "- Columns from a data structure can be deleted or inserted.\n",
        "- Group by data for aggregation and transformations.\n",
        "- High performance merging and joining of data.\n",
        "- Time Series functionality.\n",
        "\n",
        "Pandas deals with the following three data structures:\n",
        "- Series\n",
        "- DataFrame\n",
        "- Panel\n",
        "\n",
        "These data structures are built on top of Numpy array, which means they are fast.\n"
      ]
    },
    {
      "cell_type": "markdown",
      "metadata": {
        "id": "7UhOYctbyOl2"
      },
      "source": [
        "# 10.Series"
      ]
    },
    {
      "cell_type": "markdown",
      "metadata": {
        "id": "F2ejGx40yOl3"
      },
      "source": [
        "- The Series is a one-dimensional array that can store various data types, including mix data types.\n",
        "- The row labels in a Series are called the index.\n",
        "- Any list, tuple and dictionary can be converted in to Series using ‘series’ method\n",
        "- Basic method to create a series: s = pd.Series(data, index = index)\n",
        "- Series is size immutable."
      ]
    },
    {
      "cell_type": "code",
      "execution_count": 72,
      "metadata": {
        "id": "zfjalz43yOl3",
        "outputId": "71025c5d-a379-453c-c9e2-9f94c0a8633d",
        "colab": {
          "base_uri": "https://localhost:8080/"
        }
      },
      "outputs": [
        {
          "output_type": "execute_result",
          "data": {
            "text/plain": [
              "0                1\n",
              "1           Lahore\n",
              "2                2\n",
              "3                3\n",
              "4    Happy Eating!\n",
              "dtype: object"
            ]
          },
          "metadata": {},
          "execution_count": 72
        }
      ],
      "source": [
        "import pandas as pd\n",
        "s = pd.Series([1, 'Lahore', 2, 3, 'Happy Eating!'])\n",
        "s"
      ]
    },
    {
      "cell_type": "markdown",
      "source": [
        "### **Erika Example**"
      ],
      "metadata": {
        "id": "XnSnwxUCoxR8"
      }
    },
    {
      "cell_type": "code",
      "source": [
        "import pandas as pd\n",
        "\n",
        "lyrics = \"Oh-oh-oh-oh-oh, oh-oh-oh-oh, oh-oh-oh\"\n",
        "splitLyrics = lyrics.split()\n",
        "\n",
        "s=pd.Series(splitLyrics)\n",
        "s"
      ],
      "metadata": {
        "colab": {
          "base_uri": "https://localhost:8080/"
        },
        "id": "Xq8fi1R_oPv7",
        "outputId": "aa1eac22-5e94-46cc-96bd-8c97ebd3dcc3"
      },
      "execution_count": null,
      "outputs": [
        {
          "output_type": "execute_result",
          "data": {
            "text/plain": [
              "0    Oh-oh-oh-oh-oh,\n",
              "1       oh-oh-oh-oh,\n",
              "2           oh-oh-oh\n",
              "dtype: object"
            ]
          },
          "metadata": {},
          "execution_count": 104
        }
      ]
    },
    {
      "cell_type": "markdown",
      "metadata": {
        "id": "dI6uBvULyOl3"
      },
      "source": [
        "## 10.1 Series creation from ndarray"
      ]
    },
    {
      "cell_type": "markdown",
      "metadata": {
        "id": "01S-Ny2HyOl3"
      },
      "source": [
        "- Index must be of same length as data. If no index is passed, it will automatically be [0, ..., len(data) - 1]"
      ]
    },
    {
      "cell_type": "code",
      "execution_count": null,
      "metadata": {
        "id": "cBjhyRc8yOl3",
        "outputId": "e237431c-bd37-4616-dff5-3d96183c8203"
      },
      "outputs": [
        {
          "name": "stdout",
          "output_type": "stream",
          "text": [
            "<class 'pandas.core.series.Series'>\n",
            "0     1\n",
            "1     2\n",
            "2     4\n",
            "3     8\n",
            "4    16\n",
            "5    32\n",
            "6    64\n",
            "dtype: int64\n"
          ]
        }
      ],
      "source": [
        "first_series = pd.Series([1,2,4,8,16,32,64])\n",
        "print(type(first_series))\n",
        "print(first_series)"
      ]
    },
    {
      "cell_type": "markdown",
      "source": [
        "### **Erika example**"
      ],
      "metadata": {
        "id": "UPMEe4KMpmSh"
      }
    },
    {
      "cell_type": "code",
      "source": [
        "#Same example as before, but with additional line to check type of 'lyrics'\n",
        "lyrics = \"Oh-oh-oh-oh-oh, oh-oh-oh-oh, oh-oh-oh\"\n",
        "splitLyrics = lyrics.split()\n",
        "s=pd.Series(splitLyrics)\n",
        "\n",
        "print(type(s))"
      ],
      "metadata": {
        "colab": {
          "base_uri": "https://localhost:8080/"
        },
        "id": "3Zv6GNL2pnMd",
        "outputId": "926c3d3f-10fa-43ab-8209-902955955fc9"
      },
      "execution_count": null,
      "outputs": [
        {
          "output_type": "stream",
          "name": "stdout",
          "text": [
            "<class 'pandas.core.series.Series'>\n"
          ]
        }
      ]
    },
    {
      "cell_type": "code",
      "execution_count": null,
      "metadata": {
        "id": "R3ZkJ1GmyOl3",
        "outputId": "75070581-635a-4cd3-d0af-d2d25a168895"
      },
      "outputs": [
        {
          "name": "stdout",
          "output_type": "stream",
          "text": [
            "a    0.559357\n",
            "b    0.362491\n",
            "c   -0.989478\n",
            "d    0.288712\n",
            "e    0.463699\n",
            "dtype: float64\n",
            "--------------------------------------------------\n",
            "Index([u'a', u'b', u'c', u'd', u'e'], dtype='object')\n"
          ]
        }
      ],
      "source": [
        "import numpy as np\n",
        "s = pd.Series(np.random.randn(5), index=['a', 'b', 'c', 'd', 'e'])\n",
        "print(s)\n",
        "print('-'*50)\n",
        "print(s.index)"
      ]
    },
    {
      "cell_type": "markdown",
      "source": [
        "### **Erika example**"
      ],
      "metadata": {
        "id": "kW7_g3MlrwPq"
      }
    },
    {
      "cell_type": "code",
      "source": [
        "#Same example as before, but assigning string indexes to 'lyrics'\n",
        "lyrics = \"Oh-oh-oh-oh-oh, oh-oh-oh-oh, oh-oh-oh\"\n",
        "splitLyrics = lyrics.split()\n",
        "\n",
        "s = pd.Series(splitLyrics, index=['a', 'b', 'c'])\n",
        "print(s)"
      ],
      "metadata": {
        "colab": {
          "base_uri": "https://localhost:8080/"
        },
        "id": "Iip1234crXav",
        "outputId": "7b43e52d-15ba-4693-81ec-25b08f41427a"
      },
      "execution_count": 74,
      "outputs": [
        {
          "output_type": "stream",
          "name": "stdout",
          "text": [
            "a    Oh-oh-oh-oh-oh,\n",
            "b       oh-oh-oh-oh,\n",
            "c           oh-oh-oh\n",
            "dtype: object\n"
          ]
        }
      ]
    },
    {
      "cell_type": "markdown",
      "metadata": {
        "id": "eMXtyavDyOl4"
      },
      "source": [
        "## 10.2 Series creation from dict"
      ]
    },
    {
      "cell_type": "markdown",
      "metadata": {
        "id": "hjoIsJ2IyOl4"
      },
      "source": [
        "- If Data is a dictionary, if index is passed the values in data corresponding to the labels in the index will be pulled out, otherwise an index will be constructed from the sorted keys of the dict."
      ]
    },
    {
      "cell_type": "code",
      "execution_count": null,
      "metadata": {
        "id": "4xrcGFoTyOl4",
        "outputId": "ac30a1e8-3fd1-4387-c066-03c7e91a023e"
      },
      "outputs": [
        {
          "data": {
            "text/plain": [
              "a    100.0\n",
              "b    200.0\n",
              "c    300.0\n",
              "dtype: float64"
            ]
          },
          "execution_count": 4,
          "metadata": {},
          "output_type": "execute_result"
        }
      ],
      "source": [
        "d = {'a': 100., 'b': 200., 'c': 300.}\n",
        "pd.Series(d)"
      ]
    },
    {
      "cell_type": "code",
      "execution_count": null,
      "metadata": {
        "id": "NkCxdZA_yOl4",
        "outputId": "f68a62be-1c5b-4124-be48-bbf94424b020"
      },
      "outputs": [
        {
          "data": {
            "text/plain": [
              "abc    1\n",
              "def    2\n",
              "xyz    3\n",
              "dtype: int64"
            ]
          },
          "execution_count": 5,
          "metadata": {},
          "output_type": "execute_result"
        }
      ],
      "source": [
        "data = {'abc': 1, 'def': 2, 'xyz': 3}\n",
        "pd.Series(data)"
      ]
    },
    {
      "cell_type": "markdown",
      "source": [
        "### **Erika**"
      ],
      "metadata": {
        "id": "qgwqOI6P4itF"
      }
    },
    {
      "cell_type": "code",
      "source": [
        "#Return dictionary 'lyrics' as series\n",
        "\n",
        "lyrics = {'Caught':5, 'in':4, 'a':3, 'bad':2, 'romance':1}\n",
        "pd.Series(lyrics)"
      ],
      "metadata": {
        "colab": {
          "base_uri": "https://localhost:8080/"
        },
        "id": "Z5Bl5jaZ4iNr",
        "outputId": "f6013b11-15a2-47a0-9091-0860836dd4b3"
      },
      "execution_count": 81,
      "outputs": [
        {
          "output_type": "execute_result",
          "data": {
            "text/plain": [
              "Caught     5\n",
              "in         4\n",
              "a          3\n",
              "bad        2\n",
              "romance    1\n",
              "dtype: int64"
            ]
          },
          "metadata": {},
          "execution_count": 81
        }
      ]
    },
    {
      "cell_type": "markdown",
      "metadata": {
        "id": "H2MRRj99yOl4"
      },
      "source": [
        "## 10.3 Series creation from a scalar value"
      ]
    },
    {
      "cell_type": "markdown",
      "metadata": {
        "id": "KsGGOv8WyOl4"
      },
      "source": [
        "- Index must be provided. The value will be repeated to match the length of the index"
      ]
    },
    {
      "cell_type": "code",
      "execution_count": null,
      "metadata": {
        "id": "b6Nk_rYGyOl4",
        "outputId": "9d7b590d-b585-4a3d-808b-fed9ce69ee9e"
      },
      "outputs": [
        {
          "data": {
            "text/plain": [
              "a    5\n",
              "b    5\n",
              "c    5\n",
              "dtype: int64"
            ]
          },
          "execution_count": 6,
          "metadata": {},
          "output_type": "execute_result"
        }
      ],
      "source": [
        "pd.Series(5, index = ['a', 'b', 'c'])"
      ]
    },
    {
      "cell_type": "code",
      "execution_count": null,
      "metadata": {
        "id": "e6o_vTGqyOl5",
        "outputId": "97c4db3e-7ba2-4969-9c6d-b6e3ee2e20d8"
      },
      "outputs": [
        {
          "data": {
            "text/plain": [
              "a    3\n",
              "b    3\n",
              "c    3\n",
              "d    3\n",
              "dtype: int64"
            ]
          },
          "execution_count": 7,
          "metadata": {},
          "output_type": "execute_result"
        }
      ],
      "source": [
        " x = pd.Series(3, index=['a', 'b', 'c', 'd'])\n",
        "x"
      ]
    },
    {
      "cell_type": "markdown",
      "source": [
        "### **Erika example**"
      ],
      "metadata": {
        "id": "sr-oA6gP5HTW"
      }
    },
    {
      "cell_type": "code",
      "source": [
        "#Assign index lady gaga\n",
        "\n",
        "pd.Series(2, index = ['Lady', 'Gaga'])"
      ],
      "metadata": {
        "colab": {
          "base_uri": "https://localhost:8080/"
        },
        "id": "q9PnSkJN47dN",
        "outputId": "5e74d73e-5e4f-4ecc-b080-373d980ec521"
      },
      "execution_count": 80,
      "outputs": [
        {
          "output_type": "execute_result",
          "data": {
            "text/plain": [
              "Lady    2\n",
              "Gaga    2\n",
              "dtype: int64"
            ]
          },
          "metadata": {},
          "execution_count": 80
        }
      ]
    },
    {
      "cell_type": "markdown",
      "metadata": {
        "id": "0friS_53yOl5"
      },
      "source": [
        "## 10.4 Series is ndarray-like"
      ]
    },
    {
      "cell_type": "markdown",
      "metadata": {
        "id": "Brz5h-cpyOl5"
      },
      "source": [
        "- Series acts similar to a numpy array, and is valid arguments to most numpy functions.\n",
        "- Slicing also slices the index\n",
        "- Short Intro, back to this later\n"
      ]
    },
    {
      "cell_type": "code",
      "execution_count": null,
      "metadata": {
        "id": "IqC55bSIyOl5",
        "outputId": "f48584a4-43aa-4577-9246-f36a75397ee9"
      },
      "outputs": [
        {
          "name": "stdout",
          "output_type": "stream",
          "text": [
            "a    0.045078\n",
            "b    0.391752\n",
            "c   -0.065646\n",
            "d   -0.468091\n",
            "e    0.070352\n",
            "dtype: float64\n"
          ]
        }
      ],
      "source": [
        "s = pd.Series(np.random.randn(5), index=['a', 'b', 'c', 'd', 'e'])\n",
        "print(s)"
      ]
    },
    {
      "cell_type": "code",
      "execution_count": null,
      "metadata": {
        "id": "nSsIdb_YyOl5",
        "outputId": "f1670697-4d7f-42f9-e24b-42c1a61f039f"
      },
      "outputs": [
        {
          "ename": "TypeError",
          "evalue": "unhashable type: 'list'",
          "output_type": "error",
          "traceback": [
            "\u001b[1;31m---------------------------------------------------------------------------\u001b[0m",
            "\u001b[1;31mTypeError\u001b[0m                                 Traceback (most recent call last)",
            "\u001b[1;32m<ipython-input-72-f08cb25730d8>\u001b[0m in \u001b[0;36m<module>\u001b[1;34m()\u001b[0m\n\u001b[0;32m      1\u001b[0m \u001b[0ms\u001b[0m \u001b[1;33m=\u001b[0m \u001b[0mpd\u001b[0m\u001b[1;33m.\u001b[0m\u001b[0mSeries\u001b[0m\u001b[1;33m(\u001b[0m\u001b[0mnp\u001b[0m\u001b[1;33m.\u001b[0m\u001b[0mrandom\u001b[0m\u001b[1;33m.\u001b[0m\u001b[0mrandn\u001b[0m\u001b[1;33m(\u001b[0m\u001b[1;36m5\u001b[0m\u001b[1;33m)\u001b[0m\u001b[1;33m,\u001b[0m \u001b[0mindex\u001b[0m\u001b[1;33m=\u001b[0m\u001b[1;33m[\u001b[0m\u001b[1;34m'a'\u001b[0m\u001b[1;33m,\u001b[0m \u001b[1;34m'b'\u001b[0m\u001b[1;33m,\u001b[0m \u001b[1;34m'c'\u001b[0m\u001b[1;33m,\u001b[0m \u001b[1;34m'd'\u001b[0m\u001b[1;33m,\u001b[0m \u001b[1;34m'e'\u001b[0m\u001b[1;33m]\u001b[0m\u001b[1;33m)\u001b[0m\u001b[1;33m\u001b[0m\u001b[0m\n\u001b[1;32m----> 2\u001b[1;33m \u001b[1;32mprint\u001b[0m\u001b[1;33m(\u001b[0m\u001b[0ms\u001b[0m\u001b[1;33m.\u001b[0m\u001b[0miloc\u001b[0m\u001b[1;33m(\u001b[0m\u001b[1;33m[\u001b[0m\u001b[1;36m2\u001b[0m\u001b[1;33m,\u001b[0m\u001b[1;36m1\u001b[0m\u001b[1;33m,\u001b[0m\u001b[1;36m4\u001b[0m\u001b[1;33m]\u001b[0m\u001b[1;33m)\u001b[0m\u001b[1;33m)\u001b[0m\u001b[1;33m\u001b[0m\u001b[0m\n\u001b[0m",
            "\u001b[1;32mD:\\python\\lib\\site-packages\\pandas\\core\\indexing.pyc\u001b[0m in \u001b[0;36m__call__\u001b[1;34m(self, axis)\u001b[0m\n\u001b[0;32m    100\u001b[0m \u001b[1;33m\u001b[0m\u001b[0m\n\u001b[0;32m    101\u001b[0m         \u001b[1;32mif\u001b[0m \u001b[0maxis\u001b[0m \u001b[1;32mis\u001b[0m \u001b[1;32mnot\u001b[0m \u001b[0mNone\u001b[0m\u001b[1;33m:\u001b[0m\u001b[1;33m\u001b[0m\u001b[0m\n\u001b[1;32m--> 102\u001b[1;33m             \u001b[0maxis\u001b[0m \u001b[1;33m=\u001b[0m \u001b[0mself\u001b[0m\u001b[1;33m.\u001b[0m\u001b[0mobj\u001b[0m\u001b[1;33m.\u001b[0m\u001b[0m_get_axis_number\u001b[0m\u001b[1;33m(\u001b[0m\u001b[0maxis\u001b[0m\u001b[1;33m)\u001b[0m\u001b[1;33m\u001b[0m\u001b[0m\n\u001b[0m\u001b[0;32m    103\u001b[0m         \u001b[0mnew_self\u001b[0m\u001b[1;33m.\u001b[0m\u001b[0maxis\u001b[0m \u001b[1;33m=\u001b[0m \u001b[0maxis\u001b[0m\u001b[1;33m\u001b[0m\u001b[0m\n\u001b[0;32m    104\u001b[0m         \u001b[1;32mreturn\u001b[0m \u001b[0mnew_self\u001b[0m\u001b[1;33m\u001b[0m\u001b[0m\n",
            "\u001b[1;32mD:\\python\\lib\\site-packages\\pandas\\core\\generic.pyc\u001b[0m in \u001b[0;36m_get_axis_number\u001b[1;34m(cls, axis)\u001b[0m\n\u001b[0;32m    349\u001b[0m     \u001b[1;33m@\u001b[0m\u001b[0mclassmethod\u001b[0m\u001b[1;33m\u001b[0m\u001b[0m\n\u001b[0;32m    350\u001b[0m     \u001b[1;32mdef\u001b[0m \u001b[0m_get_axis_number\u001b[0m\u001b[1;33m(\u001b[0m\u001b[0mcls\u001b[0m\u001b[1;33m,\u001b[0m \u001b[0maxis\u001b[0m\u001b[1;33m)\u001b[0m\u001b[1;33m:\u001b[0m\u001b[1;33m\u001b[0m\u001b[0m\n\u001b[1;32m--> 351\u001b[1;33m         \u001b[0maxis\u001b[0m \u001b[1;33m=\u001b[0m \u001b[0mcls\u001b[0m\u001b[1;33m.\u001b[0m\u001b[0m_AXIS_ALIASES\u001b[0m\u001b[1;33m.\u001b[0m\u001b[0mget\u001b[0m\u001b[1;33m(\u001b[0m\u001b[0maxis\u001b[0m\u001b[1;33m,\u001b[0m \u001b[0maxis\u001b[0m\u001b[1;33m)\u001b[0m\u001b[1;33m\u001b[0m\u001b[0m\n\u001b[0m\u001b[0;32m    352\u001b[0m         \u001b[1;32mif\u001b[0m \u001b[0mis_integer\u001b[0m\u001b[1;33m(\u001b[0m\u001b[0maxis\u001b[0m\u001b[1;33m)\u001b[0m\u001b[1;33m:\u001b[0m\u001b[1;33m\u001b[0m\u001b[0m\n\u001b[0;32m    353\u001b[0m             \u001b[1;32mif\u001b[0m \u001b[0maxis\u001b[0m \u001b[1;32min\u001b[0m \u001b[0mcls\u001b[0m\u001b[1;33m.\u001b[0m\u001b[0m_AXIS_NAMES\u001b[0m\u001b[1;33m:\u001b[0m\u001b[1;33m\u001b[0m\u001b[0m\n",
            "\u001b[1;31mTypeError\u001b[0m: unhashable type: 'list'"
          ]
        }
      ],
      "source": [
        "s = pd.Series(np.random.randn(5), index=['a', 'b', 'c', 'd', 'e'])\n",
        "print(s.iloc([2,1,4]))"
      ]
    },
    {
      "cell_type": "code",
      "execution_count": null,
      "metadata": {
        "id": "53e1vgcQyOl6",
        "outputId": "769d5f9b-9a36-4e1d-b5a7-3cc33e69f153"
      },
      "outputs": [
        {
          "name": "stdout",
          "output_type": "stream",
          "text": [
            "a   -0.227998\n",
            "b    0.738016\n",
            "c    1.740076\n",
            "dtype: float64\n"
          ]
        }
      ],
      "source": [
        "s = pd.Series(np.random.randn(5), index=['a', 'b', 'c', 'd', 'e'])\n",
        "print(s[:3])"
      ]
    },
    {
      "cell_type": "code",
      "execution_count": null,
      "metadata": {
        "id": "TqGKKQbqyOl6",
        "outputId": "449b75b7-7e39-473b-ec56-a07335de35fc"
      },
      "outputs": [
        {
          "name": "stdout",
          "output_type": "stream",
          "text": [
            "d    0.659163\n",
            "c    0.038482\n",
            "b    0.071420\n",
            "dtype: float64\n"
          ]
        }
      ],
      "source": [
        "s = pd.Series(np.random.randn(5), index=['a', 'b', 'c', 'd', 'e'])\n",
        "print(s[[3,2,1]])"
      ]
    },
    {
      "cell_type": "code",
      "execution_count": null,
      "metadata": {
        "id": "3wxQHxy6yOl6",
        "outputId": "90757dfd-e469-48fb-a557-0485a46aae3b"
      },
      "outputs": [
        {
          "data": {
            "text/plain": [
              "a    0.353877\n",
              "b    0.151906\n",
              "c    4.624260\n",
              "d    0.832004\n",
              "e    1.734511\n",
              "dtype: float64"
            ]
          },
          "execution_count": 11,
          "metadata": {},
          "output_type": "execute_result"
        }
      ],
      "source": [
        "s = pd.Series(np.random.randn(5), index=['a', 'b', 'c', 'd', 'e'])\n",
        "np.exp(s)"
      ]
    },
    {
      "cell_type": "code",
      "execution_count": null,
      "metadata": {
        "id": "5iUQfdUhyOl6",
        "outputId": "4a61bec1-1fb1-4b63-ddfa-ad570aaac42b"
      },
      "outputs": [
        {
          "data": {
            "text/plain": [
              "-0.04321504853792073"
            ]
          },
          "execution_count": 12,
          "metadata": {},
          "output_type": "execute_result"
        }
      ],
      "source": [
        "s = pd.Series(np.random.randn(5), index=['a', 'b', 'c', 'd', 'e'])\n",
        "s['b']"
      ]
    },
    {
      "cell_type": "code",
      "execution_count": null,
      "metadata": {
        "id": "UDDwezMayOl6",
        "outputId": "070ebe27-4b55-466c-8840-cdbac139cdc6"
      },
      "outputs": [
        {
          "data": {
            "text/plain": [
              "a    -1.089450\n",
              "b    12.000000\n",
              "c    -0.415381\n",
              "d    -1.272492\n",
              "e    -0.096899\n",
              "dtype: float64"
            ]
          },
          "execution_count": 13,
          "metadata": {},
          "output_type": "execute_result"
        }
      ],
      "source": [
        "s = pd.Series(np.random.randn(5), index=['a', 'b', 'c', 'd', 'e'])\n",
        "s['b']=12.\n",
        "s"
      ]
    },
    {
      "cell_type": "code",
      "execution_count": null,
      "metadata": {
        "id": "k_XnicdVyOl7",
        "outputId": "502ccae4-b0dd-44ef-f6b7-8f07a0fb0676"
      },
      "outputs": [
        {
          "data": {
            "text/plain": [
              "True"
            ]
          },
          "execution_count": 14,
          "metadata": {},
          "output_type": "execute_result"
        }
      ],
      "source": [
        "s = pd.Series(np.random.randn(5), index=['a', 'b', 'c', 'd', 'e'])\n",
        "'e' in s"
      ]
    },
    {
      "cell_type": "code",
      "execution_count": null,
      "metadata": {
        "id": "uMCSf_Y2yOl7",
        "outputId": "fe949d5a-0b4b-47d6-8aa3-56bfc443168d"
      },
      "outputs": [
        {
          "data": {
            "text/plain": [
              "False"
            ]
          },
          "execution_count": 15,
          "metadata": {},
          "output_type": "execute_result"
        }
      ],
      "source": [
        "s = pd.Series(np.random.randn(5), index=['a', 'b', 'c', 'd', 'e'])\n",
        "'f' in s"
      ]
    },
    {
      "cell_type": "markdown",
      "metadata": {
        "id": "FFBYK173yOl7"
      },
      "source": [
        "## 10.5 Series is dict-like"
      ]
    },
    {
      "cell_type": "markdown",
      "metadata": {
        "id": "D63HP5uryOl7"
      },
      "source": [
        "- A Series is like a xed-size dict in that you can get and set values by index label\n"
      ]
    },
    {
      "cell_type": "code",
      "execution_count": null,
      "metadata": {
        "id": "vaoksIR6yOl7",
        "outputId": "f12cfa24-d9d5-4762-d392-33f32ba1de22"
      },
      "outputs": [
        {
          "data": {
            "text/plain": [
              "{0L: 1L, 1L: 2L, 2L: 3L, 3L: 4L}"
            ]
          },
          "execution_count": 16,
          "metadata": {},
          "output_type": "execute_result"
        }
      ],
      "source": [
        "s = pd.Series([1, 2, 3, 4])\n",
        "s.to_dict()"
      ]
    },
    {
      "cell_type": "markdown",
      "source": [
        "### **Erika example**"
      ],
      "metadata": {
        "id": "nf5oyj5OrMsw"
      }
    },
    {
      "cell_type": "code",
      "source": [
        "#Make splitLyrics a dictionary\n",
        "\n",
        "lyrics = \"Oh-oh-oh-oh-oh, oh-oh-oh-oh, oh-oh-oh\"\n",
        "splitLyrics = lyrics.split()\n",
        "\n",
        "s = pd.Series(splitLyrics, index=['a', 'b', 'c'])\n",
        "s.to_dict()"
      ],
      "metadata": {
        "colab": {
          "base_uri": "https://localhost:8080/"
        },
        "id": "cvmY-zYkrRXH",
        "outputId": "cc8edd22-1d4c-47d7-a92b-4e92a760eda5"
      },
      "execution_count": 77,
      "outputs": [
        {
          "output_type": "execute_result",
          "data": {
            "text/plain": [
              "{'a': 'Oh-oh-oh-oh-oh,', 'b': 'oh-oh-oh-oh,', 'c': 'oh-oh-oh'}"
            ]
          },
          "metadata": {},
          "execution_count": 77
        }
      ]
    },
    {
      "cell_type": "markdown",
      "metadata": {
        "id": "180ETyUjyOl8"
      },
      "source": [
        "## 10.6 Vectorized operations and label alignment with Series"
      ]
    },
    {
      "cell_type": "markdown",
      "metadata": {
        "id": "KCB-XKkvyOl8"
      },
      "source": [
        "- When doing data analysis,as with the row NumPy arrays looping through series value by value is usually not necessary.\n",
        "- Series can also be passed into most NumPy method expecting an ndarray.\n",
        "- NumPy and Pandas generalize arithmetic operations so that we can easily and quickly perform the same operation on many array elements. For example:"
      ]
    },
    {
      "cell_type": "code",
      "execution_count": 65,
      "metadata": {
        "id": "yb9MTS7uyOl8",
        "colab": {
          "base_uri": "https://localhost:8080/"
        },
        "outputId": "e6c9bb37-a66f-4909-c16a-6d912cfaf8c7"
      },
      "outputs": [
        {
          "output_type": "execute_result",
          "data": {
            "text/plain": [
              "array([ 4,  6, 10, 14, 22, 26])"
            ]
          },
          "metadata": {},
          "execution_count": 65
        }
      ],
      "source": [
        "import numpy as np\n",
        "x = np.array([2, 3, 5, 7, 11, 13])\n",
        "x * 2"
      ]
    },
    {
      "cell_type": "code",
      "execution_count": 64,
      "metadata": {
        "id": "T0XjCey7yOl8",
        "colab": {
          "base_uri": "https://localhost:8080/"
        },
        "outputId": "d113b9b8-4976-467d-ef4a-1fd816a614cc"
      },
      "outputs": [
        {
          "output_type": "execute_result",
          "data": {
            "text/plain": [
              "['Saima', 'Aisha', 'Faiza', 'Saira']"
            ]
          },
          "metadata": {},
          "execution_count": 64
        }
      ],
      "source": [
        "data = ['saima', 'aisha', 'faiza', 'saira']\n",
        "[s.capitalize() for s in data]"
      ]
    },
    {
      "cell_type": "markdown",
      "source": [
        "### **Erika example**"
      ],
      "metadata": {
        "id": "YcMLtB_-qWqX"
      }
    },
    {
      "cell_type": "code",
      "source": [
        "#Check is each item in 'ladygaga' is in lowercase, return true or false\n",
        "\n",
        "ladygaga = ['Lady', 'gaga']\n",
        "[x.islower() for x in ladygaga]"
      ],
      "metadata": {
        "colab": {
          "base_uri": "https://localhost:8080/"
        },
        "id": "392CanIIqZ6E",
        "outputId": "69aa8728-a75e-42d4-bdb5-05c12a6b8ade"
      },
      "execution_count": 79,
      "outputs": [
        {
          "output_type": "execute_result",
          "data": {
            "text/plain": [
              "[False, True]"
            ]
          },
          "metadata": {},
          "execution_count": 79
        }
      ]
    },
    {
      "cell_type": "markdown",
      "metadata": {
        "id": "bpxpEP8EyOl8"
      },
      "source": [
        "# 11.Data Frames"
      ]
    },
    {
      "cell_type": "markdown",
      "metadata": {
        "id": "8BXIK4ggyOl8"
      },
      "source": [
        "- A DataFrame is a two dimensional object that can have columns with potential different types. Different kind of inputs include dictionaries, lists, series, and even another DataFrame.\n",
        "- It is the most commonly used pandas object.\n",
        "- You can create a series from:\n",
        "    - Dict of 1D ndarrays, lists, dicts, or Series\n",
        "    - 2-D numpy array\n",
        "    - A list of dictionaries\n",
        "    - A Series\n",
        "    - Another Dataframe\n",
        "  \n",
        "- index/ columns is a list of the row/ column labels. If you pass an index and/ or columns, you are guarenteeing the index and /or column of the df.\n",
        "- If you do not pass anything in, the input will be constructed by \"common sense\" rules"
      ]
    },
    {
      "cell_type": "code",
      "execution_count": null,
      "metadata": {
        "id": "1J32JzcfyOl8",
        "colab": {
          "base_uri": "https://localhost:8080/"
        },
        "outputId": "22bd5348-7936-441d-9299-6008ee443729"
      },
      "outputs": [
        {
          "output_type": "execute_result",
          "data": {
            "text/plain": [
              "DatetimeIndex(['2013-01-01', '2013-01-02', '2013-01-03', '2013-01-04',\n",
              "               '2013-01-05', '2013-01-06'],\n",
              "              dtype='datetime64[ns]', freq='D')"
            ]
          },
          "metadata": {},
          "execution_count": 115
        }
      ],
      "source": [
        "dates = pd.date_range('20130101',periods=6)\n",
        "dates"
      ]
    },
    {
      "cell_type": "markdown",
      "source": [
        "### **Erika example**"
      ],
      "metadata": {
        "id": "KzP_aWuv9gSe"
      }
    },
    {
      "cell_type": "code",
      "source": [
        "#Took example, changed dates and periods\n",
        "\n",
        "dates = pd.date_range('20240120',periods=9)\n",
        "dates"
      ],
      "metadata": {
        "colab": {
          "base_uri": "https://localhost:8080/"
        },
        "id": "1kX8FRVK9Pzz",
        "outputId": "fa189ee0-11ee-43df-fb06-7facd6909737"
      },
      "execution_count": null,
      "outputs": [
        {
          "output_type": "execute_result",
          "data": {
            "text/plain": [
              "DatetimeIndex(['2024-01-20', '2024-01-21', '2024-01-22', '2024-01-23',\n",
              "               '2024-01-24', '2024-01-25', '2024-01-26', '2024-01-27',\n",
              "               '2024-01-28'],\n",
              "              dtype='datetime64[ns]', freq='D')"
            ]
          },
          "metadata": {},
          "execution_count": 125
        }
      ]
    },
    {
      "cell_type": "markdown",
      "metadata": {
        "id": "4p-RjZzryOl9"
      },
      "source": [
        "## 11.1 Dataframe creation from dict of series or dicts"
      ]
    },
    {
      "cell_type": "markdown",
      "metadata": {
        "id": "TwildvJwyOl9"
      },
      "source": [
        " - The index of the resulting DataFrame will be the union of the indices of the various Series. If there are any nested dicts, these will be converted to Series.\n",
        " - If no columns are passed, the columns will be the sorted list of dict keys."
      ]
    },
    {
      "cell_type": "code",
      "execution_count": null,
      "metadata": {
        "id": "jMeigrnSyOl9",
        "outputId": "c364db12-e3b8-4920-a4e3-22d783300e9d"
      },
      "outputs": [
        {
          "name": "stdout",
          "output_type": "stream",
          "text": [
            "   one  two\n",
            "a  1.0    0\n",
            "b  2.0    1\n",
            "c  3.0    2\n",
            "d  NaN    3\n"
          ]
        }
      ],
      "source": [
        "# Create a dictionary of series\n",
        "d = {'one': pd.Series([1,2,3], index = ['a', 'b', 'c']),\n",
        "'two': pd.Series(list(range(4)), index = ['a','b', 'c', 'd'])}\n",
        "# Columns are dictionary keys, indices and values obtained from series\n",
        "df = pd.DataFrame(d)\n",
        "# Notice how it fills the column one with NaN for d\n",
        "print(df)"
      ]
    },
    {
      "cell_type": "code",
      "execution_count": null,
      "metadata": {
        "id": "TUxXLngayOl-",
        "outputId": "39322feb-696b-4ca9-cb17-52d7d1aa3b11"
      },
      "outputs": [
        {
          "data": {
            "text/html": [
              "<div>\n",
              "<style scoped>\n",
              "    .dataframe tbody tr th:only-of-type {\n",
              "        vertical-align: middle;\n",
              "    }\n",
              "\n",
              "    .dataframe tbody tr th {\n",
              "        vertical-align: top;\n",
              "    }\n",
              "\n",
              "    .dataframe thead th {\n",
              "        text-align: right;\n",
              "    }\n",
              "</style>\n",
              "<table border=\"1\" class=\"dataframe\">\n",
              "  <thead>\n",
              "    <tr style=\"text-align: right;\">\n",
              "      <th></th>\n",
              "      <th>col1</th>\n",
              "      <th>col2</th>\n",
              "    </tr>\n",
              "  </thead>\n",
              "  <tbody>\n",
              "    <tr>\n",
              "      <th>0</th>\n",
              "      <td>1</td>\n",
              "      <td>3</td>\n",
              "    </tr>\n",
              "    <tr>\n",
              "      <th>1</th>\n",
              "      <td>2</td>\n",
              "      <td>4</td>\n",
              "    </tr>\n",
              "  </tbody>\n",
              "</table>\n",
              "</div>"
            ],
            "text/plain": [
              "   col1  col2\n",
              "0     1     3\n",
              "1     2     4"
            ]
          },
          "execution_count": 18,
          "metadata": {},
          "output_type": "execute_result"
        }
      ],
      "source": [
        " d = {'col1': [1, 2], 'col2': [3, 4]}\n",
        " df = pd.DataFrame(data=d)\n",
        " df"
      ]
    },
    {
      "cell_type": "markdown",
      "source": [
        "### **Erika example**"
      ],
      "metadata": {
        "id": "O3GxKr1I-P8d"
      }
    },
    {
      "cell_type": "code",
      "source": [
        " #Using above example, plugged 'bad romance' lyrics into columns\n",
        "\n",
        " d = {'Rah': pd.Series(['Rah','rah','ah'], index = [1,2,3]),\n",
        "'Roma': pd.Series(['Roma','roma','ma'], index = [1,2,3])}\n",
        " df = pd.DataFrame(d)\n",
        " df"
      ],
      "metadata": {
        "colab": {
          "base_uri": "https://localhost:8080/",
          "height": 143
        },
        "id": "LzX3ovpN-Qnc",
        "outputId": "88054d77-0d9e-47b8-e5b3-64a99d85ae05"
      },
      "execution_count": null,
      "outputs": [
        {
          "output_type": "execute_result",
          "data": {
            "text/plain": [
              "   Rah  Roma\n",
              "1  Rah  Roma\n",
              "2  rah  roma\n",
              "3   ah    ma"
            ],
            "text/html": [
              "\n",
              "  <div id=\"df-9c2c3069-2f8e-43da-87f3-0fcac07ea8d0\" class=\"colab-df-container\">\n",
              "    <div>\n",
              "<style scoped>\n",
              "    .dataframe tbody tr th:only-of-type {\n",
              "        vertical-align: middle;\n",
              "    }\n",
              "\n",
              "    .dataframe tbody tr th {\n",
              "        vertical-align: top;\n",
              "    }\n",
              "\n",
              "    .dataframe thead th {\n",
              "        text-align: right;\n",
              "    }\n",
              "</style>\n",
              "<table border=\"1\" class=\"dataframe\">\n",
              "  <thead>\n",
              "    <tr style=\"text-align: right;\">\n",
              "      <th></th>\n",
              "      <th>Rah</th>\n",
              "      <th>Roma</th>\n",
              "    </tr>\n",
              "  </thead>\n",
              "  <tbody>\n",
              "    <tr>\n",
              "      <th>1</th>\n",
              "      <td>Rah</td>\n",
              "      <td>Roma</td>\n",
              "    </tr>\n",
              "    <tr>\n",
              "      <th>2</th>\n",
              "      <td>rah</td>\n",
              "      <td>roma</td>\n",
              "    </tr>\n",
              "    <tr>\n",
              "      <th>3</th>\n",
              "      <td>ah</td>\n",
              "      <td>ma</td>\n",
              "    </tr>\n",
              "  </tbody>\n",
              "</table>\n",
              "</div>\n",
              "    <div class=\"colab-df-buttons\">\n",
              "\n",
              "  <div class=\"colab-df-container\">\n",
              "    <button class=\"colab-df-convert\" onclick=\"convertToInteractive('df-9c2c3069-2f8e-43da-87f3-0fcac07ea8d0')\"\n",
              "            title=\"Convert this dataframe to an interactive table.\"\n",
              "            style=\"display:none;\">\n",
              "\n",
              "  <svg xmlns=\"http://www.w3.org/2000/svg\" height=\"24px\" viewBox=\"0 -960 960 960\">\n",
              "    <path d=\"M120-120v-720h720v720H120Zm60-500h600v-160H180v160Zm220 220h160v-160H400v160Zm0 220h160v-160H400v160ZM180-400h160v-160H180v160Zm440 0h160v-160H620v160ZM180-180h160v-160H180v160Zm440 0h160v-160H620v160Z\"/>\n",
              "  </svg>\n",
              "    </button>\n",
              "\n",
              "  <style>\n",
              "    .colab-df-container {\n",
              "      display:flex;\n",
              "      gap: 12px;\n",
              "    }\n",
              "\n",
              "    .colab-df-convert {\n",
              "      background-color: #E8F0FE;\n",
              "      border: none;\n",
              "      border-radius: 50%;\n",
              "      cursor: pointer;\n",
              "      display: none;\n",
              "      fill: #1967D2;\n",
              "      height: 32px;\n",
              "      padding: 0 0 0 0;\n",
              "      width: 32px;\n",
              "    }\n",
              "\n",
              "    .colab-df-convert:hover {\n",
              "      background-color: #E2EBFA;\n",
              "      box-shadow: 0px 1px 2px rgba(60, 64, 67, 0.3), 0px 1px 3px 1px rgba(60, 64, 67, 0.15);\n",
              "      fill: #174EA6;\n",
              "    }\n",
              "\n",
              "    .colab-df-buttons div {\n",
              "      margin-bottom: 4px;\n",
              "    }\n",
              "\n",
              "    [theme=dark] .colab-df-convert {\n",
              "      background-color: #3B4455;\n",
              "      fill: #D2E3FC;\n",
              "    }\n",
              "\n",
              "    [theme=dark] .colab-df-convert:hover {\n",
              "      background-color: #434B5C;\n",
              "      box-shadow: 0px 1px 3px 1px rgba(0, 0, 0, 0.15);\n",
              "      filter: drop-shadow(0px 1px 2px rgba(0, 0, 0, 0.3));\n",
              "      fill: #FFFFFF;\n",
              "    }\n",
              "  </style>\n",
              "\n",
              "    <script>\n",
              "      const buttonEl =\n",
              "        document.querySelector('#df-9c2c3069-2f8e-43da-87f3-0fcac07ea8d0 button.colab-df-convert');\n",
              "      buttonEl.style.display =\n",
              "        google.colab.kernel.accessAllowed ? 'block' : 'none';\n",
              "\n",
              "      async function convertToInteractive(key) {\n",
              "        const element = document.querySelector('#df-9c2c3069-2f8e-43da-87f3-0fcac07ea8d0');\n",
              "        const dataTable =\n",
              "          await google.colab.kernel.invokeFunction('convertToInteractive',\n",
              "                                                    [key], {});\n",
              "        if (!dataTable) return;\n",
              "\n",
              "        const docLinkHtml = 'Like what you see? Visit the ' +\n",
              "          '<a target=\"_blank\" href=https://colab.research.google.com/notebooks/data_table.ipynb>data table notebook</a>'\n",
              "          + ' to learn more about interactive tables.';\n",
              "        element.innerHTML = '';\n",
              "        dataTable['output_type'] = 'display_data';\n",
              "        await google.colab.output.renderOutput(dataTable, element);\n",
              "        const docLink = document.createElement('div');\n",
              "        docLink.innerHTML = docLinkHtml;\n",
              "        element.appendChild(docLink);\n",
              "      }\n",
              "    </script>\n",
              "  </div>\n",
              "\n",
              "\n",
              "<div id=\"df-944141f9-fd4e-4066-9fe0-7e7490e48bb6\">\n",
              "  <button class=\"colab-df-quickchart\" onclick=\"quickchart('df-944141f9-fd4e-4066-9fe0-7e7490e48bb6')\"\n",
              "            title=\"Suggest charts\"\n",
              "            style=\"display:none;\">\n",
              "\n",
              "<svg xmlns=\"http://www.w3.org/2000/svg\" height=\"24px\"viewBox=\"0 0 24 24\"\n",
              "     width=\"24px\">\n",
              "    <g>\n",
              "        <path d=\"M19 3H5c-1.1 0-2 .9-2 2v14c0 1.1.9 2 2 2h14c1.1 0 2-.9 2-2V5c0-1.1-.9-2-2-2zM9 17H7v-7h2v7zm4 0h-2V7h2v10zm4 0h-2v-4h2v4z\"/>\n",
              "    </g>\n",
              "</svg>\n",
              "  </button>\n",
              "\n",
              "<style>\n",
              "  .colab-df-quickchart {\n",
              "      --bg-color: #E8F0FE;\n",
              "      --fill-color: #1967D2;\n",
              "      --hover-bg-color: #E2EBFA;\n",
              "      --hover-fill-color: #174EA6;\n",
              "      --disabled-fill-color: #AAA;\n",
              "      --disabled-bg-color: #DDD;\n",
              "  }\n",
              "\n",
              "  [theme=dark] .colab-df-quickchart {\n",
              "      --bg-color: #3B4455;\n",
              "      --fill-color: #D2E3FC;\n",
              "      --hover-bg-color: #434B5C;\n",
              "      --hover-fill-color: #FFFFFF;\n",
              "      --disabled-bg-color: #3B4455;\n",
              "      --disabled-fill-color: #666;\n",
              "  }\n",
              "\n",
              "  .colab-df-quickchart {\n",
              "    background-color: var(--bg-color);\n",
              "    border: none;\n",
              "    border-radius: 50%;\n",
              "    cursor: pointer;\n",
              "    display: none;\n",
              "    fill: var(--fill-color);\n",
              "    height: 32px;\n",
              "    padding: 0;\n",
              "    width: 32px;\n",
              "  }\n",
              "\n",
              "  .colab-df-quickchart:hover {\n",
              "    background-color: var(--hover-bg-color);\n",
              "    box-shadow: 0 1px 2px rgba(60, 64, 67, 0.3), 0 1px 3px 1px rgba(60, 64, 67, 0.15);\n",
              "    fill: var(--button-hover-fill-color);\n",
              "  }\n",
              "\n",
              "  .colab-df-quickchart-complete:disabled,\n",
              "  .colab-df-quickchart-complete:disabled:hover {\n",
              "    background-color: var(--disabled-bg-color);\n",
              "    fill: var(--disabled-fill-color);\n",
              "    box-shadow: none;\n",
              "  }\n",
              "\n",
              "  .colab-df-spinner {\n",
              "    border: 2px solid var(--fill-color);\n",
              "    border-color: transparent;\n",
              "    border-bottom-color: var(--fill-color);\n",
              "    animation:\n",
              "      spin 1s steps(1) infinite;\n",
              "  }\n",
              "\n",
              "  @keyframes spin {\n",
              "    0% {\n",
              "      border-color: transparent;\n",
              "      border-bottom-color: var(--fill-color);\n",
              "      border-left-color: var(--fill-color);\n",
              "    }\n",
              "    20% {\n",
              "      border-color: transparent;\n",
              "      border-left-color: var(--fill-color);\n",
              "      border-top-color: var(--fill-color);\n",
              "    }\n",
              "    30% {\n",
              "      border-color: transparent;\n",
              "      border-left-color: var(--fill-color);\n",
              "      border-top-color: var(--fill-color);\n",
              "      border-right-color: var(--fill-color);\n",
              "    }\n",
              "    40% {\n",
              "      border-color: transparent;\n",
              "      border-right-color: var(--fill-color);\n",
              "      border-top-color: var(--fill-color);\n",
              "    }\n",
              "    60% {\n",
              "      border-color: transparent;\n",
              "      border-right-color: var(--fill-color);\n",
              "    }\n",
              "    80% {\n",
              "      border-color: transparent;\n",
              "      border-right-color: var(--fill-color);\n",
              "      border-bottom-color: var(--fill-color);\n",
              "    }\n",
              "    90% {\n",
              "      border-color: transparent;\n",
              "      border-bottom-color: var(--fill-color);\n",
              "    }\n",
              "  }\n",
              "</style>\n",
              "\n",
              "  <script>\n",
              "    async function quickchart(key) {\n",
              "      const quickchartButtonEl =\n",
              "        document.querySelector('#' + key + ' button');\n",
              "      quickchartButtonEl.disabled = true;  // To prevent multiple clicks.\n",
              "      quickchartButtonEl.classList.add('colab-df-spinner');\n",
              "      try {\n",
              "        const charts = await google.colab.kernel.invokeFunction(\n",
              "            'suggestCharts', [key], {});\n",
              "      } catch (error) {\n",
              "        console.error('Error during call to suggestCharts:', error);\n",
              "      }\n",
              "      quickchartButtonEl.classList.remove('colab-df-spinner');\n",
              "      quickchartButtonEl.classList.add('colab-df-quickchart-complete');\n",
              "    }\n",
              "    (() => {\n",
              "      let quickchartButtonEl =\n",
              "        document.querySelector('#df-944141f9-fd4e-4066-9fe0-7e7490e48bb6 button');\n",
              "      quickchartButtonEl.style.display =\n",
              "        google.colab.kernel.accessAllowed ? 'block' : 'none';\n",
              "    })();\n",
              "  </script>\n",
              "</div>\n",
              "\n",
              "  <div id=\"id_0287370a-50d5-4eb5-8c28-44be05f127c3\">\n",
              "    <style>\n",
              "      .colab-df-generate {\n",
              "        background-color: #E8F0FE;\n",
              "        border: none;\n",
              "        border-radius: 50%;\n",
              "        cursor: pointer;\n",
              "        display: none;\n",
              "        fill: #1967D2;\n",
              "        height: 32px;\n",
              "        padding: 0 0 0 0;\n",
              "        width: 32px;\n",
              "      }\n",
              "\n",
              "      .colab-df-generate:hover {\n",
              "        background-color: #E2EBFA;\n",
              "        box-shadow: 0px 1px 2px rgba(60, 64, 67, 0.3), 0px 1px 3px 1px rgba(60, 64, 67, 0.15);\n",
              "        fill: #174EA6;\n",
              "      }\n",
              "\n",
              "      [theme=dark] .colab-df-generate {\n",
              "        background-color: #3B4455;\n",
              "        fill: #D2E3FC;\n",
              "      }\n",
              "\n",
              "      [theme=dark] .colab-df-generate:hover {\n",
              "        background-color: #434B5C;\n",
              "        box-shadow: 0px 1px 3px 1px rgba(0, 0, 0, 0.15);\n",
              "        filter: drop-shadow(0px 1px 2px rgba(0, 0, 0, 0.3));\n",
              "        fill: #FFFFFF;\n",
              "      }\n",
              "    </style>\n",
              "    <button class=\"colab-df-generate\" onclick=\"generateWithVariable('df')\"\n",
              "            title=\"Generate code using this dataframe.\"\n",
              "            style=\"display:none;\">\n",
              "\n",
              "  <svg xmlns=\"http://www.w3.org/2000/svg\" height=\"24px\"viewBox=\"0 0 24 24\"\n",
              "       width=\"24px\">\n",
              "    <path d=\"M7,19H8.4L18.45,9,17,7.55,7,17.6ZM5,21V16.75L18.45,3.32a2,2,0,0,1,2.83,0l1.4,1.43a1.91,1.91,0,0,1,.58,1.4,1.91,1.91,0,0,1-.58,1.4L9.25,21ZM18.45,9,17,7.55Zm-12,3A5.31,5.31,0,0,0,4.9,8.1,5.31,5.31,0,0,0,1,6.5,5.31,5.31,0,0,0,4.9,4.9,5.31,5.31,0,0,0,6.5,1,5.31,5.31,0,0,0,8.1,4.9,5.31,5.31,0,0,0,12,6.5,5.46,5.46,0,0,0,6.5,12Z\"/>\n",
              "  </svg>\n",
              "    </button>\n",
              "    <script>\n",
              "      (() => {\n",
              "      const buttonEl =\n",
              "        document.querySelector('#id_0287370a-50d5-4eb5-8c28-44be05f127c3 button.colab-df-generate');\n",
              "      buttonEl.style.display =\n",
              "        google.colab.kernel.accessAllowed ? 'block' : 'none';\n",
              "\n",
              "      buttonEl.onclick = () => {\n",
              "        google.colab.notebook.generateWithVariable('df');\n",
              "      }\n",
              "      })();\n",
              "    </script>\n",
              "  </div>\n",
              "\n",
              "    </div>\n",
              "  </div>\n"
            ]
          },
          "metadata": {},
          "execution_count": 131
        }
      ]
    },
    {
      "cell_type": "markdown",
      "metadata": {
        "id": "mvK2GFyByOl-"
      },
      "source": [
        "## 11.2  Dataframe creation from dict of ndarrays/lists"
      ]
    },
    {
      "cell_type": "markdown",
      "metadata": {
        "id": "UGb600_WyOl-"
      },
      "source": [
        " - The ndarrays must all be the same length.\n",
        " - If an index is passed, it must clearly also be the same length as the arrays. If no index is passed, the result will be range(n), where n is the array length."
      ]
    },
    {
      "cell_type": "code",
      "execution_count": null,
      "metadata": {
        "id": "6bNw6BszyOl-",
        "outputId": "711d7827-e11d-4936-86e4-928f78f5e2b3"
      },
      "outputs": [
        {
          "data": {
            "text/html": [
              "<div>\n",
              "<style scoped>\n",
              "    .dataframe tbody tr th:only-of-type {\n",
              "        vertical-align: middle;\n",
              "    }\n",
              "\n",
              "    .dataframe tbody tr th {\n",
              "        vertical-align: top;\n",
              "    }\n",
              "\n",
              "    .dataframe thead th {\n",
              "        text-align: right;\n",
              "    }\n",
              "</style>\n",
              "<table border=\"1\" class=\"dataframe\">\n",
              "  <thead>\n",
              "    <tr style=\"text-align: right;\">\n",
              "      <th></th>\n",
              "      <th>one</th>\n",
              "      <th>two</th>\n",
              "    </tr>\n",
              "  </thead>\n",
              "  <tbody>\n",
              "    <tr>\n",
              "      <th>0</th>\n",
              "      <td>1.0</td>\n",
              "      <td>4.0</td>\n",
              "    </tr>\n",
              "    <tr>\n",
              "      <th>1</th>\n",
              "      <td>2.0</td>\n",
              "      <td>3.0</td>\n",
              "    </tr>\n",
              "    <tr>\n",
              "      <th>2</th>\n",
              "      <td>3.0</td>\n",
              "      <td>2.0</td>\n",
              "    </tr>\n",
              "    <tr>\n",
              "      <th>3</th>\n",
              "      <td>4.0</td>\n",
              "      <td>1.0</td>\n",
              "    </tr>\n",
              "  </tbody>\n",
              "</table>\n",
              "</div>"
            ],
            "text/plain": [
              "   one  two\n",
              "0  1.0  4.0\n",
              "1  2.0  3.0\n",
              "2  3.0  2.0\n",
              "3  4.0  1.0"
            ]
          },
          "execution_count": 19,
          "metadata": {},
          "output_type": "execute_result"
        }
      ],
      "source": [
        "d = {'one' : [1., 2., 3., 4.], 'two' : [4., 3., 2., 1.]}\n",
        "pd.DataFrame(d)"
      ]
    },
    {
      "cell_type": "code",
      "execution_count": null,
      "metadata": {
        "id": "40LfkQw_yOl-",
        "outputId": "13763f1a-7c4e-499c-a481-21cf0eb83d93"
      },
      "outputs": [
        {
          "data": {
            "text/html": [
              "<div>\n",
              "<style scoped>\n",
              "    .dataframe tbody tr th:only-of-type {\n",
              "        vertical-align: middle;\n",
              "    }\n",
              "\n",
              "    .dataframe tbody tr th {\n",
              "        vertical-align: top;\n",
              "    }\n",
              "\n",
              "    .dataframe thead th {\n",
              "        text-align: right;\n",
              "    }\n",
              "</style>\n",
              "<table border=\"1\" class=\"dataframe\">\n",
              "  <thead>\n",
              "    <tr style=\"text-align: right;\">\n",
              "      <th></th>\n",
              "      <th>a</th>\n",
              "      <th>b</th>\n",
              "      <th>c</th>\n",
              "      <th>d</th>\n",
              "      <th>e</th>\n",
              "    </tr>\n",
              "  </thead>\n",
              "  <tbody>\n",
              "    <tr>\n",
              "      <th>0</th>\n",
              "      <td>4</td>\n",
              "      <td>7</td>\n",
              "      <td>6</td>\n",
              "      <td>3</td>\n",
              "      <td>1</td>\n",
              "    </tr>\n",
              "    <tr>\n",
              "      <th>1</th>\n",
              "      <td>7</td>\n",
              "      <td>1</td>\n",
              "      <td>7</td>\n",
              "      <td>7</td>\n",
              "      <td>4</td>\n",
              "    </tr>\n",
              "    <tr>\n",
              "      <th>2</th>\n",
              "      <td>1</td>\n",
              "      <td>0</td>\n",
              "      <td>3</td>\n",
              "      <td>8</td>\n",
              "      <td>0</td>\n",
              "    </tr>\n",
              "    <tr>\n",
              "      <th>3</th>\n",
              "      <td>3</td>\n",
              "      <td>0</td>\n",
              "      <td>9</td>\n",
              "      <td>5</td>\n",
              "      <td>1</td>\n",
              "    </tr>\n",
              "    <tr>\n",
              "      <th>4</th>\n",
              "      <td>0</td>\n",
              "      <td>3</td>\n",
              "      <td>2</td>\n",
              "      <td>3</td>\n",
              "      <td>9</td>\n",
              "    </tr>\n",
              "  </tbody>\n",
              "</table>\n",
              "</div>"
            ],
            "text/plain": [
              "   a  b  c  d  e\n",
              "0  4  7  6  3  1\n",
              "1  7  1  7  7  4\n",
              "2  1  0  3  8  0\n",
              "3  3  0  9  5  1\n",
              "4  0  3  2  3  9"
            ]
          },
          "execution_count": 20,
          "metadata": {},
          "output_type": "execute_result"
        }
      ],
      "source": [
        "df2 = pd.DataFrame(np.random.randint(low=0, high=10, size=(5, 5)), columns=['a', 'b', 'c', 'd', 'e'])\n",
        "df2"
      ]
    },
    {
      "cell_type": "markdown",
      "source": [
        "### **Erika example**"
      ],
      "metadata": {
        "id": "7dRiIpfWAXxC"
      }
    },
    {
      "cell_type": "code",
      "source": [
        " #Replicated my previous example, as all items are of the same type (string).\n",
        "\n",
        " d = {'Rah': pd.Series(['Rah','rah','ah'], index = [1,2,3]),\n",
        "'Roma': pd.Series(['Roma','roma','ma'], index = [1,2,3])}\n",
        " df = pd.DataFrame(d)\n",
        " df"
      ],
      "metadata": {
        "colab": {
          "base_uri": "https://localhost:8080/",
          "height": 143
        },
        "id": "shLclDMkAXME",
        "outputId": "d6d2c6bb-836d-42fd-cfe9-fbd1ddf4808f"
      },
      "execution_count": null,
      "outputs": [
        {
          "output_type": "execute_result",
          "data": {
            "text/plain": [
              "   Rah  Roma\n",
              "1  Rah  Roma\n",
              "2  rah  roma\n",
              "3   ah    ma"
            ],
            "text/html": [
              "\n",
              "  <div id=\"df-8acd37db-d72e-41e6-b003-23afb365fa2a\" class=\"colab-df-container\">\n",
              "    <div>\n",
              "<style scoped>\n",
              "    .dataframe tbody tr th:only-of-type {\n",
              "        vertical-align: middle;\n",
              "    }\n",
              "\n",
              "    .dataframe tbody tr th {\n",
              "        vertical-align: top;\n",
              "    }\n",
              "\n",
              "    .dataframe thead th {\n",
              "        text-align: right;\n",
              "    }\n",
              "</style>\n",
              "<table border=\"1\" class=\"dataframe\">\n",
              "  <thead>\n",
              "    <tr style=\"text-align: right;\">\n",
              "      <th></th>\n",
              "      <th>Rah</th>\n",
              "      <th>Roma</th>\n",
              "    </tr>\n",
              "  </thead>\n",
              "  <tbody>\n",
              "    <tr>\n",
              "      <th>1</th>\n",
              "      <td>Rah</td>\n",
              "      <td>Roma</td>\n",
              "    </tr>\n",
              "    <tr>\n",
              "      <th>2</th>\n",
              "      <td>rah</td>\n",
              "      <td>roma</td>\n",
              "    </tr>\n",
              "    <tr>\n",
              "      <th>3</th>\n",
              "      <td>ah</td>\n",
              "      <td>ma</td>\n",
              "    </tr>\n",
              "  </tbody>\n",
              "</table>\n",
              "</div>\n",
              "    <div class=\"colab-df-buttons\">\n",
              "\n",
              "  <div class=\"colab-df-container\">\n",
              "    <button class=\"colab-df-convert\" onclick=\"convertToInteractive('df-8acd37db-d72e-41e6-b003-23afb365fa2a')\"\n",
              "            title=\"Convert this dataframe to an interactive table.\"\n",
              "            style=\"display:none;\">\n",
              "\n",
              "  <svg xmlns=\"http://www.w3.org/2000/svg\" height=\"24px\" viewBox=\"0 -960 960 960\">\n",
              "    <path d=\"M120-120v-720h720v720H120Zm60-500h600v-160H180v160Zm220 220h160v-160H400v160Zm0 220h160v-160H400v160ZM180-400h160v-160H180v160Zm440 0h160v-160H620v160ZM180-180h160v-160H180v160Zm440 0h160v-160H620v160Z\"/>\n",
              "  </svg>\n",
              "    </button>\n",
              "\n",
              "  <style>\n",
              "    .colab-df-container {\n",
              "      display:flex;\n",
              "      gap: 12px;\n",
              "    }\n",
              "\n",
              "    .colab-df-convert {\n",
              "      background-color: #E8F0FE;\n",
              "      border: none;\n",
              "      border-radius: 50%;\n",
              "      cursor: pointer;\n",
              "      display: none;\n",
              "      fill: #1967D2;\n",
              "      height: 32px;\n",
              "      padding: 0 0 0 0;\n",
              "      width: 32px;\n",
              "    }\n",
              "\n",
              "    .colab-df-convert:hover {\n",
              "      background-color: #E2EBFA;\n",
              "      box-shadow: 0px 1px 2px rgba(60, 64, 67, 0.3), 0px 1px 3px 1px rgba(60, 64, 67, 0.15);\n",
              "      fill: #174EA6;\n",
              "    }\n",
              "\n",
              "    .colab-df-buttons div {\n",
              "      margin-bottom: 4px;\n",
              "    }\n",
              "\n",
              "    [theme=dark] .colab-df-convert {\n",
              "      background-color: #3B4455;\n",
              "      fill: #D2E3FC;\n",
              "    }\n",
              "\n",
              "    [theme=dark] .colab-df-convert:hover {\n",
              "      background-color: #434B5C;\n",
              "      box-shadow: 0px 1px 3px 1px rgba(0, 0, 0, 0.15);\n",
              "      filter: drop-shadow(0px 1px 2px rgba(0, 0, 0, 0.3));\n",
              "      fill: #FFFFFF;\n",
              "    }\n",
              "  </style>\n",
              "\n",
              "    <script>\n",
              "      const buttonEl =\n",
              "        document.querySelector('#df-8acd37db-d72e-41e6-b003-23afb365fa2a button.colab-df-convert');\n",
              "      buttonEl.style.display =\n",
              "        google.colab.kernel.accessAllowed ? 'block' : 'none';\n",
              "\n",
              "      async function convertToInteractive(key) {\n",
              "        const element = document.querySelector('#df-8acd37db-d72e-41e6-b003-23afb365fa2a');\n",
              "        const dataTable =\n",
              "          await google.colab.kernel.invokeFunction('convertToInteractive',\n",
              "                                                    [key], {});\n",
              "        if (!dataTable) return;\n",
              "\n",
              "        const docLinkHtml = 'Like what you see? Visit the ' +\n",
              "          '<a target=\"_blank\" href=https://colab.research.google.com/notebooks/data_table.ipynb>data table notebook</a>'\n",
              "          + ' to learn more about interactive tables.';\n",
              "        element.innerHTML = '';\n",
              "        dataTable['output_type'] = 'display_data';\n",
              "        await google.colab.output.renderOutput(dataTable, element);\n",
              "        const docLink = document.createElement('div');\n",
              "        docLink.innerHTML = docLinkHtml;\n",
              "        element.appendChild(docLink);\n",
              "      }\n",
              "    </script>\n",
              "  </div>\n",
              "\n",
              "\n",
              "<div id=\"df-cdfb829b-3593-4eac-b630-8411ff08b5b1\">\n",
              "  <button class=\"colab-df-quickchart\" onclick=\"quickchart('df-cdfb829b-3593-4eac-b630-8411ff08b5b1')\"\n",
              "            title=\"Suggest charts\"\n",
              "            style=\"display:none;\">\n",
              "\n",
              "<svg xmlns=\"http://www.w3.org/2000/svg\" height=\"24px\"viewBox=\"0 0 24 24\"\n",
              "     width=\"24px\">\n",
              "    <g>\n",
              "        <path d=\"M19 3H5c-1.1 0-2 .9-2 2v14c0 1.1.9 2 2 2h14c1.1 0 2-.9 2-2V5c0-1.1-.9-2-2-2zM9 17H7v-7h2v7zm4 0h-2V7h2v10zm4 0h-2v-4h2v4z\"/>\n",
              "    </g>\n",
              "</svg>\n",
              "  </button>\n",
              "\n",
              "<style>\n",
              "  .colab-df-quickchart {\n",
              "      --bg-color: #E8F0FE;\n",
              "      --fill-color: #1967D2;\n",
              "      --hover-bg-color: #E2EBFA;\n",
              "      --hover-fill-color: #174EA6;\n",
              "      --disabled-fill-color: #AAA;\n",
              "      --disabled-bg-color: #DDD;\n",
              "  }\n",
              "\n",
              "  [theme=dark] .colab-df-quickchart {\n",
              "      --bg-color: #3B4455;\n",
              "      --fill-color: #D2E3FC;\n",
              "      --hover-bg-color: #434B5C;\n",
              "      --hover-fill-color: #FFFFFF;\n",
              "      --disabled-bg-color: #3B4455;\n",
              "      --disabled-fill-color: #666;\n",
              "  }\n",
              "\n",
              "  .colab-df-quickchart {\n",
              "    background-color: var(--bg-color);\n",
              "    border: none;\n",
              "    border-radius: 50%;\n",
              "    cursor: pointer;\n",
              "    display: none;\n",
              "    fill: var(--fill-color);\n",
              "    height: 32px;\n",
              "    padding: 0;\n",
              "    width: 32px;\n",
              "  }\n",
              "\n",
              "  .colab-df-quickchart:hover {\n",
              "    background-color: var(--hover-bg-color);\n",
              "    box-shadow: 0 1px 2px rgba(60, 64, 67, 0.3), 0 1px 3px 1px rgba(60, 64, 67, 0.15);\n",
              "    fill: var(--button-hover-fill-color);\n",
              "  }\n",
              "\n",
              "  .colab-df-quickchart-complete:disabled,\n",
              "  .colab-df-quickchart-complete:disabled:hover {\n",
              "    background-color: var(--disabled-bg-color);\n",
              "    fill: var(--disabled-fill-color);\n",
              "    box-shadow: none;\n",
              "  }\n",
              "\n",
              "  .colab-df-spinner {\n",
              "    border: 2px solid var(--fill-color);\n",
              "    border-color: transparent;\n",
              "    border-bottom-color: var(--fill-color);\n",
              "    animation:\n",
              "      spin 1s steps(1) infinite;\n",
              "  }\n",
              "\n",
              "  @keyframes spin {\n",
              "    0% {\n",
              "      border-color: transparent;\n",
              "      border-bottom-color: var(--fill-color);\n",
              "      border-left-color: var(--fill-color);\n",
              "    }\n",
              "    20% {\n",
              "      border-color: transparent;\n",
              "      border-left-color: var(--fill-color);\n",
              "      border-top-color: var(--fill-color);\n",
              "    }\n",
              "    30% {\n",
              "      border-color: transparent;\n",
              "      border-left-color: var(--fill-color);\n",
              "      border-top-color: var(--fill-color);\n",
              "      border-right-color: var(--fill-color);\n",
              "    }\n",
              "    40% {\n",
              "      border-color: transparent;\n",
              "      border-right-color: var(--fill-color);\n",
              "      border-top-color: var(--fill-color);\n",
              "    }\n",
              "    60% {\n",
              "      border-color: transparent;\n",
              "      border-right-color: var(--fill-color);\n",
              "    }\n",
              "    80% {\n",
              "      border-color: transparent;\n",
              "      border-right-color: var(--fill-color);\n",
              "      border-bottom-color: var(--fill-color);\n",
              "    }\n",
              "    90% {\n",
              "      border-color: transparent;\n",
              "      border-bottom-color: var(--fill-color);\n",
              "    }\n",
              "  }\n",
              "</style>\n",
              "\n",
              "  <script>\n",
              "    async function quickchart(key) {\n",
              "      const quickchartButtonEl =\n",
              "        document.querySelector('#' + key + ' button');\n",
              "      quickchartButtonEl.disabled = true;  // To prevent multiple clicks.\n",
              "      quickchartButtonEl.classList.add('colab-df-spinner');\n",
              "      try {\n",
              "        const charts = await google.colab.kernel.invokeFunction(\n",
              "            'suggestCharts', [key], {});\n",
              "      } catch (error) {\n",
              "        console.error('Error during call to suggestCharts:', error);\n",
              "      }\n",
              "      quickchartButtonEl.classList.remove('colab-df-spinner');\n",
              "      quickchartButtonEl.classList.add('colab-df-quickchart-complete');\n",
              "    }\n",
              "    (() => {\n",
              "      let quickchartButtonEl =\n",
              "        document.querySelector('#df-cdfb829b-3593-4eac-b630-8411ff08b5b1 button');\n",
              "      quickchartButtonEl.style.display =\n",
              "        google.colab.kernel.accessAllowed ? 'block' : 'none';\n",
              "    })();\n",
              "  </script>\n",
              "</div>\n",
              "\n",
              "  <div id=\"id_def58fc0-93ef-4a63-ab1e-c1508bf8f3b5\">\n",
              "    <style>\n",
              "      .colab-df-generate {\n",
              "        background-color: #E8F0FE;\n",
              "        border: none;\n",
              "        border-radius: 50%;\n",
              "        cursor: pointer;\n",
              "        display: none;\n",
              "        fill: #1967D2;\n",
              "        height: 32px;\n",
              "        padding: 0 0 0 0;\n",
              "        width: 32px;\n",
              "      }\n",
              "\n",
              "      .colab-df-generate:hover {\n",
              "        background-color: #E2EBFA;\n",
              "        box-shadow: 0px 1px 2px rgba(60, 64, 67, 0.3), 0px 1px 3px 1px rgba(60, 64, 67, 0.15);\n",
              "        fill: #174EA6;\n",
              "      }\n",
              "\n",
              "      [theme=dark] .colab-df-generate {\n",
              "        background-color: #3B4455;\n",
              "        fill: #D2E3FC;\n",
              "      }\n",
              "\n",
              "      [theme=dark] .colab-df-generate:hover {\n",
              "        background-color: #434B5C;\n",
              "        box-shadow: 0px 1px 3px 1px rgba(0, 0, 0, 0.15);\n",
              "        filter: drop-shadow(0px 1px 2px rgba(0, 0, 0, 0.3));\n",
              "        fill: #FFFFFF;\n",
              "      }\n",
              "    </style>\n",
              "    <button class=\"colab-df-generate\" onclick=\"generateWithVariable('df')\"\n",
              "            title=\"Generate code using this dataframe.\"\n",
              "            style=\"display:none;\">\n",
              "\n",
              "  <svg xmlns=\"http://www.w3.org/2000/svg\" height=\"24px\"viewBox=\"0 0 24 24\"\n",
              "       width=\"24px\">\n",
              "    <path d=\"M7,19H8.4L18.45,9,17,7.55,7,17.6ZM5,21V16.75L18.45,3.32a2,2,0,0,1,2.83,0l1.4,1.43a1.91,1.91,0,0,1,.58,1.4,1.91,1.91,0,0,1-.58,1.4L9.25,21ZM18.45,9,17,7.55Zm-12,3A5.31,5.31,0,0,0,4.9,8.1,5.31,5.31,0,0,0,1,6.5,5.31,5.31,0,0,0,4.9,4.9,5.31,5.31,0,0,0,6.5,1,5.31,5.31,0,0,0,8.1,4.9,5.31,5.31,0,0,0,12,6.5,5.46,5.46,0,0,0,6.5,12Z\"/>\n",
              "  </svg>\n",
              "    </button>\n",
              "    <script>\n",
              "      (() => {\n",
              "      const buttonEl =\n",
              "        document.querySelector('#id_def58fc0-93ef-4a63-ab1e-c1508bf8f3b5 button.colab-df-generate');\n",
              "      buttonEl.style.display =\n",
              "        google.colab.kernel.accessAllowed ? 'block' : 'none';\n",
              "\n",
              "      buttonEl.onclick = () => {\n",
              "        google.colab.notebook.generateWithVariable('df');\n",
              "      }\n",
              "      })();\n",
              "    </script>\n",
              "  </div>\n",
              "\n",
              "    </div>\n",
              "  </div>\n"
            ]
          },
          "metadata": {},
          "execution_count": 132
        }
      ]
    },
    {
      "cell_type": "markdown",
      "metadata": {
        "id": "BZQPX4VQyOl-"
      },
      "source": [
        "## 11.3 Dataframe creation from a list of dicts"
      ]
    },
    {
      "cell_type": "code",
      "execution_count": null,
      "metadata": {
        "id": "wRmFQs8IyOl_",
        "outputId": "00b67eec-2004-44d0-a810-97e9a2c26adf"
      },
      "outputs": [
        {
          "data": {
            "text/html": [
              "<div>\n",
              "<style scoped>\n",
              "    .dataframe tbody tr th:only-of-type {\n",
              "        vertical-align: middle;\n",
              "    }\n",
              "\n",
              "    .dataframe tbody tr th {\n",
              "        vertical-align: top;\n",
              "    }\n",
              "\n",
              "    .dataframe thead th {\n",
              "        text-align: right;\n",
              "    }\n",
              "</style>\n",
              "<table border=\"1\" class=\"dataframe\">\n",
              "  <thead>\n",
              "    <tr style=\"text-align: right;\">\n",
              "      <th></th>\n",
              "      <th>a</th>\n",
              "      <th>b</th>\n",
              "      <th>c</th>\n",
              "    </tr>\n",
              "  </thead>\n",
              "  <tbody>\n",
              "    <tr>\n",
              "      <th>0</th>\n",
              "      <td>10</td>\n",
              "      <td>20</td>\n",
              "      <td>NaN</td>\n",
              "    </tr>\n",
              "    <tr>\n",
              "      <th>1</th>\n",
              "      <td>5</td>\n",
              "      <td>10</td>\n",
              "      <td>20.0</td>\n",
              "    </tr>\n",
              "  </tbody>\n",
              "</table>\n",
              "</div>"
            ],
            "text/plain": [
              "    a   b     c\n",
              "0  10  20   NaN\n",
              "1   5  10  20.0"
            ]
          },
          "execution_count": 21,
          "metadata": {},
          "output_type": "execute_result"
        }
      ],
      "source": [
        "data = [{'a':10,\"b\":20},{'a':5,'b':10,'c':20}]\n",
        "pd.DataFrame(data)"
      ]
    },
    {
      "cell_type": "code",
      "execution_count": null,
      "metadata": {
        "id": "7lflySriyOl_",
        "outputId": "90e4af80-6ee4-435b-c24d-3f0aae9660b0"
      },
      "outputs": [
        {
          "data": {
            "text/html": [
              "<div>\n",
              "<style scoped>\n",
              "    .dataframe tbody tr th:only-of-type {\n",
              "        vertical-align: middle;\n",
              "    }\n",
              "\n",
              "    .dataframe tbody tr th {\n",
              "        vertical-align: top;\n",
              "    }\n",
              "\n",
              "    .dataframe thead th {\n",
              "        text-align: right;\n",
              "    }\n",
              "</style>\n",
              "<table border=\"1\" class=\"dataframe\">\n",
              "  <thead>\n",
              "    <tr style=\"text-align: right;\">\n",
              "      <th></th>\n",
              "      <th>a</th>\n",
              "      <th>b</th>\n",
              "      <th>c</th>\n",
              "    </tr>\n",
              "  </thead>\n",
              "  <tbody>\n",
              "    <tr>\n",
              "      <th>0</th>\n",
              "      <td>10</td>\n",
              "      <td>20</td>\n",
              "      <td>30</td>\n",
              "    </tr>\n",
              "    <tr>\n",
              "      <th>1</th>\n",
              "      <td>5</td>\n",
              "      <td>10</td>\n",
              "      <td>20</td>\n",
              "    </tr>\n",
              "  </tbody>\n",
              "</table>\n",
              "</div>"
            ],
            "text/plain": [
              "    a   b   c\n",
              "0  10  20  30\n",
              "1   5  10  20"
            ]
          },
          "execution_count": 22,
          "metadata": {},
          "output_type": "execute_result"
        }
      ],
      "source": [
        "data = [{'a':10,\"b\":20,\"c\":30},{'a':5,'b':10,'c':20}]\n",
        "pd.DataFrame(data)"
      ]
    },
    {
      "cell_type": "markdown",
      "source": [
        "### **Erika**"
      ],
      "metadata": {
        "id": "GfSFqGlmBMQx"
      }
    },
    {
      "cell_type": "code",
      "source": [
        "#Dictionary with fruit names, arranged into dataframe\n",
        "\n",
        "dict2 = [{'Yellow fruit':\"Lemon\" , 'Orange fruit' : \"Orange\", 'Green fruit':\"Lime\"},\n",
        " {'Yellow fruit':\"Banana\" , 'Orange fruit' : \"Mandarin\", 'Green fruit':\"Melon\"}]\n",
        "pd.DataFrame(dict2)"
      ],
      "metadata": {
        "colab": {
          "base_uri": "https://localhost:8080/",
          "height": 112
        },
        "id": "NLEf7YrHA30c",
        "outputId": "4176da60-8a75-4127-9904-72ed63045948"
      },
      "execution_count": null,
      "outputs": [
        {
          "output_type": "execute_result",
          "data": {
            "text/plain": [
              "  Yellow fruit Orange fruit Green fruit\n",
              "0        Lemon       Orange        Lime\n",
              "1       Banana     Mandarin       Melon"
            ],
            "text/html": [
              "\n",
              "  <div id=\"df-80c7e8c4-86ed-4945-bcc2-6277d6f76f54\" class=\"colab-df-container\">\n",
              "    <div>\n",
              "<style scoped>\n",
              "    .dataframe tbody tr th:only-of-type {\n",
              "        vertical-align: middle;\n",
              "    }\n",
              "\n",
              "    .dataframe tbody tr th {\n",
              "        vertical-align: top;\n",
              "    }\n",
              "\n",
              "    .dataframe thead th {\n",
              "        text-align: right;\n",
              "    }\n",
              "</style>\n",
              "<table border=\"1\" class=\"dataframe\">\n",
              "  <thead>\n",
              "    <tr style=\"text-align: right;\">\n",
              "      <th></th>\n",
              "      <th>Yellow fruit</th>\n",
              "      <th>Orange fruit</th>\n",
              "      <th>Green fruit</th>\n",
              "    </tr>\n",
              "  </thead>\n",
              "  <tbody>\n",
              "    <tr>\n",
              "      <th>0</th>\n",
              "      <td>Lemon</td>\n",
              "      <td>Orange</td>\n",
              "      <td>Lime</td>\n",
              "    </tr>\n",
              "    <tr>\n",
              "      <th>1</th>\n",
              "      <td>Banana</td>\n",
              "      <td>Mandarin</td>\n",
              "      <td>Melon</td>\n",
              "    </tr>\n",
              "  </tbody>\n",
              "</table>\n",
              "</div>\n",
              "    <div class=\"colab-df-buttons\">\n",
              "\n",
              "  <div class=\"colab-df-container\">\n",
              "    <button class=\"colab-df-convert\" onclick=\"convertToInteractive('df-80c7e8c4-86ed-4945-bcc2-6277d6f76f54')\"\n",
              "            title=\"Convert this dataframe to an interactive table.\"\n",
              "            style=\"display:none;\">\n",
              "\n",
              "  <svg xmlns=\"http://www.w3.org/2000/svg\" height=\"24px\" viewBox=\"0 -960 960 960\">\n",
              "    <path d=\"M120-120v-720h720v720H120Zm60-500h600v-160H180v160Zm220 220h160v-160H400v160Zm0 220h160v-160H400v160ZM180-400h160v-160H180v160Zm440 0h160v-160H620v160ZM180-180h160v-160H180v160Zm440 0h160v-160H620v160Z\"/>\n",
              "  </svg>\n",
              "    </button>\n",
              "\n",
              "  <style>\n",
              "    .colab-df-container {\n",
              "      display:flex;\n",
              "      gap: 12px;\n",
              "    }\n",
              "\n",
              "    .colab-df-convert {\n",
              "      background-color: #E8F0FE;\n",
              "      border: none;\n",
              "      border-radius: 50%;\n",
              "      cursor: pointer;\n",
              "      display: none;\n",
              "      fill: #1967D2;\n",
              "      height: 32px;\n",
              "      padding: 0 0 0 0;\n",
              "      width: 32px;\n",
              "    }\n",
              "\n",
              "    .colab-df-convert:hover {\n",
              "      background-color: #E2EBFA;\n",
              "      box-shadow: 0px 1px 2px rgba(60, 64, 67, 0.3), 0px 1px 3px 1px rgba(60, 64, 67, 0.15);\n",
              "      fill: #174EA6;\n",
              "    }\n",
              "\n",
              "    .colab-df-buttons div {\n",
              "      margin-bottom: 4px;\n",
              "    }\n",
              "\n",
              "    [theme=dark] .colab-df-convert {\n",
              "      background-color: #3B4455;\n",
              "      fill: #D2E3FC;\n",
              "    }\n",
              "\n",
              "    [theme=dark] .colab-df-convert:hover {\n",
              "      background-color: #434B5C;\n",
              "      box-shadow: 0px 1px 3px 1px rgba(0, 0, 0, 0.15);\n",
              "      filter: drop-shadow(0px 1px 2px rgba(0, 0, 0, 0.3));\n",
              "      fill: #FFFFFF;\n",
              "    }\n",
              "  </style>\n",
              "\n",
              "    <script>\n",
              "      const buttonEl =\n",
              "        document.querySelector('#df-80c7e8c4-86ed-4945-bcc2-6277d6f76f54 button.colab-df-convert');\n",
              "      buttonEl.style.display =\n",
              "        google.colab.kernel.accessAllowed ? 'block' : 'none';\n",
              "\n",
              "      async function convertToInteractive(key) {\n",
              "        const element = document.querySelector('#df-80c7e8c4-86ed-4945-bcc2-6277d6f76f54');\n",
              "        const dataTable =\n",
              "          await google.colab.kernel.invokeFunction('convertToInteractive',\n",
              "                                                    [key], {});\n",
              "        if (!dataTable) return;\n",
              "\n",
              "        const docLinkHtml = 'Like what you see? Visit the ' +\n",
              "          '<a target=\"_blank\" href=https://colab.research.google.com/notebooks/data_table.ipynb>data table notebook</a>'\n",
              "          + ' to learn more about interactive tables.';\n",
              "        element.innerHTML = '';\n",
              "        dataTable['output_type'] = 'display_data';\n",
              "        await google.colab.output.renderOutput(dataTable, element);\n",
              "        const docLink = document.createElement('div');\n",
              "        docLink.innerHTML = docLinkHtml;\n",
              "        element.appendChild(docLink);\n",
              "      }\n",
              "    </script>\n",
              "  </div>\n",
              "\n",
              "\n",
              "<div id=\"df-a858c43a-f6bb-4726-aa63-63dab52e7b54\">\n",
              "  <button class=\"colab-df-quickchart\" onclick=\"quickchart('df-a858c43a-f6bb-4726-aa63-63dab52e7b54')\"\n",
              "            title=\"Suggest charts\"\n",
              "            style=\"display:none;\">\n",
              "\n",
              "<svg xmlns=\"http://www.w3.org/2000/svg\" height=\"24px\"viewBox=\"0 0 24 24\"\n",
              "     width=\"24px\">\n",
              "    <g>\n",
              "        <path d=\"M19 3H5c-1.1 0-2 .9-2 2v14c0 1.1.9 2 2 2h14c1.1 0 2-.9 2-2V5c0-1.1-.9-2-2-2zM9 17H7v-7h2v7zm4 0h-2V7h2v10zm4 0h-2v-4h2v4z\"/>\n",
              "    </g>\n",
              "</svg>\n",
              "  </button>\n",
              "\n",
              "<style>\n",
              "  .colab-df-quickchart {\n",
              "      --bg-color: #E8F0FE;\n",
              "      --fill-color: #1967D2;\n",
              "      --hover-bg-color: #E2EBFA;\n",
              "      --hover-fill-color: #174EA6;\n",
              "      --disabled-fill-color: #AAA;\n",
              "      --disabled-bg-color: #DDD;\n",
              "  }\n",
              "\n",
              "  [theme=dark] .colab-df-quickchart {\n",
              "      --bg-color: #3B4455;\n",
              "      --fill-color: #D2E3FC;\n",
              "      --hover-bg-color: #434B5C;\n",
              "      --hover-fill-color: #FFFFFF;\n",
              "      --disabled-bg-color: #3B4455;\n",
              "      --disabled-fill-color: #666;\n",
              "  }\n",
              "\n",
              "  .colab-df-quickchart {\n",
              "    background-color: var(--bg-color);\n",
              "    border: none;\n",
              "    border-radius: 50%;\n",
              "    cursor: pointer;\n",
              "    display: none;\n",
              "    fill: var(--fill-color);\n",
              "    height: 32px;\n",
              "    padding: 0;\n",
              "    width: 32px;\n",
              "  }\n",
              "\n",
              "  .colab-df-quickchart:hover {\n",
              "    background-color: var(--hover-bg-color);\n",
              "    box-shadow: 0 1px 2px rgba(60, 64, 67, 0.3), 0 1px 3px 1px rgba(60, 64, 67, 0.15);\n",
              "    fill: var(--button-hover-fill-color);\n",
              "  }\n",
              "\n",
              "  .colab-df-quickchart-complete:disabled,\n",
              "  .colab-df-quickchart-complete:disabled:hover {\n",
              "    background-color: var(--disabled-bg-color);\n",
              "    fill: var(--disabled-fill-color);\n",
              "    box-shadow: none;\n",
              "  }\n",
              "\n",
              "  .colab-df-spinner {\n",
              "    border: 2px solid var(--fill-color);\n",
              "    border-color: transparent;\n",
              "    border-bottom-color: var(--fill-color);\n",
              "    animation:\n",
              "      spin 1s steps(1) infinite;\n",
              "  }\n",
              "\n",
              "  @keyframes spin {\n",
              "    0% {\n",
              "      border-color: transparent;\n",
              "      border-bottom-color: var(--fill-color);\n",
              "      border-left-color: var(--fill-color);\n",
              "    }\n",
              "    20% {\n",
              "      border-color: transparent;\n",
              "      border-left-color: var(--fill-color);\n",
              "      border-top-color: var(--fill-color);\n",
              "    }\n",
              "    30% {\n",
              "      border-color: transparent;\n",
              "      border-left-color: var(--fill-color);\n",
              "      border-top-color: var(--fill-color);\n",
              "      border-right-color: var(--fill-color);\n",
              "    }\n",
              "    40% {\n",
              "      border-color: transparent;\n",
              "      border-right-color: var(--fill-color);\n",
              "      border-top-color: var(--fill-color);\n",
              "    }\n",
              "    60% {\n",
              "      border-color: transparent;\n",
              "      border-right-color: var(--fill-color);\n",
              "    }\n",
              "    80% {\n",
              "      border-color: transparent;\n",
              "      border-right-color: var(--fill-color);\n",
              "      border-bottom-color: var(--fill-color);\n",
              "    }\n",
              "    90% {\n",
              "      border-color: transparent;\n",
              "      border-bottom-color: var(--fill-color);\n",
              "    }\n",
              "  }\n",
              "</style>\n",
              "\n",
              "  <script>\n",
              "    async function quickchart(key) {\n",
              "      const quickchartButtonEl =\n",
              "        document.querySelector('#' + key + ' button');\n",
              "      quickchartButtonEl.disabled = true;  // To prevent multiple clicks.\n",
              "      quickchartButtonEl.classList.add('colab-df-spinner');\n",
              "      try {\n",
              "        const charts = await google.colab.kernel.invokeFunction(\n",
              "            'suggestCharts', [key], {});\n",
              "      } catch (error) {\n",
              "        console.error('Error during call to suggestCharts:', error);\n",
              "      }\n",
              "      quickchartButtonEl.classList.remove('colab-df-spinner');\n",
              "      quickchartButtonEl.classList.add('colab-df-quickchart-complete');\n",
              "    }\n",
              "    (() => {\n",
              "      let quickchartButtonEl =\n",
              "        document.querySelector('#df-a858c43a-f6bb-4726-aa63-63dab52e7b54 button');\n",
              "      quickchartButtonEl.style.display =\n",
              "        google.colab.kernel.accessAllowed ? 'block' : 'none';\n",
              "    })();\n",
              "  </script>\n",
              "</div>\n",
              "\n",
              "    </div>\n",
              "  </div>\n"
            ]
          },
          "metadata": {},
          "execution_count": 135
        }
      ]
    },
    {
      "cell_type": "markdown",
      "metadata": {
        "id": "VrGbOC0eyOl_"
      },
      "source": [
        "## 11.4 Dataframe creation from a dict of tuples"
      ]
    },
    {
      "cell_type": "markdown",
      "metadata": {
        "id": "U2cukZnYyOl_"
      },
      "source": [
        " - You can automatically create a multi indexed by passing a tuple dictionary."
      ]
    },
    {
      "cell_type": "code",
      "execution_count": null,
      "metadata": {
        "id": "WD98AEpOyOl_",
        "outputId": "9dc47300-2a62-4386-e967-589c9d2f7cf1"
      },
      "outputs": [
        {
          "data": {
            "text/html": [
              "<div>\n",
              "<style scoped>\n",
              "    .dataframe tbody tr th:only-of-type {\n",
              "        vertical-align: middle;\n",
              "    }\n",
              "\n",
              "    .dataframe tbody tr th {\n",
              "        vertical-align: top;\n",
              "    }\n",
              "\n",
              "    .dataframe thead th {\n",
              "        text-align: right;\n",
              "    }\n",
              "</style>\n",
              "<table border=\"1\" class=\"dataframe\">\n",
              "  <thead>\n",
              "    <tr style=\"text-align: right;\">\n",
              "      <th></th>\n",
              "      <th>Age</th>\n",
              "      <th>Initial</th>\n",
              "      <th>Sex</th>\n",
              "    </tr>\n",
              "  </thead>\n",
              "  <tbody>\n",
              "    <tr>\n",
              "      <th>0</th>\n",
              "      <td>49</td>\n",
              "      <td>C</td>\n",
              "      <td>M</td>\n",
              "    </tr>\n",
              "    <tr>\n",
              "      <th>1</th>\n",
              "      <td>39</td>\n",
              "      <td>A</td>\n",
              "      <td>F</td>\n",
              "    </tr>\n",
              "    <tr>\n",
              "      <th>2</th>\n",
              "      <td>19</td>\n",
              "      <td>M</td>\n",
              "      <td>F</td>\n",
              "    </tr>\n",
              "  </tbody>\n",
              "</table>\n",
              "</div>"
            ],
            "text/plain": [
              "   Age Initial Sex\n",
              "0   49       C   M\n",
              "1   39       A   F\n",
              "2   19       M   F"
            ]
          },
          "execution_count": 24,
          "metadata": {},
          "output_type": "execute_result"
        }
      ],
      "source": [
        "\n",
        "df = pd.DataFrame({'Initial': ['C','A','M'], 'Sex': ['M', 'F', 'F'], 'Age': [49, 39, 19]})\n",
        "#df = df[['Initial', 'Sex', 'Age']]\n",
        "df"
      ]
    },
    {
      "cell_type": "code",
      "execution_count": null,
      "metadata": {
        "id": "Q2xIJhQeyOl_",
        "outputId": "9cb8fb17-3d1a-4b4e-e075-a07e8e657978"
      },
      "outputs": [
        {
          "data": {
            "text/html": [
              "<div>\n",
              "<style scoped>\n",
              "    .dataframe tbody tr th:only-of-type {\n",
              "        vertical-align: middle;\n",
              "    }\n",
              "\n",
              "    .dataframe tbody tr th {\n",
              "        vertical-align: top;\n",
              "    }\n",
              "\n",
              "    .dataframe thead th {\n",
              "        text-align: right;\n",
              "    }\n",
              "</style>\n",
              "<table border=\"1\" class=\"dataframe\">\n",
              "  <thead>\n",
              "    <tr style=\"text-align: right;\">\n",
              "      <th></th>\n",
              "      <th>0</th>\n",
              "      <th>1</th>\n",
              "      <th>2</th>\n",
              "      <th>3</th>\n",
              "    </tr>\n",
              "  </thead>\n",
              "  <tbody>\n",
              "    <tr>\n",
              "      <th>0</th>\n",
              "      <td>p1</td>\n",
              "      <td>t1</td>\n",
              "      <td>1</td>\n",
              "      <td>2</td>\n",
              "    </tr>\n",
              "    <tr>\n",
              "      <th>1</th>\n",
              "      <td>p1</td>\n",
              "      <td>t2</td>\n",
              "      <td>3</td>\n",
              "      <td>4</td>\n",
              "    </tr>\n",
              "    <tr>\n",
              "      <th>2</th>\n",
              "      <td>p2</td>\n",
              "      <td>t1</td>\n",
              "      <td>5</td>\n",
              "      <td>6</td>\n",
              "    </tr>\n",
              "    <tr>\n",
              "      <th>3</th>\n",
              "      <td>p2</td>\n",
              "      <td>t2</td>\n",
              "      <td>7</td>\n",
              "      <td>8</td>\n",
              "    </tr>\n",
              "    <tr>\n",
              "      <th>4</th>\n",
              "      <td>p2</td>\n",
              "      <td>t3</td>\n",
              "      <td>2</td>\n",
              "      <td>8</td>\n",
              "    </tr>\n",
              "  </tbody>\n",
              "</table>\n",
              "</div>"
            ],
            "text/plain": [
              "    0   1  2  3\n",
              "0  p1  t1  1  2\n",
              "1  p1  t2  3  4\n",
              "2  p2  t1  5  6\n",
              "3  p2  t2  7  8\n",
              "4  p2  t3  2  8"
            ]
          },
          "execution_count": 26,
          "metadata": {},
          "output_type": "execute_result"
        }
      ],
      "source": [
        "data = [('p1', 't1', 1, 2),('p1', 't2', 3, 4),('p2', 't1', 5, 6),('p2', 't2', 7, 8),('p2', 't3', 2, 8)]\n",
        "\n",
        "df = pd.DataFrame(data)\n",
        "df"
      ]
    },
    {
      "cell_type": "markdown",
      "source": [
        "### **Erika**"
      ],
      "metadata": {
        "id": "slX7J_llBUHu"
      }
    },
    {
      "cell_type": "code",
      "source": [
        "#Declare dict2, arrange into Dataframe.\n",
        "\n",
        "dict2 = pd.DataFrame([{'Yellow fruit': ['Lemon','Banana'], 'Orange fruit' : ['Orange','Mandarin'], 'Green fruit':['Lime','Melon'], 'Numbers': [1,2]},\n",
        "])\n",
        "dict2"
      ],
      "metadata": {
        "colab": {
          "base_uri": "https://localhost:8080/",
          "height": 89
        },
        "id": "sqrBUok0BWTR",
        "outputId": "d8d6ffe5-4a3f-4d74-8c79-2e83ee36e7a9"
      },
      "execution_count": null,
      "outputs": [
        {
          "output_type": "execute_result",
          "data": {
            "text/plain": [
              "      Yellow fruit        Orange fruit    Green fruit Numbers\n",
              "0  [Lemon, Banana]  [Orange, Mandarin]  [Lime, Melon]  [1, 2]"
            ],
            "text/html": [
              "\n",
              "  <div id=\"df-a135069d-12e7-42e7-bb7e-3f3e1f9cd2d2\" class=\"colab-df-container\">\n",
              "    <div>\n",
              "<style scoped>\n",
              "    .dataframe tbody tr th:only-of-type {\n",
              "        vertical-align: middle;\n",
              "    }\n",
              "\n",
              "    .dataframe tbody tr th {\n",
              "        vertical-align: top;\n",
              "    }\n",
              "\n",
              "    .dataframe thead th {\n",
              "        text-align: right;\n",
              "    }\n",
              "</style>\n",
              "<table border=\"1\" class=\"dataframe\">\n",
              "  <thead>\n",
              "    <tr style=\"text-align: right;\">\n",
              "      <th></th>\n",
              "      <th>Yellow fruit</th>\n",
              "      <th>Orange fruit</th>\n",
              "      <th>Green fruit</th>\n",
              "      <th>Numbers</th>\n",
              "    </tr>\n",
              "  </thead>\n",
              "  <tbody>\n",
              "    <tr>\n",
              "      <th>0</th>\n",
              "      <td>[Lemon, Banana]</td>\n",
              "      <td>[Orange, Mandarin]</td>\n",
              "      <td>[Lime, Melon]</td>\n",
              "      <td>[1, 2]</td>\n",
              "    </tr>\n",
              "  </tbody>\n",
              "</table>\n",
              "</div>\n",
              "    <div class=\"colab-df-buttons\">\n",
              "\n",
              "  <div class=\"colab-df-container\">\n",
              "    <button class=\"colab-df-convert\" onclick=\"convertToInteractive('df-a135069d-12e7-42e7-bb7e-3f3e1f9cd2d2')\"\n",
              "            title=\"Convert this dataframe to an interactive table.\"\n",
              "            style=\"display:none;\">\n",
              "\n",
              "  <svg xmlns=\"http://www.w3.org/2000/svg\" height=\"24px\" viewBox=\"0 -960 960 960\">\n",
              "    <path d=\"M120-120v-720h720v720H120Zm60-500h600v-160H180v160Zm220 220h160v-160H400v160Zm0 220h160v-160H400v160ZM180-400h160v-160H180v160Zm440 0h160v-160H620v160ZM180-180h160v-160H180v160Zm440 0h160v-160H620v160Z\"/>\n",
              "  </svg>\n",
              "    </button>\n",
              "\n",
              "  <style>\n",
              "    .colab-df-container {\n",
              "      display:flex;\n",
              "      gap: 12px;\n",
              "    }\n",
              "\n",
              "    .colab-df-convert {\n",
              "      background-color: #E8F0FE;\n",
              "      border: none;\n",
              "      border-radius: 50%;\n",
              "      cursor: pointer;\n",
              "      display: none;\n",
              "      fill: #1967D2;\n",
              "      height: 32px;\n",
              "      padding: 0 0 0 0;\n",
              "      width: 32px;\n",
              "    }\n",
              "\n",
              "    .colab-df-convert:hover {\n",
              "      background-color: #E2EBFA;\n",
              "      box-shadow: 0px 1px 2px rgba(60, 64, 67, 0.3), 0px 1px 3px 1px rgba(60, 64, 67, 0.15);\n",
              "      fill: #174EA6;\n",
              "    }\n",
              "\n",
              "    .colab-df-buttons div {\n",
              "      margin-bottom: 4px;\n",
              "    }\n",
              "\n",
              "    [theme=dark] .colab-df-convert {\n",
              "      background-color: #3B4455;\n",
              "      fill: #D2E3FC;\n",
              "    }\n",
              "\n",
              "    [theme=dark] .colab-df-convert:hover {\n",
              "      background-color: #434B5C;\n",
              "      box-shadow: 0px 1px 3px 1px rgba(0, 0, 0, 0.15);\n",
              "      filter: drop-shadow(0px 1px 2px rgba(0, 0, 0, 0.3));\n",
              "      fill: #FFFFFF;\n",
              "    }\n",
              "  </style>\n",
              "\n",
              "    <script>\n",
              "      const buttonEl =\n",
              "        document.querySelector('#df-a135069d-12e7-42e7-bb7e-3f3e1f9cd2d2 button.colab-df-convert');\n",
              "      buttonEl.style.display =\n",
              "        google.colab.kernel.accessAllowed ? 'block' : 'none';\n",
              "\n",
              "      async function convertToInteractive(key) {\n",
              "        const element = document.querySelector('#df-a135069d-12e7-42e7-bb7e-3f3e1f9cd2d2');\n",
              "        const dataTable =\n",
              "          await google.colab.kernel.invokeFunction('convertToInteractive',\n",
              "                                                    [key], {});\n",
              "        if (!dataTable) return;\n",
              "\n",
              "        const docLinkHtml = 'Like what you see? Visit the ' +\n",
              "          '<a target=\"_blank\" href=https://colab.research.google.com/notebooks/data_table.ipynb>data table notebook</a>'\n",
              "          + ' to learn more about interactive tables.';\n",
              "        element.innerHTML = '';\n",
              "        dataTable['output_type'] = 'display_data';\n",
              "        await google.colab.output.renderOutput(dataTable, element);\n",
              "        const docLink = document.createElement('div');\n",
              "        docLink.innerHTML = docLinkHtml;\n",
              "        element.appendChild(docLink);\n",
              "      }\n",
              "    </script>\n",
              "  </div>\n",
              "\n",
              "\n",
              "  <div id=\"id_58fb2e21-f85a-42e1-9e61-88d2e70230ea\">\n",
              "    <style>\n",
              "      .colab-df-generate {\n",
              "        background-color: #E8F0FE;\n",
              "        border: none;\n",
              "        border-radius: 50%;\n",
              "        cursor: pointer;\n",
              "        display: none;\n",
              "        fill: #1967D2;\n",
              "        height: 32px;\n",
              "        padding: 0 0 0 0;\n",
              "        width: 32px;\n",
              "      }\n",
              "\n",
              "      .colab-df-generate:hover {\n",
              "        background-color: #E2EBFA;\n",
              "        box-shadow: 0px 1px 2px rgba(60, 64, 67, 0.3), 0px 1px 3px 1px rgba(60, 64, 67, 0.15);\n",
              "        fill: #174EA6;\n",
              "      }\n",
              "\n",
              "      [theme=dark] .colab-df-generate {\n",
              "        background-color: #3B4455;\n",
              "        fill: #D2E3FC;\n",
              "      }\n",
              "\n",
              "      [theme=dark] .colab-df-generate:hover {\n",
              "        background-color: #434B5C;\n",
              "        box-shadow: 0px 1px 3px 1px rgba(0, 0, 0, 0.15);\n",
              "        filter: drop-shadow(0px 1px 2px rgba(0, 0, 0, 0.3));\n",
              "        fill: #FFFFFF;\n",
              "      }\n",
              "    </style>\n",
              "    <button class=\"colab-df-generate\" onclick=\"generateWithVariable('dict2')\"\n",
              "            title=\"Generate code using this dataframe.\"\n",
              "            style=\"display:none;\">\n",
              "\n",
              "  <svg xmlns=\"http://www.w3.org/2000/svg\" height=\"24px\"viewBox=\"0 0 24 24\"\n",
              "       width=\"24px\">\n",
              "    <path d=\"M7,19H8.4L18.45,9,17,7.55,7,17.6ZM5,21V16.75L18.45,3.32a2,2,0,0,1,2.83,0l1.4,1.43a1.91,1.91,0,0,1,.58,1.4,1.91,1.91,0,0,1-.58,1.4L9.25,21ZM18.45,9,17,7.55Zm-12,3A5.31,5.31,0,0,0,4.9,8.1,5.31,5.31,0,0,0,1,6.5,5.31,5.31,0,0,0,4.9,4.9,5.31,5.31,0,0,0,6.5,1,5.31,5.31,0,0,0,8.1,4.9,5.31,5.31,0,0,0,12,6.5,5.46,5.46,0,0,0,6.5,12Z\"/>\n",
              "  </svg>\n",
              "    </button>\n",
              "    <script>\n",
              "      (() => {\n",
              "      const buttonEl =\n",
              "        document.querySelector('#id_58fb2e21-f85a-42e1-9e61-88d2e70230ea button.colab-df-generate');\n",
              "      buttonEl.style.display =\n",
              "        google.colab.kernel.accessAllowed ? 'block' : 'none';\n",
              "\n",
              "      buttonEl.onclick = () => {\n",
              "        google.colab.notebook.generateWithVariable('dict2');\n",
              "      }\n",
              "      })();\n",
              "    </script>\n",
              "  </div>\n",
              "\n",
              "    </div>\n",
              "  </div>\n"
            ]
          },
          "metadata": {},
          "execution_count": 143
        }
      ]
    },
    {
      "cell_type": "markdown",
      "metadata": {
        "id": "COgV8LakyOmA"
      },
      "source": [
        "## 11.5 Alternate constructors"
      ]
    },
    {
      "cell_type": "markdown",
      "metadata": {
        "id": "CkubtOVuyOmA"
      },
      "source": [
        "### Dataframe.from_dict"
      ]
    },
    {
      "cell_type": "markdown",
      "metadata": {
        "id": "AL5jdDp5yOmA"
      },
      "source": [
        " - Dataframe.from_dict takes a dict of dictsor a dict of array like sequences and returns a Dataframe.\n",
        " - It operates like the dataframe constructor except for the orient parameter which is coulmn by default,but which can be set to index in order to use the dict keys as row labels."
      ]
    },
    {
      "cell_type": "code",
      "execution_count": null,
      "metadata": {
        "id": "DVFbuvKTyOmA",
        "outputId": "101fb8df-de57-4e7f-cfee-6caadcd78a6a"
      },
      "outputs": [
        {
          "data": {
            "text/html": [
              "<div>\n",
              "<style scoped>\n",
              "    .dataframe tbody tr th:only-of-type {\n",
              "        vertical-align: middle;\n",
              "    }\n",
              "\n",
              "    .dataframe tbody tr th {\n",
              "        vertical-align: top;\n",
              "    }\n",
              "\n",
              "    .dataframe thead th {\n",
              "        text-align: right;\n",
              "    }\n",
              "</style>\n",
              "<table border=\"1\" class=\"dataframe\">\n",
              "  <thead>\n",
              "    <tr style=\"text-align: right;\">\n",
              "      <th></th>\n",
              "      <th>e</th>\n",
              "      <th>d</th>\n",
              "      <th>f</th>\n",
              "      <th>a</th>\n",
              "      <th>c</th>\n",
              "      <th>b</th>\n",
              "      <th>i</th>\n",
              "      <th>h</th>\n",
              "      <th>g</th>\n",
              "    </tr>\n",
              "  </thead>\n",
              "  <tbody>\n",
              "    <tr>\n",
              "      <th>X</th>\n",
              "      <td>0</td>\n",
              "      <td>0</td>\n",
              "      <td>0</td>\n",
              "      <td>1</td>\n",
              "      <td>3</td>\n",
              "      <td>2</td>\n",
              "      <td>0</td>\n",
              "      <td>0</td>\n",
              "      <td>0</td>\n",
              "    </tr>\n",
              "    <tr>\n",
              "      <th>Y</th>\n",
              "      <td>5</td>\n",
              "      <td>4</td>\n",
              "      <td>6</td>\n",
              "      <td>0</td>\n",
              "      <td>0</td>\n",
              "      <td>0</td>\n",
              "      <td>0</td>\n",
              "      <td>0</td>\n",
              "      <td>0</td>\n",
              "    </tr>\n",
              "    <tr>\n",
              "      <th>Z</th>\n",
              "      <td>0</td>\n",
              "      <td>0</td>\n",
              "      <td>0</td>\n",
              "      <td>0</td>\n",
              "      <td>0</td>\n",
              "      <td>0</td>\n",
              "      <td>9</td>\n",
              "      <td>8</td>\n",
              "      <td>7</td>\n",
              "    </tr>\n",
              "  </tbody>\n",
              "</table>\n",
              "</div>"
            ],
            "text/plain": [
              "   e  d  f  a  c  b  i  h  g\n",
              "X  0  0  0  1  3  2  0  0  0\n",
              "Y  5  4  6  0  0  0  0  0  0\n",
              "Z  0  0  0  0  0  0  9  8  7"
            ]
          },
          "execution_count": 27,
          "metadata": {},
          "output_type": "execute_result"
        }
      ],
      "source": [
        "data = {\"X\": {'a': 1, 'b': 2, 'c': 3}, \"Y\": {'d': 4, 'e': 5, 'f': 6}, \"Z\": {'g': 7, 'h': 8, 'i': 9}}\n",
        "\n",
        "df = pd.DataFrame.from_dict(data, orient=\"index\").fillna(0).astype(int)\n",
        "df"
      ]
    },
    {
      "cell_type": "markdown",
      "source": [
        "### **Erika**"
      ],
      "metadata": {
        "id": "xA9GmuyrDbVF"
      }
    },
    {
      "cell_type": "code",
      "source": [
        "#Using from_dict to print 'dict2'\n",
        "\n",
        "dict2 = [{'Yellow fruit':\"Lemon\" , 'Orange fruit' : \"Orange\", 'Green fruit':\"Lime\"},\n",
        " {'Yellow fruit':\"Banana\" , 'Orange fruit' : \"Mandarin\", 'Green fruit':\"Melon\"}]\n",
        "\n",
        "df = pd.DataFrame.from_dict(dict2)\n",
        "df"
      ],
      "metadata": {
        "colab": {
          "base_uri": "https://localhost:8080/",
          "height": 125
        },
        "id": "PGrgkl01Da0g",
        "outputId": "36fe1abe-5e3d-485d-91cd-978a8d01d330"
      },
      "execution_count": null,
      "outputs": [
        {
          "output_type": "execute_result",
          "data": {
            "text/plain": [
              "  Yellow fruit Orange fruit Green fruit\n",
              "0        Lemon       Orange        Lime\n",
              "1       Banana     Mandarin       Melon"
            ],
            "text/html": [
              "\n",
              "  <div id=\"df-ec450daa-9fb8-4338-8edd-133a2ee17f01\" class=\"colab-df-container\">\n",
              "    <div>\n",
              "<style scoped>\n",
              "    .dataframe tbody tr th:only-of-type {\n",
              "        vertical-align: middle;\n",
              "    }\n",
              "\n",
              "    .dataframe tbody tr th {\n",
              "        vertical-align: top;\n",
              "    }\n",
              "\n",
              "    .dataframe thead th {\n",
              "        text-align: right;\n",
              "    }\n",
              "</style>\n",
              "<table border=\"1\" class=\"dataframe\">\n",
              "  <thead>\n",
              "    <tr style=\"text-align: right;\">\n",
              "      <th></th>\n",
              "      <th>Yellow fruit</th>\n",
              "      <th>Orange fruit</th>\n",
              "      <th>Green fruit</th>\n",
              "    </tr>\n",
              "  </thead>\n",
              "  <tbody>\n",
              "    <tr>\n",
              "      <th>0</th>\n",
              "      <td>Lemon</td>\n",
              "      <td>Orange</td>\n",
              "      <td>Lime</td>\n",
              "    </tr>\n",
              "    <tr>\n",
              "      <th>1</th>\n",
              "      <td>Banana</td>\n",
              "      <td>Mandarin</td>\n",
              "      <td>Melon</td>\n",
              "    </tr>\n",
              "  </tbody>\n",
              "</table>\n",
              "</div>\n",
              "    <div class=\"colab-df-buttons\">\n",
              "\n",
              "  <div class=\"colab-df-container\">\n",
              "    <button class=\"colab-df-convert\" onclick=\"convertToInteractive('df-ec450daa-9fb8-4338-8edd-133a2ee17f01')\"\n",
              "            title=\"Convert this dataframe to an interactive table.\"\n",
              "            style=\"display:none;\">\n",
              "\n",
              "  <svg xmlns=\"http://www.w3.org/2000/svg\" height=\"24px\" viewBox=\"0 -960 960 960\">\n",
              "    <path d=\"M120-120v-720h720v720H120Zm60-500h600v-160H180v160Zm220 220h160v-160H400v160Zm0 220h160v-160H400v160ZM180-400h160v-160H180v160Zm440 0h160v-160H620v160ZM180-180h160v-160H180v160Zm440 0h160v-160H620v160Z\"/>\n",
              "  </svg>\n",
              "    </button>\n",
              "\n",
              "  <style>\n",
              "    .colab-df-container {\n",
              "      display:flex;\n",
              "      gap: 12px;\n",
              "    }\n",
              "\n",
              "    .colab-df-convert {\n",
              "      background-color: #E8F0FE;\n",
              "      border: none;\n",
              "      border-radius: 50%;\n",
              "      cursor: pointer;\n",
              "      display: none;\n",
              "      fill: #1967D2;\n",
              "      height: 32px;\n",
              "      padding: 0 0 0 0;\n",
              "      width: 32px;\n",
              "    }\n",
              "\n",
              "    .colab-df-convert:hover {\n",
              "      background-color: #E2EBFA;\n",
              "      box-shadow: 0px 1px 2px rgba(60, 64, 67, 0.3), 0px 1px 3px 1px rgba(60, 64, 67, 0.15);\n",
              "      fill: #174EA6;\n",
              "    }\n",
              "\n",
              "    .colab-df-buttons div {\n",
              "      margin-bottom: 4px;\n",
              "    }\n",
              "\n",
              "    [theme=dark] .colab-df-convert {\n",
              "      background-color: #3B4455;\n",
              "      fill: #D2E3FC;\n",
              "    }\n",
              "\n",
              "    [theme=dark] .colab-df-convert:hover {\n",
              "      background-color: #434B5C;\n",
              "      box-shadow: 0px 1px 3px 1px rgba(0, 0, 0, 0.15);\n",
              "      filter: drop-shadow(0px 1px 2px rgba(0, 0, 0, 0.3));\n",
              "      fill: #FFFFFF;\n",
              "    }\n",
              "  </style>\n",
              "\n",
              "    <script>\n",
              "      const buttonEl =\n",
              "        document.querySelector('#df-ec450daa-9fb8-4338-8edd-133a2ee17f01 button.colab-df-convert');\n",
              "      buttonEl.style.display =\n",
              "        google.colab.kernel.accessAllowed ? 'block' : 'none';\n",
              "\n",
              "      async function convertToInteractive(key) {\n",
              "        const element = document.querySelector('#df-ec450daa-9fb8-4338-8edd-133a2ee17f01');\n",
              "        const dataTable =\n",
              "          await google.colab.kernel.invokeFunction('convertToInteractive',\n",
              "                                                    [key], {});\n",
              "        if (!dataTable) return;\n",
              "\n",
              "        const docLinkHtml = 'Like what you see? Visit the ' +\n",
              "          '<a target=\"_blank\" href=https://colab.research.google.com/notebooks/data_table.ipynb>data table notebook</a>'\n",
              "          + ' to learn more about interactive tables.';\n",
              "        element.innerHTML = '';\n",
              "        dataTable['output_type'] = 'display_data';\n",
              "        await google.colab.output.renderOutput(dataTable, element);\n",
              "        const docLink = document.createElement('div');\n",
              "        docLink.innerHTML = docLinkHtml;\n",
              "        element.appendChild(docLink);\n",
              "      }\n",
              "    </script>\n",
              "  </div>\n",
              "\n",
              "\n",
              "<div id=\"df-c5fa1518-142b-4247-bcf7-a2bbde166c09\">\n",
              "  <button class=\"colab-df-quickchart\" onclick=\"quickchart('df-c5fa1518-142b-4247-bcf7-a2bbde166c09')\"\n",
              "            title=\"Suggest charts\"\n",
              "            style=\"display:none;\">\n",
              "\n",
              "<svg xmlns=\"http://www.w3.org/2000/svg\" height=\"24px\"viewBox=\"0 0 24 24\"\n",
              "     width=\"24px\">\n",
              "    <g>\n",
              "        <path d=\"M19 3H5c-1.1 0-2 .9-2 2v14c0 1.1.9 2 2 2h14c1.1 0 2-.9 2-2V5c0-1.1-.9-2-2-2zM9 17H7v-7h2v7zm4 0h-2V7h2v10zm4 0h-2v-4h2v4z\"/>\n",
              "    </g>\n",
              "</svg>\n",
              "  </button>\n",
              "\n",
              "<style>\n",
              "  .colab-df-quickchart {\n",
              "      --bg-color: #E8F0FE;\n",
              "      --fill-color: #1967D2;\n",
              "      --hover-bg-color: #E2EBFA;\n",
              "      --hover-fill-color: #174EA6;\n",
              "      --disabled-fill-color: #AAA;\n",
              "      --disabled-bg-color: #DDD;\n",
              "  }\n",
              "\n",
              "  [theme=dark] .colab-df-quickchart {\n",
              "      --bg-color: #3B4455;\n",
              "      --fill-color: #D2E3FC;\n",
              "      --hover-bg-color: #434B5C;\n",
              "      --hover-fill-color: #FFFFFF;\n",
              "      --disabled-bg-color: #3B4455;\n",
              "      --disabled-fill-color: #666;\n",
              "  }\n",
              "\n",
              "  .colab-df-quickchart {\n",
              "    background-color: var(--bg-color);\n",
              "    border: none;\n",
              "    border-radius: 50%;\n",
              "    cursor: pointer;\n",
              "    display: none;\n",
              "    fill: var(--fill-color);\n",
              "    height: 32px;\n",
              "    padding: 0;\n",
              "    width: 32px;\n",
              "  }\n",
              "\n",
              "  .colab-df-quickchart:hover {\n",
              "    background-color: var(--hover-bg-color);\n",
              "    box-shadow: 0 1px 2px rgba(60, 64, 67, 0.3), 0 1px 3px 1px rgba(60, 64, 67, 0.15);\n",
              "    fill: var(--button-hover-fill-color);\n",
              "  }\n",
              "\n",
              "  .colab-df-quickchart-complete:disabled,\n",
              "  .colab-df-quickchart-complete:disabled:hover {\n",
              "    background-color: var(--disabled-bg-color);\n",
              "    fill: var(--disabled-fill-color);\n",
              "    box-shadow: none;\n",
              "  }\n",
              "\n",
              "  .colab-df-spinner {\n",
              "    border: 2px solid var(--fill-color);\n",
              "    border-color: transparent;\n",
              "    border-bottom-color: var(--fill-color);\n",
              "    animation:\n",
              "      spin 1s steps(1) infinite;\n",
              "  }\n",
              "\n",
              "  @keyframes spin {\n",
              "    0% {\n",
              "      border-color: transparent;\n",
              "      border-bottom-color: var(--fill-color);\n",
              "      border-left-color: var(--fill-color);\n",
              "    }\n",
              "    20% {\n",
              "      border-color: transparent;\n",
              "      border-left-color: var(--fill-color);\n",
              "      border-top-color: var(--fill-color);\n",
              "    }\n",
              "    30% {\n",
              "      border-color: transparent;\n",
              "      border-left-color: var(--fill-color);\n",
              "      border-top-color: var(--fill-color);\n",
              "      border-right-color: var(--fill-color);\n",
              "    }\n",
              "    40% {\n",
              "      border-color: transparent;\n",
              "      border-right-color: var(--fill-color);\n",
              "      border-top-color: var(--fill-color);\n",
              "    }\n",
              "    60% {\n",
              "      border-color: transparent;\n",
              "      border-right-color: var(--fill-color);\n",
              "    }\n",
              "    80% {\n",
              "      border-color: transparent;\n",
              "      border-right-color: var(--fill-color);\n",
              "      border-bottom-color: var(--fill-color);\n",
              "    }\n",
              "    90% {\n",
              "      border-color: transparent;\n",
              "      border-bottom-color: var(--fill-color);\n",
              "    }\n",
              "  }\n",
              "</style>\n",
              "\n",
              "  <script>\n",
              "    async function quickchart(key) {\n",
              "      const quickchartButtonEl =\n",
              "        document.querySelector('#' + key + ' button');\n",
              "      quickchartButtonEl.disabled = true;  // To prevent multiple clicks.\n",
              "      quickchartButtonEl.classList.add('colab-df-spinner');\n",
              "      try {\n",
              "        const charts = await google.colab.kernel.invokeFunction(\n",
              "            'suggestCharts', [key], {});\n",
              "      } catch (error) {\n",
              "        console.error('Error during call to suggestCharts:', error);\n",
              "      }\n",
              "      quickchartButtonEl.classList.remove('colab-df-spinner');\n",
              "      quickchartButtonEl.classList.add('colab-df-quickchart-complete');\n",
              "    }\n",
              "    (() => {\n",
              "      let quickchartButtonEl =\n",
              "        document.querySelector('#df-c5fa1518-142b-4247-bcf7-a2bbde166c09 button');\n",
              "      quickchartButtonEl.style.display =\n",
              "        google.colab.kernel.accessAllowed ? 'block' : 'none';\n",
              "    })();\n",
              "  </script>\n",
              "</div>\n",
              "\n",
              "  <div id=\"id_ddc3d68b-663f-4d34-8249-c18b187a2895\">\n",
              "    <style>\n",
              "      .colab-df-generate {\n",
              "        background-color: #E8F0FE;\n",
              "        border: none;\n",
              "        border-radius: 50%;\n",
              "        cursor: pointer;\n",
              "        display: none;\n",
              "        fill: #1967D2;\n",
              "        height: 32px;\n",
              "        padding: 0 0 0 0;\n",
              "        width: 32px;\n",
              "      }\n",
              "\n",
              "      .colab-df-generate:hover {\n",
              "        background-color: #E2EBFA;\n",
              "        box-shadow: 0px 1px 2px rgba(60, 64, 67, 0.3), 0px 1px 3px 1px rgba(60, 64, 67, 0.15);\n",
              "        fill: #174EA6;\n",
              "      }\n",
              "\n",
              "      [theme=dark] .colab-df-generate {\n",
              "        background-color: #3B4455;\n",
              "        fill: #D2E3FC;\n",
              "      }\n",
              "\n",
              "      [theme=dark] .colab-df-generate:hover {\n",
              "        background-color: #434B5C;\n",
              "        box-shadow: 0px 1px 3px 1px rgba(0, 0, 0, 0.15);\n",
              "        filter: drop-shadow(0px 1px 2px rgba(0, 0, 0, 0.3));\n",
              "        fill: #FFFFFF;\n",
              "      }\n",
              "    </style>\n",
              "    <button class=\"colab-df-generate\" onclick=\"generateWithVariable('df')\"\n",
              "            title=\"Generate code using this dataframe.\"\n",
              "            style=\"display:none;\">\n",
              "\n",
              "  <svg xmlns=\"http://www.w3.org/2000/svg\" height=\"24px\"viewBox=\"0 0 24 24\"\n",
              "       width=\"24px\">\n",
              "    <path d=\"M7,19H8.4L18.45,9,17,7.55,7,17.6ZM5,21V16.75L18.45,3.32a2,2,0,0,1,2.83,0l1.4,1.43a1.91,1.91,0,0,1,.58,1.4,1.91,1.91,0,0,1-.58,1.4L9.25,21ZM18.45,9,17,7.55Zm-12,3A5.31,5.31,0,0,0,4.9,8.1,5.31,5.31,0,0,0,1,6.5,5.31,5.31,0,0,0,4.9,4.9,5.31,5.31,0,0,0,6.5,1,5.31,5.31,0,0,0,8.1,4.9,5.31,5.31,0,0,0,12,6.5,5.46,5.46,0,0,0,6.5,12Z\"/>\n",
              "  </svg>\n",
              "    </button>\n",
              "    <script>\n",
              "      (() => {\n",
              "      const buttonEl =\n",
              "        document.querySelector('#id_ddc3d68b-663f-4d34-8249-c18b187a2895 button.colab-df-generate');\n",
              "      buttonEl.style.display =\n",
              "        google.colab.kernel.accessAllowed ? 'block' : 'none';\n",
              "\n",
              "      buttonEl.onclick = () => {\n",
              "        google.colab.notebook.generateWithVariable('df');\n",
              "      }\n",
              "      })();\n",
              "    </script>\n",
              "  </div>\n",
              "\n",
              "    </div>\n",
              "  </div>\n"
            ]
          },
          "metadata": {},
          "execution_count": 161
        }
      ]
    },
    {
      "cell_type": "markdown",
      "metadata": {
        "id": "29O-e8MAyOmA"
      },
      "source": [
        "### Dataframe.from_records"
      ]
    },
    {
      "cell_type": "markdown",
      "metadata": {
        "id": "kuaLvfMeyOmA"
      },
      "source": [
        "- Dataframe.from_records take a list of tuples or an ndarray with structured dtype.\n",
        "- Works analogously to the normal dataframe constructor,except that index may be aspecific field of the structured dtype to use as the index.for example:"
      ]
    },
    {
      "cell_type": "code",
      "execution_count": null,
      "metadata": {
        "id": "eKq1iZcbyOmA",
        "outputId": "cb9f3f0c-2495-4399-b17a-929c8a332346"
      },
      "outputs": [
        {
          "data": {
            "text/html": [
              "<div>\n",
              "<style scoped>\n",
              "    .dataframe tbody tr th:only-of-type {\n",
              "        vertical-align: middle;\n",
              "    }\n",
              "\n",
              "    .dataframe tbody tr th {\n",
              "        vertical-align: top;\n",
              "    }\n",
              "\n",
              "    .dataframe thead th {\n",
              "        text-align: right;\n",
              "    }\n",
              "</style>\n",
              "<table border=\"1\" class=\"dataframe\">\n",
              "  <thead>\n",
              "    <tr style=\"text-align: right;\">\n",
              "      <th></th>\n",
              "      <th>account</th>\n",
              "      <th>Jan</th>\n",
              "      <th>Feb</th>\n",
              "      <th>Mar</th>\n",
              "    </tr>\n",
              "  </thead>\n",
              "  <tbody>\n",
              "    <tr>\n",
              "      <th>0</th>\n",
              "      <td>Jones LLC</td>\n",
              "      <td>150</td>\n",
              "      <td>200</td>\n",
              "      <td>50</td>\n",
              "    </tr>\n",
              "    <tr>\n",
              "      <th>1</th>\n",
              "      <td>Alpha Co</td>\n",
              "      <td>200</td>\n",
              "      <td>210</td>\n",
              "      <td>90</td>\n",
              "    </tr>\n",
              "    <tr>\n",
              "      <th>2</th>\n",
              "      <td>Blue Inc</td>\n",
              "      <td>140</td>\n",
              "      <td>215</td>\n",
              "      <td>95</td>\n",
              "    </tr>\n",
              "  </tbody>\n",
              "</table>\n",
              "</div>"
            ],
            "text/plain": [
              "     account  Jan  Feb  Mar\n",
              "0  Jones LLC  150  200   50\n",
              "1   Alpha Co  200  210   90\n",
              "2   Blue Inc  140  215   95"
            ]
          },
          "execution_count": 28,
          "metadata": {},
          "output_type": "execute_result"
        }
      ],
      "source": [
        "sales = [('Jones LLC', 150, 200, 50),\n",
        "     ('Alpha Co', 200, 210, 90),\n",
        "     ('Blue Inc', 140, 215, 95)]\n",
        "labels = ['account', 'Jan', 'Feb', 'Mar']\n",
        "df = pd.DataFrame.from_records(sales, columns=labels)\n",
        "df"
      ]
    },
    {
      "cell_type": "markdown",
      "source": [
        "### **Erika**"
      ],
      "metadata": {
        "id": "Z8LEH28BEnMh"
      }
    },
    {
      "cell_type": "code",
      "source": [
        "#Using from_records to print 'dict2', however not a tuple dict:\n",
        "\n",
        "dict2 = [{'Yellow fruit':\"Lemon\" , 'Orange fruit' : \"Orange\", 'Green fruit':\"Lime\"},\n",
        " {'Yellow fruit':\"Banana\" , 'Orange fruit' : \"Mandarin\", 'Green fruit':\"Melon\"}]\n",
        "\n",
        "df = pd.DataFrame.from_records(dict2)\n",
        "df"
      ],
      "metadata": {
        "colab": {
          "base_uri": "https://localhost:8080/",
          "height": 125
        },
        "id": "GjUv9RrBEAJO",
        "outputId": "b4e6ba82-1cd1-4695-b142-0ee7f890c060"
      },
      "execution_count": null,
      "outputs": [
        {
          "output_type": "execute_result",
          "data": {
            "text/plain": [
              "  Yellow fruit Orange fruit Green fruit\n",
              "0        Lemon       Orange        Lime\n",
              "1       Banana     Mandarin       Melon"
            ],
            "text/html": [
              "\n",
              "  <div id=\"df-8bda5a1c-93d9-4371-b62c-7afdf87d14eb\" class=\"colab-df-container\">\n",
              "    <div>\n",
              "<style scoped>\n",
              "    .dataframe tbody tr th:only-of-type {\n",
              "        vertical-align: middle;\n",
              "    }\n",
              "\n",
              "    .dataframe tbody tr th {\n",
              "        vertical-align: top;\n",
              "    }\n",
              "\n",
              "    .dataframe thead th {\n",
              "        text-align: right;\n",
              "    }\n",
              "</style>\n",
              "<table border=\"1\" class=\"dataframe\">\n",
              "  <thead>\n",
              "    <tr style=\"text-align: right;\">\n",
              "      <th></th>\n",
              "      <th>Yellow fruit</th>\n",
              "      <th>Orange fruit</th>\n",
              "      <th>Green fruit</th>\n",
              "    </tr>\n",
              "  </thead>\n",
              "  <tbody>\n",
              "    <tr>\n",
              "      <th>0</th>\n",
              "      <td>Lemon</td>\n",
              "      <td>Orange</td>\n",
              "      <td>Lime</td>\n",
              "    </tr>\n",
              "    <tr>\n",
              "      <th>1</th>\n",
              "      <td>Banana</td>\n",
              "      <td>Mandarin</td>\n",
              "      <td>Melon</td>\n",
              "    </tr>\n",
              "  </tbody>\n",
              "</table>\n",
              "</div>\n",
              "    <div class=\"colab-df-buttons\">\n",
              "\n",
              "  <div class=\"colab-df-container\">\n",
              "    <button class=\"colab-df-convert\" onclick=\"convertToInteractive('df-8bda5a1c-93d9-4371-b62c-7afdf87d14eb')\"\n",
              "            title=\"Convert this dataframe to an interactive table.\"\n",
              "            style=\"display:none;\">\n",
              "\n",
              "  <svg xmlns=\"http://www.w3.org/2000/svg\" height=\"24px\" viewBox=\"0 -960 960 960\">\n",
              "    <path d=\"M120-120v-720h720v720H120Zm60-500h600v-160H180v160Zm220 220h160v-160H400v160Zm0 220h160v-160H400v160ZM180-400h160v-160H180v160Zm440 0h160v-160H620v160ZM180-180h160v-160H180v160Zm440 0h160v-160H620v160Z\"/>\n",
              "  </svg>\n",
              "    </button>\n",
              "\n",
              "  <style>\n",
              "    .colab-df-container {\n",
              "      display:flex;\n",
              "      gap: 12px;\n",
              "    }\n",
              "\n",
              "    .colab-df-convert {\n",
              "      background-color: #E8F0FE;\n",
              "      border: none;\n",
              "      border-radius: 50%;\n",
              "      cursor: pointer;\n",
              "      display: none;\n",
              "      fill: #1967D2;\n",
              "      height: 32px;\n",
              "      padding: 0 0 0 0;\n",
              "      width: 32px;\n",
              "    }\n",
              "\n",
              "    .colab-df-convert:hover {\n",
              "      background-color: #E2EBFA;\n",
              "      box-shadow: 0px 1px 2px rgba(60, 64, 67, 0.3), 0px 1px 3px 1px rgba(60, 64, 67, 0.15);\n",
              "      fill: #174EA6;\n",
              "    }\n",
              "\n",
              "    .colab-df-buttons div {\n",
              "      margin-bottom: 4px;\n",
              "    }\n",
              "\n",
              "    [theme=dark] .colab-df-convert {\n",
              "      background-color: #3B4455;\n",
              "      fill: #D2E3FC;\n",
              "    }\n",
              "\n",
              "    [theme=dark] .colab-df-convert:hover {\n",
              "      background-color: #434B5C;\n",
              "      box-shadow: 0px 1px 3px 1px rgba(0, 0, 0, 0.15);\n",
              "      filter: drop-shadow(0px 1px 2px rgba(0, 0, 0, 0.3));\n",
              "      fill: #FFFFFF;\n",
              "    }\n",
              "  </style>\n",
              "\n",
              "    <script>\n",
              "      const buttonEl =\n",
              "        document.querySelector('#df-8bda5a1c-93d9-4371-b62c-7afdf87d14eb button.colab-df-convert');\n",
              "      buttonEl.style.display =\n",
              "        google.colab.kernel.accessAllowed ? 'block' : 'none';\n",
              "\n",
              "      async function convertToInteractive(key) {\n",
              "        const element = document.querySelector('#df-8bda5a1c-93d9-4371-b62c-7afdf87d14eb');\n",
              "        const dataTable =\n",
              "          await google.colab.kernel.invokeFunction('convertToInteractive',\n",
              "                                                    [key], {});\n",
              "        if (!dataTable) return;\n",
              "\n",
              "        const docLinkHtml = 'Like what you see? Visit the ' +\n",
              "          '<a target=\"_blank\" href=https://colab.research.google.com/notebooks/data_table.ipynb>data table notebook</a>'\n",
              "          + ' to learn more about interactive tables.';\n",
              "        element.innerHTML = '';\n",
              "        dataTable['output_type'] = 'display_data';\n",
              "        await google.colab.output.renderOutput(dataTable, element);\n",
              "        const docLink = document.createElement('div');\n",
              "        docLink.innerHTML = docLinkHtml;\n",
              "        element.appendChild(docLink);\n",
              "      }\n",
              "    </script>\n",
              "  </div>\n",
              "\n",
              "\n",
              "<div id=\"df-14f30fe2-c02f-44b0-a4f9-e08b1f5c0e27\">\n",
              "  <button class=\"colab-df-quickchart\" onclick=\"quickchart('df-14f30fe2-c02f-44b0-a4f9-e08b1f5c0e27')\"\n",
              "            title=\"Suggest charts\"\n",
              "            style=\"display:none;\">\n",
              "\n",
              "<svg xmlns=\"http://www.w3.org/2000/svg\" height=\"24px\"viewBox=\"0 0 24 24\"\n",
              "     width=\"24px\">\n",
              "    <g>\n",
              "        <path d=\"M19 3H5c-1.1 0-2 .9-2 2v14c0 1.1.9 2 2 2h14c1.1 0 2-.9 2-2V5c0-1.1-.9-2-2-2zM9 17H7v-7h2v7zm4 0h-2V7h2v10zm4 0h-2v-4h2v4z\"/>\n",
              "    </g>\n",
              "</svg>\n",
              "  </button>\n",
              "\n",
              "<style>\n",
              "  .colab-df-quickchart {\n",
              "      --bg-color: #E8F0FE;\n",
              "      --fill-color: #1967D2;\n",
              "      --hover-bg-color: #E2EBFA;\n",
              "      --hover-fill-color: #174EA6;\n",
              "      --disabled-fill-color: #AAA;\n",
              "      --disabled-bg-color: #DDD;\n",
              "  }\n",
              "\n",
              "  [theme=dark] .colab-df-quickchart {\n",
              "      --bg-color: #3B4455;\n",
              "      --fill-color: #D2E3FC;\n",
              "      --hover-bg-color: #434B5C;\n",
              "      --hover-fill-color: #FFFFFF;\n",
              "      --disabled-bg-color: #3B4455;\n",
              "      --disabled-fill-color: #666;\n",
              "  }\n",
              "\n",
              "  .colab-df-quickchart {\n",
              "    background-color: var(--bg-color);\n",
              "    border: none;\n",
              "    border-radius: 50%;\n",
              "    cursor: pointer;\n",
              "    display: none;\n",
              "    fill: var(--fill-color);\n",
              "    height: 32px;\n",
              "    padding: 0;\n",
              "    width: 32px;\n",
              "  }\n",
              "\n",
              "  .colab-df-quickchart:hover {\n",
              "    background-color: var(--hover-bg-color);\n",
              "    box-shadow: 0 1px 2px rgba(60, 64, 67, 0.3), 0 1px 3px 1px rgba(60, 64, 67, 0.15);\n",
              "    fill: var(--button-hover-fill-color);\n",
              "  }\n",
              "\n",
              "  .colab-df-quickchart-complete:disabled,\n",
              "  .colab-df-quickchart-complete:disabled:hover {\n",
              "    background-color: var(--disabled-bg-color);\n",
              "    fill: var(--disabled-fill-color);\n",
              "    box-shadow: none;\n",
              "  }\n",
              "\n",
              "  .colab-df-spinner {\n",
              "    border: 2px solid var(--fill-color);\n",
              "    border-color: transparent;\n",
              "    border-bottom-color: var(--fill-color);\n",
              "    animation:\n",
              "      spin 1s steps(1) infinite;\n",
              "  }\n",
              "\n",
              "  @keyframes spin {\n",
              "    0% {\n",
              "      border-color: transparent;\n",
              "      border-bottom-color: var(--fill-color);\n",
              "      border-left-color: var(--fill-color);\n",
              "    }\n",
              "    20% {\n",
              "      border-color: transparent;\n",
              "      border-left-color: var(--fill-color);\n",
              "      border-top-color: var(--fill-color);\n",
              "    }\n",
              "    30% {\n",
              "      border-color: transparent;\n",
              "      border-left-color: var(--fill-color);\n",
              "      border-top-color: var(--fill-color);\n",
              "      border-right-color: var(--fill-color);\n",
              "    }\n",
              "    40% {\n",
              "      border-color: transparent;\n",
              "      border-right-color: var(--fill-color);\n",
              "      border-top-color: var(--fill-color);\n",
              "    }\n",
              "    60% {\n",
              "      border-color: transparent;\n",
              "      border-right-color: var(--fill-color);\n",
              "    }\n",
              "    80% {\n",
              "      border-color: transparent;\n",
              "      border-right-color: var(--fill-color);\n",
              "      border-bottom-color: var(--fill-color);\n",
              "    }\n",
              "    90% {\n",
              "      border-color: transparent;\n",
              "      border-bottom-color: var(--fill-color);\n",
              "    }\n",
              "  }\n",
              "</style>\n",
              "\n",
              "  <script>\n",
              "    async function quickchart(key) {\n",
              "      const quickchartButtonEl =\n",
              "        document.querySelector('#' + key + ' button');\n",
              "      quickchartButtonEl.disabled = true;  // To prevent multiple clicks.\n",
              "      quickchartButtonEl.classList.add('colab-df-spinner');\n",
              "      try {\n",
              "        const charts = await google.colab.kernel.invokeFunction(\n",
              "            'suggestCharts', [key], {});\n",
              "      } catch (error) {\n",
              "        console.error('Error during call to suggestCharts:', error);\n",
              "      }\n",
              "      quickchartButtonEl.classList.remove('colab-df-spinner');\n",
              "      quickchartButtonEl.classList.add('colab-df-quickchart-complete');\n",
              "    }\n",
              "    (() => {\n",
              "      let quickchartButtonEl =\n",
              "        document.querySelector('#df-14f30fe2-c02f-44b0-a4f9-e08b1f5c0e27 button');\n",
              "      quickchartButtonEl.style.display =\n",
              "        google.colab.kernel.accessAllowed ? 'block' : 'none';\n",
              "    })();\n",
              "  </script>\n",
              "</div>\n",
              "\n",
              "  <div id=\"id_1207cd2f-a71b-449d-b711-58c0def6942f\">\n",
              "    <style>\n",
              "      .colab-df-generate {\n",
              "        background-color: #E8F0FE;\n",
              "        border: none;\n",
              "        border-radius: 50%;\n",
              "        cursor: pointer;\n",
              "        display: none;\n",
              "        fill: #1967D2;\n",
              "        height: 32px;\n",
              "        padding: 0 0 0 0;\n",
              "        width: 32px;\n",
              "      }\n",
              "\n",
              "      .colab-df-generate:hover {\n",
              "        background-color: #E2EBFA;\n",
              "        box-shadow: 0px 1px 2px rgba(60, 64, 67, 0.3), 0px 1px 3px 1px rgba(60, 64, 67, 0.15);\n",
              "        fill: #174EA6;\n",
              "      }\n",
              "\n",
              "      [theme=dark] .colab-df-generate {\n",
              "        background-color: #3B4455;\n",
              "        fill: #D2E3FC;\n",
              "      }\n",
              "\n",
              "      [theme=dark] .colab-df-generate:hover {\n",
              "        background-color: #434B5C;\n",
              "        box-shadow: 0px 1px 3px 1px rgba(0, 0, 0, 0.15);\n",
              "        filter: drop-shadow(0px 1px 2px rgba(0, 0, 0, 0.3));\n",
              "        fill: #FFFFFF;\n",
              "      }\n",
              "    </style>\n",
              "    <button class=\"colab-df-generate\" onclick=\"generateWithVariable('df')\"\n",
              "            title=\"Generate code using this dataframe.\"\n",
              "            style=\"display:none;\">\n",
              "\n",
              "  <svg xmlns=\"http://www.w3.org/2000/svg\" height=\"24px\"viewBox=\"0 0 24 24\"\n",
              "       width=\"24px\">\n",
              "    <path d=\"M7,19H8.4L18.45,9,17,7.55,7,17.6ZM5,21V16.75L18.45,3.32a2,2,0,0,1,2.83,0l1.4,1.43a1.91,1.91,0,0,1,.58,1.4,1.91,1.91,0,0,1-.58,1.4L9.25,21ZM18.45,9,17,7.55Zm-12,3A5.31,5.31,0,0,0,4.9,8.1,5.31,5.31,0,0,0,1,6.5,5.31,5.31,0,0,0,4.9,4.9,5.31,5.31,0,0,0,6.5,1,5.31,5.31,0,0,0,8.1,4.9,5.31,5.31,0,0,0,12,6.5,5.46,5.46,0,0,0,6.5,12Z\"/>\n",
              "  </svg>\n",
              "    </button>\n",
              "    <script>\n",
              "      (() => {\n",
              "      const buttonEl =\n",
              "        document.querySelector('#id_1207cd2f-a71b-449d-b711-58c0def6942f button.colab-df-generate');\n",
              "      buttonEl.style.display =\n",
              "        google.colab.kernel.accessAllowed ? 'block' : 'none';\n",
              "\n",
              "      buttonEl.onclick = () => {\n",
              "        google.colab.notebook.generateWithVariable('df');\n",
              "      }\n",
              "      })();\n",
              "    </script>\n",
              "  </div>\n",
              "\n",
              "    </div>\n",
              "  </div>\n"
            ]
          },
          "metadata": {},
          "execution_count": 162
        }
      ]
    },
    {
      "cell_type": "markdown",
      "metadata": {
        "id": "lR1PNWYxyOmA"
      },
      "source": [
        "### Dataframe.from_items"
      ]
    },
    {
      "cell_type": "markdown",
      "metadata": {
        "id": "2ms4-7WsyOmB"
      },
      "source": [
        "- Convert (key, value) pairs to DataFrame. The keys will be the axis index (usually the columns, but depends on the specified orientation). The values should be arrays or Series."
      ]
    },
    {
      "cell_type": "code",
      "execution_count": null,
      "metadata": {
        "id": "jPhS9Q84yOmB",
        "outputId": "1fbffb70-9274-4faf-982d-bf6d5210362f",
        "colab": {
          "base_uri": "https://localhost:8080/",
          "height": 175
        }
      },
      "outputs": [
        {
          "output_type": "error",
          "ename": "AttributeError",
          "evalue": "type object 'DataFrame' has no attribute 'from_items'",
          "traceback": [
            "\u001b[0;31m---------------------------------------------------------------------------\u001b[0m",
            "\u001b[0;31mAttributeError\u001b[0m                            Traceback (most recent call last)",
            "\u001b[0;32m<ipython-input-164-e04bd4e2929f>\u001b[0m in \u001b[0;36m<cell line: 1>\u001b[0;34m()\u001b[0m\n\u001b[0;32m----> 1\u001b[0;31m \u001b[0mdf\u001b[0m\u001b[0;34m=\u001b[0m\u001b[0mpd\u001b[0m\u001b[0;34m.\u001b[0m\u001b[0mDataFrame\u001b[0m\u001b[0;34m.\u001b[0m\u001b[0mfrom_items\u001b[0m\u001b[0;34m(\u001b[0m\u001b[0;34m[\u001b[0m\u001b[0;34m(\u001b[0m\u001b[0;34m'A'\u001b[0m\u001b[0;34m,\u001b[0m\u001b[0;34m[\u001b[0m\u001b[0;36m1\u001b[0m\u001b[0;34m,\u001b[0m\u001b[0;36m2\u001b[0m\u001b[0;34m,\u001b[0m\u001b[0;36m3\u001b[0m\u001b[0;34m]\u001b[0m\u001b[0;34m)\u001b[0m\u001b[0;34m,\u001b[0m\u001b[0;34m(\u001b[0m\u001b[0;34m'B'\u001b[0m\u001b[0;34m,\u001b[0m\u001b[0;34m[\u001b[0m\u001b[0;36m4\u001b[0m\u001b[0;34m,\u001b[0m\u001b[0;36m5\u001b[0m\u001b[0;34m,\u001b[0m\u001b[0;36m6\u001b[0m\u001b[0;34m]\u001b[0m\u001b[0;34m)\u001b[0m\u001b[0;34m]\u001b[0m\u001b[0;34m)\u001b[0m\u001b[0;34m\u001b[0m\u001b[0;34m\u001b[0m\u001b[0m\n\u001b[0m",
            "\u001b[0;31mAttributeError\u001b[0m: type object 'DataFrame' has no attribute 'from_items'"
          ]
        }
      ],
      "source": [
        "df=pd.DataFrame.from_items([('A',[1,2,3]),('B',[4,5,6])])"
      ]
    },
    {
      "cell_type": "markdown",
      "source": [
        "### **Erika**"
      ],
      "metadata": {
        "id": "iOcYBUwPEp_z"
      }
    },
    {
      "cell_type": "code",
      "source": [
        "#Using from_records to print 'dict2', however not a tuple dict:\n",
        "\n",
        "dict2 = [{'Yellow fruit':\"Lemon\" , 'Orange fruit' : \"Orange\", 'Green fruit':\"Lime\"},\n",
        " {'Yellow fruit':\"Banana\" , 'Orange fruit' : \"Mandarin\", 'Green fruit':\"Melon\"}]\n",
        "\n",
        "df = pd.DataFrame.from_items(dict2)\n",
        "df\n",
        "\n",
        "##I seem to be geting AttributeError: type object 'DataFrame' has no attribute 'from_items'.\n",
        "##Not sure how to call dataframe as is?"
      ],
      "metadata": {
        "colab": {
          "base_uri": "https://localhost:8080/",
          "height": 227
        },
        "id": "CepNzRguDVSL",
        "outputId": "5773598f-cda1-4538-e2bf-ce3fc92a2050"
      },
      "execution_count": null,
      "outputs": [
        {
          "output_type": "error",
          "ename": "AttributeError",
          "evalue": "type object 'DataFrame' has no attribute 'from_items'",
          "traceback": [
            "\u001b[0;31m---------------------------------------------------------------------------\u001b[0m",
            "\u001b[0;31mAttributeError\u001b[0m                            Traceback (most recent call last)",
            "\u001b[0;32m<ipython-input-165-9f4b4251a07a>\u001b[0m in \u001b[0;36m<cell line: 6>\u001b[0;34m()\u001b[0m\n\u001b[1;32m      4\u001b[0m  {'Yellow fruit':\"Banana\" , 'Orange fruit' : \"Mandarin\", 'Green fruit':\"Melon\"}]\n\u001b[1;32m      5\u001b[0m \u001b[0;34m\u001b[0m\u001b[0m\n\u001b[0;32m----> 6\u001b[0;31m \u001b[0mdf\u001b[0m \u001b[0;34m=\u001b[0m \u001b[0mpd\u001b[0m\u001b[0;34m.\u001b[0m\u001b[0mDataFrame\u001b[0m\u001b[0;34m.\u001b[0m\u001b[0mfrom_items\u001b[0m\u001b[0;34m(\u001b[0m\u001b[0mdict2\u001b[0m\u001b[0;34m)\u001b[0m\u001b[0;34m\u001b[0m\u001b[0;34m\u001b[0m\u001b[0m\n\u001b[0m\u001b[1;32m      7\u001b[0m \u001b[0mdf\u001b[0m\u001b[0;34m\u001b[0m\u001b[0;34m\u001b[0m\u001b[0m\n",
            "\u001b[0;31mAttributeError\u001b[0m: type object 'DataFrame' has no attribute 'from_items'"
          ]
        }
      ]
    },
    {
      "cell_type": "code",
      "execution_count": null,
      "metadata": {
        "id": "5JxvAPgSyOmB",
        "outputId": "b7434abe-c28a-4a7b-d64c-aea6fbb86f1d"
      },
      "outputs": [
        {
          "name": "stderr",
          "output_type": "stream",
          "text": [
            "D:\\python\\lib\\site-packages\\ipykernel_launcher.py:1: FutureWarning: from_items is deprecated. Please use DataFrame.from_dict(dict(items), ...) instead. DataFrame.from_dict(OrderedDict(items)) may be used to preserve the key order.\n",
            "  \"\"\"Entry point for launching an IPython kernel.\n"
          ]
        },
        {
          "data": {
            "text/html": [
              "<div>\n",
              "<style scoped>\n",
              "    .dataframe tbody tr th:only-of-type {\n",
              "        vertical-align: middle;\n",
              "    }\n",
              "\n",
              "    .dataframe tbody tr th {\n",
              "        vertical-align: top;\n",
              "    }\n",
              "\n",
              "    .dataframe thead th {\n",
              "        text-align: right;\n",
              "    }\n",
              "</style>\n",
              "<table border=\"1\" class=\"dataframe\">\n",
              "  <thead>\n",
              "    <tr style=\"text-align: right;\">\n",
              "      <th></th>\n",
              "      <th>A</th>\n",
              "      <th>B</th>\n",
              "    </tr>\n",
              "  </thead>\n",
              "  <tbody>\n",
              "    <tr>\n",
              "      <th>0</th>\n",
              "      <td>1</td>\n",
              "      <td>4</td>\n",
              "    </tr>\n",
              "    <tr>\n",
              "      <th>1</th>\n",
              "      <td>2</td>\n",
              "      <td>5</td>\n",
              "    </tr>\n",
              "    <tr>\n",
              "      <th>2</th>\n",
              "      <td>3</td>\n",
              "      <td>6</td>\n",
              "    </tr>\n",
              "  </tbody>\n",
              "</table>\n",
              "</div>"
            ],
            "text/plain": [
              "   A  B\n",
              "0  1  4\n",
              "1  2  5\n",
              "2  3  6"
            ]
          },
          "execution_count": 33,
          "metadata": {},
          "output_type": "execute_result"
        }
      ],
      "source": [
        "df=pd.DataFrame.from_items([('A',[1,2,3]),('B',[4,5,6])])\n",
        "df"
      ]
    },
    {
      "cell_type": "markdown",
      "metadata": {
        "id": "4kGxkCE9yOmB"
      },
      "source": [
        "## 11.6 Column selection,addition,deletion"
      ]
    },
    {
      "cell_type": "markdown",
      "metadata": {
        "id": "X34ojPsWyOmB"
      },
      "source": [
        " - You can treat a DataFrame semantically like a dict of like-indexed Series objects. Getting, setting, and deleting columns works with the same syntax as the analogous dict operations:"
      ]
    },
    {
      "cell_type": "code",
      "execution_count": null,
      "metadata": {
        "id": "7nTCBksXyOmB",
        "outputId": "85db8b7f-0e37-49f9-c5e8-559fd44606c8"
      },
      "outputs": [
        {
          "data": {
            "text/html": [
              "<div>\n",
              "<style scoped>\n",
              "    .dataframe tbody tr th:only-of-type {\n",
              "        vertical-align: middle;\n",
              "    }\n",
              "\n",
              "    .dataframe tbody tr th {\n",
              "        vertical-align: top;\n",
              "    }\n",
              "\n",
              "    .dataframe thead th {\n",
              "        text-align: right;\n",
              "    }\n",
              "</style>\n",
              "<table border=\"1\" class=\"dataframe\">\n",
              "  <thead>\n",
              "    <tr style=\"text-align: right;\">\n",
              "      <th></th>\n",
              "      <th>a</th>\n",
              "      <th>a</th>\n",
              "    </tr>\n",
              "  </thead>\n",
              "  <tbody>\n",
              "    <tr>\n",
              "      <th>0</th>\n",
              "      <td>1</td>\n",
              "      <td>2</td>\n",
              "    </tr>\n",
              "    <tr>\n",
              "      <th>1</th>\n",
              "      <td>3</td>\n",
              "      <td>4</td>\n",
              "    </tr>\n",
              "    <tr>\n",
              "      <th>2</th>\n",
              "      <td>5</td>\n",
              "      <td>6</td>\n",
              "    </tr>\n",
              "  </tbody>\n",
              "</table>\n",
              "</div>"
            ],
            "text/plain": [
              "   a  a\n",
              "0  1  2\n",
              "1  3  4\n",
              "2  5  6"
            ]
          },
          "execution_count": 34,
          "metadata": {},
          "output_type": "execute_result"
        }
      ],
      "source": [
        "df = pd.DataFrame([[1,2],[3,4],[5,6]], columns=['a','a']) # you can adress column by index\n",
        "df"
      ]
    },
    {
      "cell_type": "code",
      "execution_count": null,
      "metadata": {
        "id": "tKXcdb4RyOmB",
        "outputId": "82983205-075c-4ae9-b038-68133f7ede7e"
      },
      "outputs": [
        {
          "data": {
            "text/html": [
              "<div>\n",
              "<style scoped>\n",
              "    .dataframe tbody tr th:only-of-type {\n",
              "        vertical-align: middle;\n",
              "    }\n",
              "\n",
              "    .dataframe tbody tr th {\n",
              "        vertical-align: top;\n",
              "    }\n",
              "\n",
              "    .dataframe thead th {\n",
              "        text-align: right;\n",
              "    }\n",
              "</style>\n",
              "<table border=\"1\" class=\"dataframe\">\n",
              "  <thead>\n",
              "    <tr style=\"text-align: right;\">\n",
              "      <th></th>\n",
              "      <th>a</th>\n",
              "      <th>b</th>\n",
              "    </tr>\n",
              "  </thead>\n",
              "  <tbody>\n",
              "    <tr>\n",
              "      <th>0</th>\n",
              "      <td>1</td>\n",
              "      <td>2</td>\n",
              "    </tr>\n",
              "    <tr>\n",
              "      <th>1</th>\n",
              "      <td>3</td>\n",
              "      <td>4</td>\n",
              "    </tr>\n",
              "    <tr>\n",
              "      <th>2</th>\n",
              "      <td>5</td>\n",
              "      <td>6</td>\n",
              "    </tr>\n",
              "  </tbody>\n",
              "</table>\n",
              "</div>"
            ],
            "text/plain": [
              "   a  b\n",
              "0  1  2\n",
              "1  3  4\n",
              "2  5  6"
            ]
          },
          "execution_count": 35,
          "metadata": {},
          "output_type": "execute_result"
        }
      ],
      "source": [
        "df = pd.DataFrame([[1,2],[3,4],[5,6]], columns=['a','a'])\n",
        "df.columns = ['a','b']  # rename column\n",
        "df"
      ]
    },
    {
      "cell_type": "code",
      "execution_count": null,
      "metadata": {
        "id": "ZblCG1PByOmB",
        "outputId": "28cc8d32-e093-44de-ba9d-57c8dfbf0364"
      },
      "outputs": [
        {
          "data": {
            "text/html": [
              "<div>\n",
              "<style scoped>\n",
              "    .dataframe tbody tr th:only-of-type {\n",
              "        vertical-align: middle;\n",
              "    }\n",
              "\n",
              "    .dataframe tbody tr th {\n",
              "        vertical-align: top;\n",
              "    }\n",
              "\n",
              "    .dataframe thead th {\n",
              "        text-align: right;\n",
              "    }\n",
              "</style>\n",
              "<table border=\"1\" class=\"dataframe\">\n",
              "  <thead>\n",
              "    <tr style=\"text-align: right;\">\n",
              "      <th></th>\n",
              "      <th>a</th>\n",
              "    </tr>\n",
              "  </thead>\n",
              "  <tbody>\n",
              "    <tr>\n",
              "      <th>0</th>\n",
              "      <td>1</td>\n",
              "    </tr>\n",
              "    <tr>\n",
              "      <th>1</th>\n",
              "      <td>3</td>\n",
              "    </tr>\n",
              "    <tr>\n",
              "      <th>2</th>\n",
              "      <td>5</td>\n",
              "    </tr>\n",
              "  </tbody>\n",
              "</table>\n",
              "</div>"
            ],
            "text/plain": [
              "   a\n",
              "0  1\n",
              "1  3\n",
              "2  5"
            ]
          },
          "execution_count": 36,
          "metadata": {},
          "output_type": "execute_result"
        }
      ],
      "source": [
        "df = pd.DataFrame([[1,2],[3,4],[5,6]], columns=['a','b'])\n",
        "del df['b']   # delete column\n",
        "df"
      ]
    },
    {
      "cell_type": "code",
      "execution_count": null,
      "metadata": {
        "id": "t3hOjtIqyOmC",
        "outputId": "fc9f834d-e2b9-4b61-ea98-0c9e74c91a12"
      },
      "outputs": [
        {
          "data": {
            "text/html": [
              "<div>\n",
              "<style scoped>\n",
              "    .dataframe tbody tr th:only-of-type {\n",
              "        vertical-align: middle;\n",
              "    }\n",
              "\n",
              "    .dataframe tbody tr th {\n",
              "        vertical-align: top;\n",
              "    }\n",
              "\n",
              "    .dataframe thead th {\n",
              "        text-align: right;\n",
              "    }\n",
              "</style>\n",
              "<table border=\"1\" class=\"dataframe\">\n",
              "  <thead>\n",
              "    <tr style=\"text-align: right;\">\n",
              "      <th></th>\n",
              "      <th>a</th>\n",
              "      <th>b</th>\n",
              "      <th>c</th>\n",
              "    </tr>\n",
              "  </thead>\n",
              "  <tbody>\n",
              "    <tr>\n",
              "      <th>0</th>\n",
              "      <td>1</td>\n",
              "      <td>2</td>\n",
              "      <td>2</td>\n",
              "    </tr>\n",
              "    <tr>\n",
              "      <th>1</th>\n",
              "      <td>3</td>\n",
              "      <td>4</td>\n",
              "      <td>2</td>\n",
              "    </tr>\n",
              "    <tr>\n",
              "      <th>2</th>\n",
              "      <td>5</td>\n",
              "      <td>6</td>\n",
              "      <td>2</td>\n",
              "    </tr>\n",
              "  </tbody>\n",
              "</table>\n",
              "</div>"
            ],
            "text/plain": [
              "   a  b  c\n",
              "0  1  2  2\n",
              "1  3  4  2\n",
              "2  5  6  2"
            ]
          },
          "execution_count": 37,
          "metadata": {},
          "output_type": "execute_result"
        }
      ],
      "source": [
        "df = pd.DataFrame([[1,2],[3,4],[5,6]], columns=['a','b'])\n",
        "df['c']='2'   #add new column c and fill with 2\n",
        "df"
      ]
    },
    {
      "cell_type": "markdown",
      "source": [
        "### **Erika**"
      ],
      "metadata": {
        "id": "D6vGyraDEtiw"
      }
    },
    {
      "cell_type": "code",
      "source": [
        "#Added new column 'La'\n",
        "\n",
        " d = {'Rah': pd.Series(['Rah','rah','ah'], index = [1,2,3]),\n",
        "'Roma': pd.Series(['Roma','roma','ma'], index = [1,2,3])}\n",
        " df = pd.DataFrame(d)\n",
        " df[\"La\"]='La'\n",
        " df"
      ],
      "metadata": {
        "colab": {
          "base_uri": "https://localhost:8080/",
          "height": 143
        },
        "id": "jcXDyI7IEeEo",
        "outputId": "c5e166e3-2e38-4706-bb20-4cd399a9e46c"
      },
      "execution_count": null,
      "outputs": [
        {
          "output_type": "execute_result",
          "data": {
            "text/plain": [
              "   Rah  Roma  La\n",
              "1  Rah  Roma  La\n",
              "2  rah  roma  La\n",
              "3   ah    ma  La"
            ],
            "text/html": [
              "\n",
              "  <div id=\"df-dcfb7e95-7962-45d0-8748-e09e97903407\" class=\"colab-df-container\">\n",
              "    <div>\n",
              "<style scoped>\n",
              "    .dataframe tbody tr th:only-of-type {\n",
              "        vertical-align: middle;\n",
              "    }\n",
              "\n",
              "    .dataframe tbody tr th {\n",
              "        vertical-align: top;\n",
              "    }\n",
              "\n",
              "    .dataframe thead th {\n",
              "        text-align: right;\n",
              "    }\n",
              "</style>\n",
              "<table border=\"1\" class=\"dataframe\">\n",
              "  <thead>\n",
              "    <tr style=\"text-align: right;\">\n",
              "      <th></th>\n",
              "      <th>Rah</th>\n",
              "      <th>Roma</th>\n",
              "      <th>La</th>\n",
              "    </tr>\n",
              "  </thead>\n",
              "  <tbody>\n",
              "    <tr>\n",
              "      <th>1</th>\n",
              "      <td>Rah</td>\n",
              "      <td>Roma</td>\n",
              "      <td>La</td>\n",
              "    </tr>\n",
              "    <tr>\n",
              "      <th>2</th>\n",
              "      <td>rah</td>\n",
              "      <td>roma</td>\n",
              "      <td>La</td>\n",
              "    </tr>\n",
              "    <tr>\n",
              "      <th>3</th>\n",
              "      <td>ah</td>\n",
              "      <td>ma</td>\n",
              "      <td>La</td>\n",
              "    </tr>\n",
              "  </tbody>\n",
              "</table>\n",
              "</div>\n",
              "    <div class=\"colab-df-buttons\">\n",
              "\n",
              "  <div class=\"colab-df-container\">\n",
              "    <button class=\"colab-df-convert\" onclick=\"convertToInteractive('df-dcfb7e95-7962-45d0-8748-e09e97903407')\"\n",
              "            title=\"Convert this dataframe to an interactive table.\"\n",
              "            style=\"display:none;\">\n",
              "\n",
              "  <svg xmlns=\"http://www.w3.org/2000/svg\" height=\"24px\" viewBox=\"0 -960 960 960\">\n",
              "    <path d=\"M120-120v-720h720v720H120Zm60-500h600v-160H180v160Zm220 220h160v-160H400v160Zm0 220h160v-160H400v160ZM180-400h160v-160H180v160Zm440 0h160v-160H620v160ZM180-180h160v-160H180v160Zm440 0h160v-160H620v160Z\"/>\n",
              "  </svg>\n",
              "    </button>\n",
              "\n",
              "  <style>\n",
              "    .colab-df-container {\n",
              "      display:flex;\n",
              "      gap: 12px;\n",
              "    }\n",
              "\n",
              "    .colab-df-convert {\n",
              "      background-color: #E8F0FE;\n",
              "      border: none;\n",
              "      border-radius: 50%;\n",
              "      cursor: pointer;\n",
              "      display: none;\n",
              "      fill: #1967D2;\n",
              "      height: 32px;\n",
              "      padding: 0 0 0 0;\n",
              "      width: 32px;\n",
              "    }\n",
              "\n",
              "    .colab-df-convert:hover {\n",
              "      background-color: #E2EBFA;\n",
              "      box-shadow: 0px 1px 2px rgba(60, 64, 67, 0.3), 0px 1px 3px 1px rgba(60, 64, 67, 0.15);\n",
              "      fill: #174EA6;\n",
              "    }\n",
              "\n",
              "    .colab-df-buttons div {\n",
              "      margin-bottom: 4px;\n",
              "    }\n",
              "\n",
              "    [theme=dark] .colab-df-convert {\n",
              "      background-color: #3B4455;\n",
              "      fill: #D2E3FC;\n",
              "    }\n",
              "\n",
              "    [theme=dark] .colab-df-convert:hover {\n",
              "      background-color: #434B5C;\n",
              "      box-shadow: 0px 1px 3px 1px rgba(0, 0, 0, 0.15);\n",
              "      filter: drop-shadow(0px 1px 2px rgba(0, 0, 0, 0.3));\n",
              "      fill: #FFFFFF;\n",
              "    }\n",
              "  </style>\n",
              "\n",
              "    <script>\n",
              "      const buttonEl =\n",
              "        document.querySelector('#df-dcfb7e95-7962-45d0-8748-e09e97903407 button.colab-df-convert');\n",
              "      buttonEl.style.display =\n",
              "        google.colab.kernel.accessAllowed ? 'block' : 'none';\n",
              "\n",
              "      async function convertToInteractive(key) {\n",
              "        const element = document.querySelector('#df-dcfb7e95-7962-45d0-8748-e09e97903407');\n",
              "        const dataTable =\n",
              "          await google.colab.kernel.invokeFunction('convertToInteractive',\n",
              "                                                    [key], {});\n",
              "        if (!dataTable) return;\n",
              "\n",
              "        const docLinkHtml = 'Like what you see? Visit the ' +\n",
              "          '<a target=\"_blank\" href=https://colab.research.google.com/notebooks/data_table.ipynb>data table notebook</a>'\n",
              "          + ' to learn more about interactive tables.';\n",
              "        element.innerHTML = '';\n",
              "        dataTable['output_type'] = 'display_data';\n",
              "        await google.colab.output.renderOutput(dataTable, element);\n",
              "        const docLink = document.createElement('div');\n",
              "        docLink.innerHTML = docLinkHtml;\n",
              "        element.appendChild(docLink);\n",
              "      }\n",
              "    </script>\n",
              "  </div>\n",
              "\n",
              "\n",
              "<div id=\"df-d77c21a8-1e75-4864-8527-2d333aeba58d\">\n",
              "  <button class=\"colab-df-quickchart\" onclick=\"quickchart('df-d77c21a8-1e75-4864-8527-2d333aeba58d')\"\n",
              "            title=\"Suggest charts\"\n",
              "            style=\"display:none;\">\n",
              "\n",
              "<svg xmlns=\"http://www.w3.org/2000/svg\" height=\"24px\"viewBox=\"0 0 24 24\"\n",
              "     width=\"24px\">\n",
              "    <g>\n",
              "        <path d=\"M19 3H5c-1.1 0-2 .9-2 2v14c0 1.1.9 2 2 2h14c1.1 0 2-.9 2-2V5c0-1.1-.9-2-2-2zM9 17H7v-7h2v7zm4 0h-2V7h2v10zm4 0h-2v-4h2v4z\"/>\n",
              "    </g>\n",
              "</svg>\n",
              "  </button>\n",
              "\n",
              "<style>\n",
              "  .colab-df-quickchart {\n",
              "      --bg-color: #E8F0FE;\n",
              "      --fill-color: #1967D2;\n",
              "      --hover-bg-color: #E2EBFA;\n",
              "      --hover-fill-color: #174EA6;\n",
              "      --disabled-fill-color: #AAA;\n",
              "      --disabled-bg-color: #DDD;\n",
              "  }\n",
              "\n",
              "  [theme=dark] .colab-df-quickchart {\n",
              "      --bg-color: #3B4455;\n",
              "      --fill-color: #D2E3FC;\n",
              "      --hover-bg-color: #434B5C;\n",
              "      --hover-fill-color: #FFFFFF;\n",
              "      --disabled-bg-color: #3B4455;\n",
              "      --disabled-fill-color: #666;\n",
              "  }\n",
              "\n",
              "  .colab-df-quickchart {\n",
              "    background-color: var(--bg-color);\n",
              "    border: none;\n",
              "    border-radius: 50%;\n",
              "    cursor: pointer;\n",
              "    display: none;\n",
              "    fill: var(--fill-color);\n",
              "    height: 32px;\n",
              "    padding: 0;\n",
              "    width: 32px;\n",
              "  }\n",
              "\n",
              "  .colab-df-quickchart:hover {\n",
              "    background-color: var(--hover-bg-color);\n",
              "    box-shadow: 0 1px 2px rgba(60, 64, 67, 0.3), 0 1px 3px 1px rgba(60, 64, 67, 0.15);\n",
              "    fill: var(--button-hover-fill-color);\n",
              "  }\n",
              "\n",
              "  .colab-df-quickchart-complete:disabled,\n",
              "  .colab-df-quickchart-complete:disabled:hover {\n",
              "    background-color: var(--disabled-bg-color);\n",
              "    fill: var(--disabled-fill-color);\n",
              "    box-shadow: none;\n",
              "  }\n",
              "\n",
              "  .colab-df-spinner {\n",
              "    border: 2px solid var(--fill-color);\n",
              "    border-color: transparent;\n",
              "    border-bottom-color: var(--fill-color);\n",
              "    animation:\n",
              "      spin 1s steps(1) infinite;\n",
              "  }\n",
              "\n",
              "  @keyframes spin {\n",
              "    0% {\n",
              "      border-color: transparent;\n",
              "      border-bottom-color: var(--fill-color);\n",
              "      border-left-color: var(--fill-color);\n",
              "    }\n",
              "    20% {\n",
              "      border-color: transparent;\n",
              "      border-left-color: var(--fill-color);\n",
              "      border-top-color: var(--fill-color);\n",
              "    }\n",
              "    30% {\n",
              "      border-color: transparent;\n",
              "      border-left-color: var(--fill-color);\n",
              "      border-top-color: var(--fill-color);\n",
              "      border-right-color: var(--fill-color);\n",
              "    }\n",
              "    40% {\n",
              "      border-color: transparent;\n",
              "      border-right-color: var(--fill-color);\n",
              "      border-top-color: var(--fill-color);\n",
              "    }\n",
              "    60% {\n",
              "      border-color: transparent;\n",
              "      border-right-color: var(--fill-color);\n",
              "    }\n",
              "    80% {\n",
              "      border-color: transparent;\n",
              "      border-right-color: var(--fill-color);\n",
              "      border-bottom-color: var(--fill-color);\n",
              "    }\n",
              "    90% {\n",
              "      border-color: transparent;\n",
              "      border-bottom-color: var(--fill-color);\n",
              "    }\n",
              "  }\n",
              "</style>\n",
              "\n",
              "  <script>\n",
              "    async function quickchart(key) {\n",
              "      const quickchartButtonEl =\n",
              "        document.querySelector('#' + key + ' button');\n",
              "      quickchartButtonEl.disabled = true;  // To prevent multiple clicks.\n",
              "      quickchartButtonEl.classList.add('colab-df-spinner');\n",
              "      try {\n",
              "        const charts = await google.colab.kernel.invokeFunction(\n",
              "            'suggestCharts', [key], {});\n",
              "      } catch (error) {\n",
              "        console.error('Error during call to suggestCharts:', error);\n",
              "      }\n",
              "      quickchartButtonEl.classList.remove('colab-df-spinner');\n",
              "      quickchartButtonEl.classList.add('colab-df-quickchart-complete');\n",
              "    }\n",
              "    (() => {\n",
              "      let quickchartButtonEl =\n",
              "        document.querySelector('#df-d77c21a8-1e75-4864-8527-2d333aeba58d button');\n",
              "      quickchartButtonEl.style.display =\n",
              "        google.colab.kernel.accessAllowed ? 'block' : 'none';\n",
              "    })();\n",
              "  </script>\n",
              "</div>\n",
              "\n",
              "  <div id=\"id_245db5b9-3b7f-45e1-aa78-243e5b68b0c9\">\n",
              "    <style>\n",
              "      .colab-df-generate {\n",
              "        background-color: #E8F0FE;\n",
              "        border: none;\n",
              "        border-radius: 50%;\n",
              "        cursor: pointer;\n",
              "        display: none;\n",
              "        fill: #1967D2;\n",
              "        height: 32px;\n",
              "        padding: 0 0 0 0;\n",
              "        width: 32px;\n",
              "      }\n",
              "\n",
              "      .colab-df-generate:hover {\n",
              "        background-color: #E2EBFA;\n",
              "        box-shadow: 0px 1px 2px rgba(60, 64, 67, 0.3), 0px 1px 3px 1px rgba(60, 64, 67, 0.15);\n",
              "        fill: #174EA6;\n",
              "      }\n",
              "\n",
              "      [theme=dark] .colab-df-generate {\n",
              "        background-color: #3B4455;\n",
              "        fill: #D2E3FC;\n",
              "      }\n",
              "\n",
              "      [theme=dark] .colab-df-generate:hover {\n",
              "        background-color: #434B5C;\n",
              "        box-shadow: 0px 1px 3px 1px rgba(0, 0, 0, 0.15);\n",
              "        filter: drop-shadow(0px 1px 2px rgba(0, 0, 0, 0.3));\n",
              "        fill: #FFFFFF;\n",
              "      }\n",
              "    </style>\n",
              "    <button class=\"colab-df-generate\" onclick=\"generateWithVariable('df')\"\n",
              "            title=\"Generate code using this dataframe.\"\n",
              "            style=\"display:none;\">\n",
              "\n",
              "  <svg xmlns=\"http://www.w3.org/2000/svg\" height=\"24px\"viewBox=\"0 0 24 24\"\n",
              "       width=\"24px\">\n",
              "    <path d=\"M7,19H8.4L18.45,9,17,7.55,7,17.6ZM5,21V16.75L18.45,3.32a2,2,0,0,1,2.83,0l1.4,1.43a1.91,1.91,0,0,1,.58,1.4,1.91,1.91,0,0,1-.58,1.4L9.25,21ZM18.45,9,17,7.55Zm-12,3A5.31,5.31,0,0,0,4.9,8.1,5.31,5.31,0,0,0,1,6.5,5.31,5.31,0,0,0,4.9,4.9,5.31,5.31,0,0,0,6.5,1,5.31,5.31,0,0,0,8.1,4.9,5.31,5.31,0,0,0,12,6.5,5.46,5.46,0,0,0,6.5,12Z\"/>\n",
              "  </svg>\n",
              "    </button>\n",
              "    <script>\n",
              "      (() => {\n",
              "      const buttonEl =\n",
              "        document.querySelector('#id_245db5b9-3b7f-45e1-aa78-243e5b68b0c9 button.colab-df-generate');\n",
              "      buttonEl.style.display =\n",
              "        google.colab.kernel.accessAllowed ? 'block' : 'none';\n",
              "\n",
              "      buttonEl.onclick = () => {\n",
              "        google.colab.notebook.generateWithVariable('df');\n",
              "      }\n",
              "      })();\n",
              "    </script>\n",
              "  </div>\n",
              "\n",
              "    </div>\n",
              "  </div>\n"
            ]
          },
          "metadata": {},
          "execution_count": 169
        }
      ]
    },
    {
      "cell_type": "markdown",
      "metadata": {
        "id": "pk21yXydyOmC"
      },
      "source": [
        "### 11.7 Indexing / seletion"
      ]
    },
    {
      "cell_type": "markdown",
      "metadata": {
        "id": "aaVddQqFyOmC"
      },
      "source": [
        "- Row selection, for example, returns a Series whose index is the columns of the DataFrame:\n",
        "- Pandas now supports three types of Multi-axes indexing; the three types are:\n",
        "    - .loc()  (label based)\n",
        "    - .iloc()  (integer based)\n",
        "    - .ix()    (both label and integer based)\n",
        "- loc takes two single/list/range operator separated by ','. The first one indicates the row and the second one indicates columns.\n",
        "- iloc(): Pandas provide various methods in order to get purely integer based indexing. Like python and numpy, these are 0-based indexing.\n",
        "- ix(): Besides pure label based and integer based, Pandas provides a hybrid method for selections and subsetting the object using the .ix() operator."
      ]
    },
    {
      "cell_type": "markdown",
      "metadata": {
        "id": "ypNBeFFDyOmC"
      },
      "source": [
        "#### .loc()"
      ]
    },
    {
      "cell_type": "code",
      "execution_count": null,
      "metadata": {
        "id": "qIGTGettyOmC",
        "outputId": "1bb3c785-2145-4dd4-ae1d-d7892be4932c"
      },
      "outputs": [
        {
          "name": "stdout",
          "output_type": "stream",
          "text": [
            "a   -0.079142\n",
            "b   -1.058681\n",
            "c   -0.288618\n",
            "d    1.305291\n",
            "e   -0.142134\n",
            "f   -1.700362\n",
            "g    1.181158\n",
            "h    1.580676\n",
            "Name: A, dtype: float64\n"
          ]
        }
      ],
      "source": [
        "df = pd.DataFrame(np.random.randn(8, 4),\n",
        "index = ['a','b','c','d','e','f','g','h'], columns = ['A', 'B', 'C', 'D'])\n",
        "\n",
        "#select all rows for a specific column\n",
        "print (df.loc[:,'A'])"
      ]
    },
    {
      "cell_type": "code",
      "execution_count": null,
      "metadata": {
        "id": "D7YYjRx2yOmD"
      },
      "outputs": [],
      "source": [
        "import pandas as pd\n",
        "import numpy as np"
      ]
    },
    {
      "cell_type": "code",
      "execution_count": null,
      "metadata": {
        "id": "7fjCxkX8yOmD"
      },
      "outputs": [],
      "source": [
        "df = pd.DataFrame(np.random.randn(8, 4),\n",
        "index = ['a','b','c','d','e','f','g','h'], columns = ['A', 'B', 'C', 'D'])\n",
        "\n",
        "# Select all rows for multiple columns, say list[]\n",
        "print (df.loc[:,['A','C']])"
      ]
    },
    {
      "cell_type": "code",
      "execution_count": null,
      "metadata": {
        "id": "UvYUW23dyOmD",
        "outputId": "fbc4d381-5b2e-4c0b-9593-7c7ed2f74eb5"
      },
      "outputs": [
        {
          "name": "stdout",
          "output_type": "stream",
          "text": [
            "          A         B         C         D\n",
            "a  0.037907  1.015942 -0.267717  1.894588\n",
            "b  0.935796 -0.160951 -0.323399 -1.175658\n",
            "c -0.169679  1.233065 -2.498030 -0.035843\n",
            "d -0.347513 -1.111108  0.259755 -0.382133\n",
            "e  0.355051 -0.882159 -0.289581 -0.357559\n",
            "f -2.254955 -2.390495  0.307529  1.269759\n",
            "g  0.220503 -0.769530 -0.207382  0.005101\n",
            "h -1.264961  0.385471 -1.854020  0.627250\n"
          ]
        }
      ],
      "source": [
        "df = pd.DataFrame(np.random.randn(8, 4),\n",
        "index = ['a','b','c','d','e','f','g','h'], columns = ['A', 'B', 'C', 'D'])\n",
        "\n",
        "# Select range of rows for all columns\n",
        "print (df.loc['a':'h'])"
      ]
    },
    {
      "cell_type": "markdown",
      "metadata": {
        "id": "BiEEkZpNyOmE"
      },
      "source": [
        "#### .iloc()"
      ]
    },
    {
      "cell_type": "code",
      "execution_count": null,
      "metadata": {
        "id": "1cPhYOKcyOmE",
        "outputId": "48d77d91-101d-457d-cf8c-d4e110bfd954"
      },
      "outputs": [
        {
          "name": "stdout",
          "output_type": "stream",
          "text": [
            "          A         B         C         D\n",
            "0  0.885934  0.448261  0.584728  0.074509\n",
            "1  0.670950  1.247670 -1.150118  0.769580\n",
            "2  0.220727 -0.372701  0.232594  0.188892\n",
            "3 -0.141555  0.356357  0.119643  0.125009\n"
          ]
        }
      ],
      "source": [
        "df = pd.DataFrame(np.random.randn(8, 4), columns = ['A', 'B', 'C', 'D'])\n",
        "\n",
        "# select all rows for a specific column\n",
        "print (df.iloc[:4])"
      ]
    },
    {
      "cell_type": "code",
      "execution_count": null,
      "metadata": {
        "id": "sZ_dtzidyOmE",
        "outputId": "f4c54946-2012-44b5-913f-dc542e211f36"
      },
      "outputs": [
        {
          "name": "stdout",
          "output_type": "stream",
          "text": [
            "          C         D\n",
            "1 -0.600980  2.148089\n",
            "2  0.622637  0.357187\n",
            "3 -0.038853 -0.265465\n",
            "4  0.049228 -0.269615\n"
          ]
        }
      ],
      "source": [
        "df = pd.DataFrame(np.random.randn(8, 4), columns = ['A', 'B', 'C', 'D'])\n",
        "\n",
        "# Integer slicing\n",
        "\n",
        "print (df.iloc[1:5, 2:4])"
      ]
    },
    {
      "cell_type": "markdown",
      "metadata": {
        "id": "O_UkGrVgyOmF"
      },
      "source": [
        "#### .ix()"
      ]
    },
    {
      "cell_type": "code",
      "execution_count": null,
      "metadata": {
        "id": "F5EjLeeKyOmF",
        "outputId": "44dc3214-de76-41e6-b9ae-c6c5536ec8c8"
      },
      "outputs": [
        {
          "name": "stdout",
          "output_type": "stream",
          "text": [
            "          A         B         C         D\n",
            "0 -1.518915 -0.496256 -1.905349  0.325399\n",
            "1 -1.321410 -0.853576  1.436926 -1.057146\n",
            "2  0.092644  1.201601 -0.994798 -2.017163\n",
            "3 -0.045991 -2.069596  0.011527  0.426753\n",
            "4 -1.180576 -0.290050  0.678418 -1.086825\n"
          ]
        },
        {
          "name": "stderr",
          "output_type": "stream",
          "text": [
            "D:\\python\\lib\\site-packages\\ipykernel_launcher.py:4: DeprecationWarning: \n",
            ".ix is deprecated. Please use\n",
            ".loc for label based indexing or\n",
            ".iloc for positional indexing\n",
            "\n",
            "See the documentation here:\n",
            "http://pandas.pydata.org/pandas-docs/stable/indexing.html#ix-indexer-is-deprecated\n",
            "  after removing the cwd from sys.path.\n"
          ]
        }
      ],
      "source": [
        "df = pd.DataFrame(np.random.randn(8, 4), columns = ['A', 'B', 'C', 'D'])\n",
        "\n",
        "# Integer slicing\n",
        "print (df.ix[:4])"
      ]
    },
    {
      "cell_type": "code",
      "execution_count": null,
      "metadata": {
        "id": "ZoczAWFWyOmF",
        "outputId": "18a37a9b-d6d4-47a6-fd3e-77b1616688ae"
      },
      "outputs": [
        {
          "name": "stdout",
          "output_type": "stream",
          "text": [
            "0   -0.470479\n",
            "1    0.185088\n",
            "2   -1.624392\n",
            "3   -0.549156\n",
            "4    0.494236\n",
            "5    0.147245\n",
            "6   -1.273751\n",
            "7   -0.981244\n",
            "Name: A, dtype: float64\n"
          ]
        },
        {
          "name": "stderr",
          "output_type": "stream",
          "text": [
            "D:\\python\\lib\\site-packages\\ipykernel_launcher.py:3: DeprecationWarning: \n",
            ".ix is deprecated. Please use\n",
            ".loc for label based indexing or\n",
            ".iloc for positional indexing\n",
            "\n",
            "See the documentation here:\n",
            "http://pandas.pydata.org/pandas-docs/stable/indexing.html#ix-indexer-is-deprecated\n",
            "  This is separate from the ipykernel package so we can avoid doing imports until\n"
          ]
        }
      ],
      "source": [
        "df = pd.DataFrame(np.random.randn(8, 4), columns = ['A', 'B', 'C', 'D'])\n",
        "# Index slicing\n",
        "print (df.ix[:,'A'])"
      ]
    },
    {
      "cell_type": "markdown",
      "metadata": {
        "id": "oC4sXKiYyOmG"
      },
      "source": [
        "## 11.8 Data alignment and arithmetic"
      ]
    },
    {
      "cell_type": "markdown",
      "metadata": {
        "id": "1TCrIVTDyOmG"
      },
      "source": [
        " - Data alignment between DataFrame objects automatically align on both the columns and the index (row labels).\n",
        " - Again, the resulting object will have the union of the column and row labels."
      ]
    },
    {
      "cell_type": "code",
      "execution_count": null,
      "metadata": {
        "id": "8IAj1A0HyOmG",
        "outputId": "ee944479-7b42-4ace-95ef-c0dce4385d25"
      },
      "outputs": [
        {
          "data": {
            "text/html": [
              "<div>\n",
              "<style scoped>\n",
              "    .dataframe tbody tr th:only-of-type {\n",
              "        vertical-align: middle;\n",
              "    }\n",
              "\n",
              "    .dataframe tbody tr th {\n",
              "        vertical-align: top;\n",
              "    }\n",
              "\n",
              "    .dataframe thead th {\n",
              "        text-align: right;\n",
              "    }\n",
              "</style>\n",
              "<table border=\"1\" class=\"dataframe\">\n",
              "  <thead>\n",
              "    <tr style=\"text-align: right;\">\n",
              "      <th></th>\n",
              "      <th>A</th>\n",
              "      <th>B</th>\n",
              "      <th>C</th>\n",
              "      <th>D</th>\n",
              "    </tr>\n",
              "  </thead>\n",
              "  <tbody>\n",
              "    <tr>\n",
              "      <th>0</th>\n",
              "      <td>-0.117700</td>\n",
              "      <td>0.788149</td>\n",
              "      <td>0.776948</td>\n",
              "      <td>-1.159620</td>\n",
              "    </tr>\n",
              "    <tr>\n",
              "      <th>1</th>\n",
              "      <td>0.604453</td>\n",
              "      <td>-0.487806</td>\n",
              "      <td>1.356927</td>\n",
              "      <td>0.008448</td>\n",
              "    </tr>\n",
              "    <tr>\n",
              "      <th>2</th>\n",
              "      <td>-0.886517</td>\n",
              "      <td>0.044949</td>\n",
              "      <td>0.023818</td>\n",
              "      <td>2.174181</td>\n",
              "    </tr>\n",
              "    <tr>\n",
              "      <th>3</th>\n",
              "      <td>0.567215</td>\n",
              "      <td>0.902368</td>\n",
              "      <td>0.135462</td>\n",
              "      <td>-0.051920</td>\n",
              "    </tr>\n",
              "    <tr>\n",
              "      <th>4</th>\n",
              "      <td>-0.574904</td>\n",
              "      <td>0.555554</td>\n",
              "      <td>-0.094674</td>\n",
              "      <td>-0.124867</td>\n",
              "    </tr>\n",
              "    <tr>\n",
              "      <th>5</th>\n",
              "      <td>-0.087198</td>\n",
              "      <td>-0.785484</td>\n",
              "      <td>0.527486</td>\n",
              "      <td>0.293056</td>\n",
              "    </tr>\n",
              "    <tr>\n",
              "      <th>6</th>\n",
              "      <td>-0.112861</td>\n",
              "      <td>1.120604</td>\n",
              "      <td>-0.933670</td>\n",
              "      <td>-0.232908</td>\n",
              "    </tr>\n",
              "    <tr>\n",
              "      <th>7</th>\n",
              "      <td>0.336940</td>\n",
              "      <td>0.108904</td>\n",
              "      <td>-0.295332</td>\n",
              "      <td>-2.991587</td>\n",
              "    </tr>\n",
              "    <tr>\n",
              "      <th>8</th>\n",
              "      <td>-2.031898</td>\n",
              "      <td>1.290700</td>\n",
              "      <td>1.013805</td>\n",
              "      <td>0.334444</td>\n",
              "    </tr>\n",
              "    <tr>\n",
              "      <th>9</th>\n",
              "      <td>-0.021450</td>\n",
              "      <td>-2.232018</td>\n",
              "      <td>-1.355943</td>\n",
              "      <td>-0.144558</td>\n",
              "    </tr>\n",
              "  </tbody>\n",
              "</table>\n",
              "</div>"
            ],
            "text/plain": [
              "          A         B         C         D\n",
              "0 -0.117700  0.788149  0.776948 -1.159620\n",
              "1  0.604453 -0.487806  1.356927  0.008448\n",
              "2 -0.886517  0.044949  0.023818  2.174181\n",
              "3  0.567215  0.902368  0.135462 -0.051920\n",
              "4 -0.574904  0.555554 -0.094674 -0.124867\n",
              "5 -0.087198 -0.785484  0.527486  0.293056\n",
              "6 -0.112861  1.120604 -0.933670 -0.232908\n",
              "7  0.336940  0.108904 -0.295332 -2.991587\n",
              "8 -2.031898  1.290700  1.013805  0.334444\n",
              "9 -0.021450 -2.232018 -1.355943 -0.144558"
            ]
          },
          "execution_count": 44,
          "metadata": {},
          "output_type": "execute_result"
        }
      ],
      "source": [
        "df1 = pd.DataFrame(np.random.randn(10, 4), columns=['A', 'B', 'C', 'D'])\n",
        "df1"
      ]
    },
    {
      "cell_type": "code",
      "execution_count": null,
      "metadata": {
        "id": "vJd4RFzFyOmG",
        "outputId": "3d69a50d-9128-45b1-9359-a9f9501f6874"
      },
      "outputs": [
        {
          "data": {
            "text/html": [
              "<div>\n",
              "<style scoped>\n",
              "    .dataframe tbody tr th:only-of-type {\n",
              "        vertical-align: middle;\n",
              "    }\n",
              "\n",
              "    .dataframe tbody tr th {\n",
              "        vertical-align: top;\n",
              "    }\n",
              "\n",
              "    .dataframe thead th {\n",
              "        text-align: right;\n",
              "    }\n",
              "</style>\n",
              "<table border=\"1\" class=\"dataframe\">\n",
              "  <thead>\n",
              "    <tr style=\"text-align: right;\">\n",
              "      <th></th>\n",
              "      <th>A</th>\n",
              "      <th>B</th>\n",
              "      <th>C</th>\n",
              "    </tr>\n",
              "  </thead>\n",
              "  <tbody>\n",
              "    <tr>\n",
              "      <th>0</th>\n",
              "      <td>-1.676725</td>\n",
              "      <td>-1.169031</td>\n",
              "      <td>-0.619940</td>\n",
              "    </tr>\n",
              "    <tr>\n",
              "      <th>1</th>\n",
              "      <td>-0.710089</td>\n",
              "      <td>1.834536</td>\n",
              "      <td>-1.118924</td>\n",
              "    </tr>\n",
              "    <tr>\n",
              "      <th>2</th>\n",
              "      <td>-1.306510</td>\n",
              "      <td>-1.427194</td>\n",
              "      <td>1.891368</td>\n",
              "    </tr>\n",
              "    <tr>\n",
              "      <th>3</th>\n",
              "      <td>0.707823</td>\n",
              "      <td>1.638324</td>\n",
              "      <td>-1.007516</td>\n",
              "    </tr>\n",
              "    <tr>\n",
              "      <th>4</th>\n",
              "      <td>0.552295</td>\n",
              "      <td>-2.373425</td>\n",
              "      <td>-1.137115</td>\n",
              "    </tr>\n",
              "    <tr>\n",
              "      <th>5</th>\n",
              "      <td>0.080897</td>\n",
              "      <td>-0.467685</td>\n",
              "      <td>0.484710</td>\n",
              "    </tr>\n",
              "    <tr>\n",
              "      <th>6</th>\n",
              "      <td>-0.478739</td>\n",
              "      <td>-0.519066</td>\n",
              "      <td>0.058221</td>\n",
              "    </tr>\n",
              "  </tbody>\n",
              "</table>\n",
              "</div>"
            ],
            "text/plain": [
              "          A         B         C\n",
              "0 -1.676725 -1.169031 -0.619940\n",
              "1 -0.710089  1.834536 -1.118924\n",
              "2 -1.306510 -1.427194  1.891368\n",
              "3  0.707823  1.638324 -1.007516\n",
              "4  0.552295 -2.373425 -1.137115\n",
              "5  0.080897 -0.467685  0.484710\n",
              "6 -0.478739 -0.519066  0.058221"
            ]
          },
          "execution_count": 45,
          "metadata": {},
          "output_type": "execute_result"
        }
      ],
      "source": [
        "\n",
        "df2 = pd.DataFrame(np.random.randn(7, 3), columns=['A', 'B', 'C'])\n",
        "df2"
      ]
    },
    {
      "cell_type": "code",
      "execution_count": null,
      "metadata": {
        "id": "H4AR1qdbyOmG",
        "outputId": "720caa1d-0491-45ff-9cd9-bddaa930b29c"
      },
      "outputs": [
        {
          "data": {
            "text/html": [
              "<div>\n",
              "<style scoped>\n",
              "    .dataframe tbody tr th:only-of-type {\n",
              "        vertical-align: middle;\n",
              "    }\n",
              "\n",
              "    .dataframe tbody tr th {\n",
              "        vertical-align: top;\n",
              "    }\n",
              "\n",
              "    .dataframe thead th {\n",
              "        text-align: right;\n",
              "    }\n",
              "</style>\n",
              "<table border=\"1\" class=\"dataframe\">\n",
              "  <thead>\n",
              "    <tr style=\"text-align: right;\">\n",
              "      <th></th>\n",
              "      <th>A</th>\n",
              "      <th>B</th>\n",
              "      <th>C</th>\n",
              "      <th>D</th>\n",
              "    </tr>\n",
              "  </thead>\n",
              "  <tbody>\n",
              "    <tr>\n",
              "      <th>0</th>\n",
              "      <td>-1.794426</td>\n",
              "      <td>-0.380882</td>\n",
              "      <td>0.157008</td>\n",
              "      <td>NaN</td>\n",
              "    </tr>\n",
              "    <tr>\n",
              "      <th>1</th>\n",
              "      <td>-0.105636</td>\n",
              "      <td>1.346731</td>\n",
              "      <td>0.238002</td>\n",
              "      <td>NaN</td>\n",
              "    </tr>\n",
              "    <tr>\n",
              "      <th>2</th>\n",
              "      <td>-2.193027</td>\n",
              "      <td>-1.382245</td>\n",
              "      <td>1.915186</td>\n",
              "      <td>NaN</td>\n",
              "    </tr>\n",
              "    <tr>\n",
              "      <th>3</th>\n",
              "      <td>1.275037</td>\n",
              "      <td>2.540692</td>\n",
              "      <td>-0.872054</td>\n",
              "      <td>NaN</td>\n",
              "    </tr>\n",
              "    <tr>\n",
              "      <th>4</th>\n",
              "      <td>-0.022608</td>\n",
              "      <td>-1.817870</td>\n",
              "      <td>-1.231789</td>\n",
              "      <td>NaN</td>\n",
              "    </tr>\n",
              "    <tr>\n",
              "      <th>5</th>\n",
              "      <td>-0.006301</td>\n",
              "      <td>-1.253170</td>\n",
              "      <td>1.012196</td>\n",
              "      <td>NaN</td>\n",
              "    </tr>\n",
              "    <tr>\n",
              "      <th>6</th>\n",
              "      <td>-0.591600</td>\n",
              "      <td>0.601538</td>\n",
              "      <td>-0.875449</td>\n",
              "      <td>NaN</td>\n",
              "    </tr>\n",
              "    <tr>\n",
              "      <th>7</th>\n",
              "      <td>NaN</td>\n",
              "      <td>NaN</td>\n",
              "      <td>NaN</td>\n",
              "      <td>NaN</td>\n",
              "    </tr>\n",
              "    <tr>\n",
              "      <th>8</th>\n",
              "      <td>NaN</td>\n",
              "      <td>NaN</td>\n",
              "      <td>NaN</td>\n",
              "      <td>NaN</td>\n",
              "    </tr>\n",
              "    <tr>\n",
              "      <th>9</th>\n",
              "      <td>NaN</td>\n",
              "      <td>NaN</td>\n",
              "      <td>NaN</td>\n",
              "      <td>NaN</td>\n",
              "    </tr>\n",
              "  </tbody>\n",
              "</table>\n",
              "</div>"
            ],
            "text/plain": [
              "          A         B         C   D\n",
              "0 -1.794426 -0.380882  0.157008 NaN\n",
              "1 -0.105636  1.346731  0.238002 NaN\n",
              "2 -2.193027 -1.382245  1.915186 NaN\n",
              "3  1.275037  2.540692 -0.872054 NaN\n",
              "4 -0.022608 -1.817870 -1.231789 NaN\n",
              "5 -0.006301 -1.253170  1.012196 NaN\n",
              "6 -0.591600  0.601538 -0.875449 NaN\n",
              "7       NaN       NaN       NaN NaN\n",
              "8       NaN       NaN       NaN NaN\n",
              "9       NaN       NaN       NaN NaN"
            ]
          },
          "execution_count": 46,
          "metadata": {},
          "output_type": "execute_result"
        }
      ],
      "source": [
        "df1+df2"
      ]
    },
    {
      "cell_type": "markdown",
      "metadata": {
        "id": "z84yEseoyOmH"
      },
      "source": [
        "- When doing an operation between DataFrame and Series, the default behavior is to align the Series index on the DataFrame columns, thus broadcasting row-wise. For example:"
      ]
    },
    {
      "cell_type": "code",
      "execution_count": null,
      "metadata": {
        "id": "YVUldOLDyOmH",
        "outputId": "007cfd70-ca72-4677-860c-df9423cc87fb"
      },
      "outputs": [
        {
          "data": {
            "text/html": [
              "<div>\n",
              "<style scoped>\n",
              "    .dataframe tbody tr th:only-of-type {\n",
              "        vertical-align: middle;\n",
              "    }\n",
              "\n",
              "    .dataframe tbody tr th {\n",
              "        vertical-align: top;\n",
              "    }\n",
              "\n",
              "    .dataframe thead th {\n",
              "        text-align: right;\n",
              "    }\n",
              "</style>\n",
              "<table border=\"1\" class=\"dataframe\">\n",
              "  <thead>\n",
              "    <tr style=\"text-align: right;\">\n",
              "      <th></th>\n",
              "      <th>A</th>\n",
              "      <th>B</th>\n",
              "      <th>C</th>\n",
              "      <th>D</th>\n",
              "    </tr>\n",
              "  </thead>\n",
              "  <tbody>\n",
              "    <tr>\n",
              "      <th>0</th>\n",
              "      <td>0.000000</td>\n",
              "      <td>0.000000</td>\n",
              "      <td>0.000000</td>\n",
              "      <td>0.000000</td>\n",
              "    </tr>\n",
              "    <tr>\n",
              "      <th>1</th>\n",
              "      <td>0.722153</td>\n",
              "      <td>-1.275955</td>\n",
              "      <td>0.579979</td>\n",
              "      <td>1.168068</td>\n",
              "    </tr>\n",
              "    <tr>\n",
              "      <th>2</th>\n",
              "      <td>-0.768817</td>\n",
              "      <td>-0.743200</td>\n",
              "      <td>-0.753129</td>\n",
              "      <td>3.333801</td>\n",
              "    </tr>\n",
              "    <tr>\n",
              "      <th>3</th>\n",
              "      <td>0.684915</td>\n",
              "      <td>0.114219</td>\n",
              "      <td>-0.641486</td>\n",
              "      <td>1.107699</td>\n",
              "    </tr>\n",
              "    <tr>\n",
              "      <th>4</th>\n",
              "      <td>-0.457204</td>\n",
              "      <td>-0.232595</td>\n",
              "      <td>-0.871622</td>\n",
              "      <td>1.034753</td>\n",
              "    </tr>\n",
              "    <tr>\n",
              "      <th>5</th>\n",
              "      <td>0.030502</td>\n",
              "      <td>-1.573633</td>\n",
              "      <td>-0.249461</td>\n",
              "      <td>1.452675</td>\n",
              "    </tr>\n",
              "    <tr>\n",
              "      <th>6</th>\n",
              "      <td>0.004839</td>\n",
              "      <td>0.332455</td>\n",
              "      <td>-1.710617</td>\n",
              "      <td>0.926712</td>\n",
              "    </tr>\n",
              "    <tr>\n",
              "      <th>7</th>\n",
              "      <td>0.454640</td>\n",
              "      <td>-0.679244</td>\n",
              "      <td>-1.072280</td>\n",
              "      <td>-1.831968</td>\n",
              "    </tr>\n",
              "    <tr>\n",
              "      <th>8</th>\n",
              "      <td>-1.914198</td>\n",
              "      <td>0.502551</td>\n",
              "      <td>0.236857</td>\n",
              "      <td>1.494064</td>\n",
              "    </tr>\n",
              "    <tr>\n",
              "      <th>9</th>\n",
              "      <td>0.096250</td>\n",
              "      <td>-3.020167</td>\n",
              "      <td>-2.132890</td>\n",
              "      <td>1.015062</td>\n",
              "    </tr>\n",
              "  </tbody>\n",
              "</table>\n",
              "</div>"
            ],
            "text/plain": [
              "          A         B         C         D\n",
              "0  0.000000  0.000000  0.000000  0.000000\n",
              "1  0.722153 -1.275955  0.579979  1.168068\n",
              "2 -0.768817 -0.743200 -0.753129  3.333801\n",
              "3  0.684915  0.114219 -0.641486  1.107699\n",
              "4 -0.457204 -0.232595 -0.871622  1.034753\n",
              "5  0.030502 -1.573633 -0.249461  1.452675\n",
              "6  0.004839  0.332455 -1.710617  0.926712\n",
              "7  0.454640 -0.679244 -1.072280 -1.831968\n",
              "8 -1.914198  0.502551  0.236857  1.494064\n",
              "9  0.096250 -3.020167 -2.132890  1.015062"
            ]
          },
          "execution_count": 47,
          "metadata": {},
          "output_type": "execute_result"
        }
      ],
      "source": [
        "df1 - df1.iloc[0]"
      ]
    },
    {
      "cell_type": "markdown",
      "metadata": {
        "id": "DZDx8VO6yOmH"
      },
      "source": [
        " - In the special case of working with time series data, and the DataFrame index also contains dates, the broadcasting will be column-wise:"
      ]
    },
    {
      "cell_type": "code",
      "execution_count": null,
      "metadata": {
        "id": "nOgQMCdyyOmH",
        "outputId": "2bb7b5f6-b38a-4296-c00f-2b06396a9e0d"
      },
      "outputs": [
        {
          "data": {
            "text/html": [
              "<div>\n",
              "<style scoped>\n",
              "    .dataframe tbody tr th:only-of-type {\n",
              "        vertical-align: middle;\n",
              "    }\n",
              "\n",
              "    .dataframe tbody tr th {\n",
              "        vertical-align: top;\n",
              "    }\n",
              "\n",
              "    .dataframe thead th {\n",
              "        text-align: right;\n",
              "    }\n",
              "</style>\n",
              "<table border=\"1\" class=\"dataframe\">\n",
              "  <thead>\n",
              "    <tr style=\"text-align: right;\">\n",
              "      <th></th>\n",
              "      <th>A</th>\n",
              "      <th>B</th>\n",
              "      <th>C</th>\n",
              "    </tr>\n",
              "  </thead>\n",
              "  <tbody>\n",
              "    <tr>\n",
              "      <th>2000-01-01</th>\n",
              "      <td>0.146072</td>\n",
              "      <td>0.966939</td>\n",
              "      <td>-0.483866</td>\n",
              "    </tr>\n",
              "    <tr>\n",
              "      <th>2000-01-02</th>\n",
              "      <td>-0.301393</td>\n",
              "      <td>-0.235599</td>\n",
              "      <td>-0.291576</td>\n",
              "    </tr>\n",
              "    <tr>\n",
              "      <th>2000-01-03</th>\n",
              "      <td>0.763213</td>\n",
              "      <td>0.086616</td>\n",
              "      <td>0.607997</td>\n",
              "    </tr>\n",
              "    <tr>\n",
              "      <th>2000-01-04</th>\n",
              "      <td>-0.164010</td>\n",
              "      <td>-0.422640</td>\n",
              "      <td>-0.338078</td>\n",
              "    </tr>\n",
              "    <tr>\n",
              "      <th>2000-01-05</th>\n",
              "      <td>1.414892</td>\n",
              "      <td>-1.146976</td>\n",
              "      <td>0.355322</td>\n",
              "    </tr>\n",
              "    <tr>\n",
              "      <th>2000-01-06</th>\n",
              "      <td>0.448006</td>\n",
              "      <td>0.826819</td>\n",
              "      <td>-0.320917</td>\n",
              "    </tr>\n",
              "    <tr>\n",
              "      <th>2000-01-07</th>\n",
              "      <td>-1.299619</td>\n",
              "      <td>-1.786811</td>\n",
              "      <td>-2.381874</td>\n",
              "    </tr>\n",
              "    <tr>\n",
              "      <th>2000-01-08</th>\n",
              "      <td>0.172000</td>\n",
              "      <td>0.008814</td>\n",
              "      <td>0.241587</td>\n",
              "    </tr>\n",
              "  </tbody>\n",
              "</table>\n",
              "</div>"
            ],
            "text/plain": [
              "                   A         B         C\n",
              "2000-01-01  0.146072  0.966939 -0.483866\n",
              "2000-01-02 -0.301393 -0.235599 -0.291576\n",
              "2000-01-03  0.763213  0.086616  0.607997\n",
              "2000-01-04 -0.164010 -0.422640 -0.338078\n",
              "2000-01-05  1.414892 -1.146976  0.355322\n",
              "2000-01-06  0.448006  0.826819 -0.320917\n",
              "2000-01-07 -1.299619 -1.786811 -2.381874\n",
              "2000-01-08  0.172000  0.008814  0.241587"
            ]
          },
          "execution_count": 48,
          "metadata": {},
          "output_type": "execute_result"
        }
      ],
      "source": [
        "index = pd.date_range('1/1/2000', periods=8)\n",
        "df = pd.DataFrame(np.random.randn(8, 3), index=index, columns=list('ABC'))\n",
        "df"
      ]
    },
    {
      "cell_type": "code",
      "execution_count": null,
      "metadata": {
        "id": "kZCFFOz-yOmI",
        "outputId": "b8ccd2d1-c220-490e-d234-3edc96fd38d0"
      },
      "outputs": [
        {
          "data": {
            "text/html": [
              "<div>\n",
              "<style scoped>\n",
              "    .dataframe tbody tr th:only-of-type {\n",
              "        vertical-align: middle;\n",
              "    }\n",
              "\n",
              "    .dataframe tbody tr th {\n",
              "        vertical-align: top;\n",
              "    }\n",
              "\n",
              "    .dataframe thead th {\n",
              "        text-align: right;\n",
              "    }\n",
              "</style>\n",
              "<table border=\"1\" class=\"dataframe\">\n",
              "  <thead>\n",
              "    <tr style=\"text-align: right;\">\n",
              "      <th></th>\n",
              "      <th>A</th>\n",
              "      <th>B</th>\n",
              "      <th>C</th>\n",
              "      <th>D</th>\n",
              "    </tr>\n",
              "  </thead>\n",
              "  <tbody>\n",
              "    <tr>\n",
              "      <th>0</th>\n",
              "      <td>0.822999</td>\n",
              "      <td>9.881489</td>\n",
              "      <td>9.769477</td>\n",
              "      <td>-9.596196</td>\n",
              "    </tr>\n",
              "    <tr>\n",
              "      <th>1</th>\n",
              "      <td>8.044527</td>\n",
              "      <td>-2.878058</td>\n",
              "      <td>15.569265</td>\n",
              "      <td>2.084481</td>\n",
              "    </tr>\n",
              "    <tr>\n",
              "      <th>2</th>\n",
              "      <td>-6.865170</td>\n",
              "      <td>2.449487</td>\n",
              "      <td>2.238184</td>\n",
              "      <td>23.741809</td>\n",
              "    </tr>\n",
              "    <tr>\n",
              "      <th>3</th>\n",
              "      <td>7.672145</td>\n",
              "      <td>11.023680</td>\n",
              "      <td>3.354615</td>\n",
              "      <td>1.480795</td>\n",
              "    </tr>\n",
              "    <tr>\n",
              "      <th>4</th>\n",
              "      <td>-3.749036</td>\n",
              "      <td>7.555543</td>\n",
              "      <td>1.053260</td>\n",
              "      <td>0.751332</td>\n",
              "    </tr>\n",
              "    <tr>\n",
              "      <th>5</th>\n",
              "      <td>1.128016</td>\n",
              "      <td>-5.854845</td>\n",
              "      <td>7.274863</td>\n",
              "      <td>4.930555</td>\n",
              "    </tr>\n",
              "    <tr>\n",
              "      <th>6</th>\n",
              "      <td>0.871390</td>\n",
              "      <td>13.206037</td>\n",
              "      <td>-7.336697</td>\n",
              "      <td>-0.329076</td>\n",
              "    </tr>\n",
              "    <tr>\n",
              "      <th>7</th>\n",
              "      <td>5.369398</td>\n",
              "      <td>3.089045</td>\n",
              "      <td>-0.953321</td>\n",
              "      <td>-27.915874</td>\n",
              "    </tr>\n",
              "    <tr>\n",
              "      <th>8</th>\n",
              "      <td>-18.318978</td>\n",
              "      <td>14.906997</td>\n",
              "      <td>12.138047</td>\n",
              "      <td>5.344443</td>\n",
              "    </tr>\n",
              "    <tr>\n",
              "      <th>9</th>\n",
              "      <td>1.785502</td>\n",
              "      <td>-20.320177</td>\n",
              "      <td>-11.559426</td>\n",
              "      <td>0.554421</td>\n",
              "    </tr>\n",
              "  </tbody>\n",
              "</table>\n",
              "</div>"
            ],
            "text/plain": [
              "           A          B          C          D\n",
              "0   0.822999   9.881489   9.769477  -9.596196\n",
              "1   8.044527  -2.878058  15.569265   2.084481\n",
              "2  -6.865170   2.449487   2.238184  23.741809\n",
              "3   7.672145  11.023680   3.354615   1.480795\n",
              "4  -3.749036   7.555543   1.053260   0.751332\n",
              "5   1.128016  -5.854845   7.274863   4.930555\n",
              "6   0.871390  13.206037  -7.336697  -0.329076\n",
              "7   5.369398   3.089045  -0.953321 -27.915874\n",
              "8 -18.318978  14.906997  12.138047   5.344443\n",
              "9   1.785502 -20.320177 -11.559426   0.554421"
            ]
          },
          "execution_count": 49,
          "metadata": {},
          "output_type": "execute_result"
        }
      ],
      "source": [
        "df1* 10 + 2"
      ]
    },
    {
      "cell_type": "code",
      "execution_count": null,
      "metadata": {
        "id": "C7pwByw1yOmI"
      },
      "outputs": [],
      "source": [
        "1/df1"
      ]
    },
    {
      "cell_type": "code",
      "execution_count": null,
      "metadata": {
        "id": "E2kKs3AWyOmI"
      },
      "outputs": [],
      "source": [
        "df1**5"
      ]
    },
    {
      "cell_type": "markdown",
      "metadata": {
        "id": "rEuTHoK_yOmI"
      },
      "source": [
        "- Boolean operators work as well:"
      ]
    },
    {
      "cell_type": "code",
      "execution_count": null,
      "metadata": {
        "id": "en_O5wR7yOmJ",
        "outputId": "723e02fb-a76d-4eed-d02f-2a774b56d562"
      },
      "outputs": [
        {
          "data": {
            "text/html": [
              "<div>\n",
              "<style scoped>\n",
              "    .dataframe tbody tr th:only-of-type {\n",
              "        vertical-align: middle;\n",
              "    }\n",
              "\n",
              "    .dataframe tbody tr th {\n",
              "        vertical-align: top;\n",
              "    }\n",
              "\n",
              "    .dataframe thead th {\n",
              "        text-align: right;\n",
              "    }\n",
              "</style>\n",
              "<table border=\"1\" class=\"dataframe\">\n",
              "  <thead>\n",
              "    <tr style=\"text-align: right;\">\n",
              "      <th></th>\n",
              "      <th>a</th>\n",
              "      <th>b</th>\n",
              "    </tr>\n",
              "  </thead>\n",
              "  <tbody>\n",
              "    <tr>\n",
              "      <th>0</th>\n",
              "      <td>True</td>\n",
              "      <td>False</td>\n",
              "    </tr>\n",
              "    <tr>\n",
              "      <th>1</th>\n",
              "      <td>False</td>\n",
              "      <td>True</td>\n",
              "    </tr>\n",
              "    <tr>\n",
              "      <th>2</th>\n",
              "      <td>True</td>\n",
              "      <td>True</td>\n",
              "    </tr>\n",
              "  </tbody>\n",
              "</table>\n",
              "</div>"
            ],
            "text/plain": [
              "       a      b\n",
              "0   True  False\n",
              "1  False   True\n",
              "2   True   True"
            ]
          },
          "execution_count": 50,
          "metadata": {},
          "output_type": "execute_result"
        }
      ],
      "source": [
        "df1 = pd.DataFrame({'a' : [1, 0, 1], 'b' : [0, 1, 1] }, dtype=bool)\n",
        "df1"
      ]
    },
    {
      "cell_type": "code",
      "execution_count": null,
      "metadata": {
        "id": "IMPs8bQwyOmJ",
        "outputId": "73c59382-d61d-4769-e41f-7ee34dcf368d"
      },
      "outputs": [
        {
          "data": {
            "text/html": [
              "<div>\n",
              "<style scoped>\n",
              "    .dataframe tbody tr th:only-of-type {\n",
              "        vertical-align: middle;\n",
              "    }\n",
              "\n",
              "    .dataframe tbody tr th {\n",
              "        vertical-align: top;\n",
              "    }\n",
              "\n",
              "    .dataframe thead th {\n",
              "        text-align: right;\n",
              "    }\n",
              "</style>\n",
              "<table border=\"1\" class=\"dataframe\">\n",
              "  <thead>\n",
              "    <tr style=\"text-align: right;\">\n",
              "      <th></th>\n",
              "      <th>a</th>\n",
              "      <th>b</th>\n",
              "    </tr>\n",
              "  </thead>\n",
              "  <tbody>\n",
              "    <tr>\n",
              "      <th>0</th>\n",
              "      <td>False</td>\n",
              "      <td>True</td>\n",
              "    </tr>\n",
              "    <tr>\n",
              "      <th>1</th>\n",
              "      <td>True</td>\n",
              "      <td>True</td>\n",
              "    </tr>\n",
              "    <tr>\n",
              "      <th>2</th>\n",
              "      <td>True</td>\n",
              "      <td>False</td>\n",
              "    </tr>\n",
              "  </tbody>\n",
              "</table>\n",
              "</div>"
            ],
            "text/plain": [
              "       a      b\n",
              "0  False   True\n",
              "1   True   True\n",
              "2   True  False"
            ]
          },
          "execution_count": 51,
          "metadata": {},
          "output_type": "execute_result"
        }
      ],
      "source": [
        "df2 = pd.DataFrame({'a' : [0, 1, 1], 'b' : [1, 1, 0] }, dtype=bool)\n",
        "df2"
      ]
    },
    {
      "cell_type": "code",
      "execution_count": null,
      "metadata": {
        "id": "kx6CeG7LyOmJ",
        "outputId": "54b09edd-7bff-40ac-bdb0-67b28bce3472"
      },
      "outputs": [
        {
          "data": {
            "text/html": [
              "<div>\n",
              "<style scoped>\n",
              "    .dataframe tbody tr th:only-of-type {\n",
              "        vertical-align: middle;\n",
              "    }\n",
              "\n",
              "    .dataframe tbody tr th {\n",
              "        vertical-align: top;\n",
              "    }\n",
              "\n",
              "    .dataframe thead th {\n",
              "        text-align: right;\n",
              "    }\n",
              "</style>\n",
              "<table border=\"1\" class=\"dataframe\">\n",
              "  <thead>\n",
              "    <tr style=\"text-align: right;\">\n",
              "      <th></th>\n",
              "      <th>a</th>\n",
              "      <th>b</th>\n",
              "    </tr>\n",
              "  </thead>\n",
              "  <tbody>\n",
              "    <tr>\n",
              "      <th>0</th>\n",
              "      <td>False</td>\n",
              "      <td>False</td>\n",
              "    </tr>\n",
              "    <tr>\n",
              "      <th>1</th>\n",
              "      <td>False</td>\n",
              "      <td>True</td>\n",
              "    </tr>\n",
              "    <tr>\n",
              "      <th>2</th>\n",
              "      <td>True</td>\n",
              "      <td>False</td>\n",
              "    </tr>\n",
              "  </tbody>\n",
              "</table>\n",
              "</div>"
            ],
            "text/plain": [
              "       a      b\n",
              "0  False  False\n",
              "1  False   True\n",
              "2   True  False"
            ]
          },
          "execution_count": 52,
          "metadata": {},
          "output_type": "execute_result"
        }
      ],
      "source": [
        "df1&df2"
      ]
    },
    {
      "cell_type": "code",
      "execution_count": null,
      "metadata": {
        "id": "H4U31oCSyOmJ",
        "outputId": "c9578c09-0141-47f6-dd8d-1e1213eac388"
      },
      "outputs": [
        {
          "data": {
            "text/html": [
              "<div>\n",
              "<style scoped>\n",
              "    .dataframe tbody tr th:only-of-type {\n",
              "        vertical-align: middle;\n",
              "    }\n",
              "\n",
              "    .dataframe tbody tr th {\n",
              "        vertical-align: top;\n",
              "    }\n",
              "\n",
              "    .dataframe thead th {\n",
              "        text-align: right;\n",
              "    }\n",
              "</style>\n",
              "<table border=\"1\" class=\"dataframe\">\n",
              "  <thead>\n",
              "    <tr style=\"text-align: right;\">\n",
              "      <th></th>\n",
              "      <th>a</th>\n",
              "      <th>b</th>\n",
              "    </tr>\n",
              "  </thead>\n",
              "  <tbody>\n",
              "    <tr>\n",
              "      <th>0</th>\n",
              "      <td>True</td>\n",
              "      <td>True</td>\n",
              "    </tr>\n",
              "    <tr>\n",
              "      <th>1</th>\n",
              "      <td>True</td>\n",
              "      <td>True</td>\n",
              "    </tr>\n",
              "    <tr>\n",
              "      <th>2</th>\n",
              "      <td>True</td>\n",
              "      <td>True</td>\n",
              "    </tr>\n",
              "  </tbody>\n",
              "</table>\n",
              "</div>"
            ],
            "text/plain": [
              "      a     b\n",
              "0  True  True\n",
              "1  True  True\n",
              "2  True  True"
            ]
          },
          "execution_count": 53,
          "metadata": {},
          "output_type": "execute_result"
        }
      ],
      "source": [
        "df1 | df2"
      ]
    },
    {
      "cell_type": "code",
      "execution_count": null,
      "metadata": {
        "id": "8pEhZA-byOmJ",
        "outputId": "39080d09-2543-4248-b564-9ca714a848ee"
      },
      "outputs": [
        {
          "data": {
            "text/html": [
              "<div>\n",
              "<style scoped>\n",
              "    .dataframe tbody tr th:only-of-type {\n",
              "        vertical-align: middle;\n",
              "    }\n",
              "\n",
              "    .dataframe tbody tr th {\n",
              "        vertical-align: top;\n",
              "    }\n",
              "\n",
              "    .dataframe thead th {\n",
              "        text-align: right;\n",
              "    }\n",
              "</style>\n",
              "<table border=\"1\" class=\"dataframe\">\n",
              "  <thead>\n",
              "    <tr style=\"text-align: right;\">\n",
              "      <th></th>\n",
              "      <th>a</th>\n",
              "      <th>b</th>\n",
              "    </tr>\n",
              "  </thead>\n",
              "  <tbody>\n",
              "    <tr>\n",
              "      <th>0</th>\n",
              "      <td>True</td>\n",
              "      <td>True</td>\n",
              "    </tr>\n",
              "    <tr>\n",
              "      <th>1</th>\n",
              "      <td>True</td>\n",
              "      <td>False</td>\n",
              "    </tr>\n",
              "    <tr>\n",
              "      <th>2</th>\n",
              "      <td>False</td>\n",
              "      <td>True</td>\n",
              "    </tr>\n",
              "  </tbody>\n",
              "</table>\n",
              "</div>"
            ],
            "text/plain": [
              "       a      b\n",
              "0   True   True\n",
              "1   True  False\n",
              "2  False   True"
            ]
          },
          "execution_count": 54,
          "metadata": {},
          "output_type": "execute_result"
        }
      ],
      "source": [
        "df1^df2"
      ]
    },
    {
      "cell_type": "code",
      "execution_count": null,
      "metadata": {
        "id": "Bx-strBXyOmK",
        "outputId": "d2ddf5f8-7091-4abf-8c19-202977559cf7"
      },
      "outputs": [
        {
          "data": {
            "text/html": [
              "<div>\n",
              "<style scoped>\n",
              "    .dataframe tbody tr th:only-of-type {\n",
              "        vertical-align: middle;\n",
              "    }\n",
              "\n",
              "    .dataframe tbody tr th {\n",
              "        vertical-align: top;\n",
              "    }\n",
              "\n",
              "    .dataframe thead th {\n",
              "        text-align: right;\n",
              "    }\n",
              "</style>\n",
              "<table border=\"1\" class=\"dataframe\">\n",
              "  <thead>\n",
              "    <tr style=\"text-align: right;\">\n",
              "      <th></th>\n",
              "      <th>a</th>\n",
              "      <th>b</th>\n",
              "    </tr>\n",
              "  </thead>\n",
              "  <tbody>\n",
              "    <tr>\n",
              "      <th>0</th>\n",
              "      <td>False</td>\n",
              "      <td>True</td>\n",
              "    </tr>\n",
              "    <tr>\n",
              "      <th>1</th>\n",
              "      <td>True</td>\n",
              "      <td>False</td>\n",
              "    </tr>\n",
              "    <tr>\n",
              "      <th>2</th>\n",
              "      <td>False</td>\n",
              "      <td>False</td>\n",
              "    </tr>\n",
              "  </tbody>\n",
              "</table>\n",
              "</div>"
            ],
            "text/plain": [
              "       a      b\n",
              "0  False   True\n",
              "1   True  False\n",
              "2  False  False"
            ]
          },
          "execution_count": 55,
          "metadata": {},
          "output_type": "execute_result"
        }
      ],
      "source": [
        "-df1"
      ]
    },
    {
      "cell_type": "markdown",
      "source": [
        "### **Erika example**"
      ],
      "metadata": {
        "id": "PnnrvukaC4OP"
      }
    },
    {
      "cell_type": "code",
      "source": [
        "#Are any numbers from the above example equal to each other?\n",
        "\n",
        "df1 = pd.DataFrame({'a' : [1, 0, 1], 'b' : [0, 1, 1] }, dtype=bool)\n",
        "df2 = pd.DataFrame({'a' : [0, 1, 1], 'b' : [1, 1, 0] }, dtype=bool)\n",
        "\n",
        "df1==df2"
      ],
      "metadata": {
        "colab": {
          "base_uri": "https://localhost:8080/",
          "height": 143
        },
        "id": "wpw70IqVC7Jq",
        "outputId": "4ba10df8-7a6e-4a0a-9ca2-a8b3ca01ab1a"
      },
      "execution_count": null,
      "outputs": [
        {
          "output_type": "execute_result",
          "data": {
            "text/plain": [
              "       a      b\n",
              "0  False  False\n",
              "1  False   True\n",
              "2   True  False"
            ],
            "text/html": [
              "\n",
              "  <div id=\"df-3390edc3-af3a-4a42-b0d1-38383573d82d\" class=\"colab-df-container\">\n",
              "    <div>\n",
              "<style scoped>\n",
              "    .dataframe tbody tr th:only-of-type {\n",
              "        vertical-align: middle;\n",
              "    }\n",
              "\n",
              "    .dataframe tbody tr th {\n",
              "        vertical-align: top;\n",
              "    }\n",
              "\n",
              "    .dataframe thead th {\n",
              "        text-align: right;\n",
              "    }\n",
              "</style>\n",
              "<table border=\"1\" class=\"dataframe\">\n",
              "  <thead>\n",
              "    <tr style=\"text-align: right;\">\n",
              "      <th></th>\n",
              "      <th>a</th>\n",
              "      <th>b</th>\n",
              "    </tr>\n",
              "  </thead>\n",
              "  <tbody>\n",
              "    <tr>\n",
              "      <th>0</th>\n",
              "      <td>False</td>\n",
              "      <td>False</td>\n",
              "    </tr>\n",
              "    <tr>\n",
              "      <th>1</th>\n",
              "      <td>False</td>\n",
              "      <td>True</td>\n",
              "    </tr>\n",
              "    <tr>\n",
              "      <th>2</th>\n",
              "      <td>True</td>\n",
              "      <td>False</td>\n",
              "    </tr>\n",
              "  </tbody>\n",
              "</table>\n",
              "</div>\n",
              "    <div class=\"colab-df-buttons\">\n",
              "\n",
              "  <div class=\"colab-df-container\">\n",
              "    <button class=\"colab-df-convert\" onclick=\"convertToInteractive('df-3390edc3-af3a-4a42-b0d1-38383573d82d')\"\n",
              "            title=\"Convert this dataframe to an interactive table.\"\n",
              "            style=\"display:none;\">\n",
              "\n",
              "  <svg xmlns=\"http://www.w3.org/2000/svg\" height=\"24px\" viewBox=\"0 -960 960 960\">\n",
              "    <path d=\"M120-120v-720h720v720H120Zm60-500h600v-160H180v160Zm220 220h160v-160H400v160Zm0 220h160v-160H400v160ZM180-400h160v-160H180v160Zm440 0h160v-160H620v160ZM180-180h160v-160H180v160Zm440 0h160v-160H620v160Z\"/>\n",
              "  </svg>\n",
              "    </button>\n",
              "\n",
              "  <style>\n",
              "    .colab-df-container {\n",
              "      display:flex;\n",
              "      gap: 12px;\n",
              "    }\n",
              "\n",
              "    .colab-df-convert {\n",
              "      background-color: #E8F0FE;\n",
              "      border: none;\n",
              "      border-radius: 50%;\n",
              "      cursor: pointer;\n",
              "      display: none;\n",
              "      fill: #1967D2;\n",
              "      height: 32px;\n",
              "      padding: 0 0 0 0;\n",
              "      width: 32px;\n",
              "    }\n",
              "\n",
              "    .colab-df-convert:hover {\n",
              "      background-color: #E2EBFA;\n",
              "      box-shadow: 0px 1px 2px rgba(60, 64, 67, 0.3), 0px 1px 3px 1px rgba(60, 64, 67, 0.15);\n",
              "      fill: #174EA6;\n",
              "    }\n",
              "\n",
              "    .colab-df-buttons div {\n",
              "      margin-bottom: 4px;\n",
              "    }\n",
              "\n",
              "    [theme=dark] .colab-df-convert {\n",
              "      background-color: #3B4455;\n",
              "      fill: #D2E3FC;\n",
              "    }\n",
              "\n",
              "    [theme=dark] .colab-df-convert:hover {\n",
              "      background-color: #434B5C;\n",
              "      box-shadow: 0px 1px 3px 1px rgba(0, 0, 0, 0.15);\n",
              "      filter: drop-shadow(0px 1px 2px rgba(0, 0, 0, 0.3));\n",
              "      fill: #FFFFFF;\n",
              "    }\n",
              "  </style>\n",
              "\n",
              "    <script>\n",
              "      const buttonEl =\n",
              "        document.querySelector('#df-3390edc3-af3a-4a42-b0d1-38383573d82d button.colab-df-convert');\n",
              "      buttonEl.style.display =\n",
              "        google.colab.kernel.accessAllowed ? 'block' : 'none';\n",
              "\n",
              "      async function convertToInteractive(key) {\n",
              "        const element = document.querySelector('#df-3390edc3-af3a-4a42-b0d1-38383573d82d');\n",
              "        const dataTable =\n",
              "          await google.colab.kernel.invokeFunction('convertToInteractive',\n",
              "                                                    [key], {});\n",
              "        if (!dataTable) return;\n",
              "\n",
              "        const docLinkHtml = 'Like what you see? Visit the ' +\n",
              "          '<a target=\"_blank\" href=https://colab.research.google.com/notebooks/data_table.ipynb>data table notebook</a>'\n",
              "          + ' to learn more about interactive tables.';\n",
              "        element.innerHTML = '';\n",
              "        dataTable['output_type'] = 'display_data';\n",
              "        await google.colab.output.renderOutput(dataTable, element);\n",
              "        const docLink = document.createElement('div');\n",
              "        docLink.innerHTML = docLinkHtml;\n",
              "        element.appendChild(docLink);\n",
              "      }\n",
              "    </script>\n",
              "  </div>\n",
              "\n",
              "\n",
              "<div id=\"df-7bff1cee-e429-44e6-92ed-656e33d3c9ad\">\n",
              "  <button class=\"colab-df-quickchart\" onclick=\"quickchart('df-7bff1cee-e429-44e6-92ed-656e33d3c9ad')\"\n",
              "            title=\"Suggest charts\"\n",
              "            style=\"display:none;\">\n",
              "\n",
              "<svg xmlns=\"http://www.w3.org/2000/svg\" height=\"24px\"viewBox=\"0 0 24 24\"\n",
              "     width=\"24px\">\n",
              "    <g>\n",
              "        <path d=\"M19 3H5c-1.1 0-2 .9-2 2v14c0 1.1.9 2 2 2h14c1.1 0 2-.9 2-2V5c0-1.1-.9-2-2-2zM9 17H7v-7h2v7zm4 0h-2V7h2v10zm4 0h-2v-4h2v4z\"/>\n",
              "    </g>\n",
              "</svg>\n",
              "  </button>\n",
              "\n",
              "<style>\n",
              "  .colab-df-quickchart {\n",
              "      --bg-color: #E8F0FE;\n",
              "      --fill-color: #1967D2;\n",
              "      --hover-bg-color: #E2EBFA;\n",
              "      --hover-fill-color: #174EA6;\n",
              "      --disabled-fill-color: #AAA;\n",
              "      --disabled-bg-color: #DDD;\n",
              "  }\n",
              "\n",
              "  [theme=dark] .colab-df-quickchart {\n",
              "      --bg-color: #3B4455;\n",
              "      --fill-color: #D2E3FC;\n",
              "      --hover-bg-color: #434B5C;\n",
              "      --hover-fill-color: #FFFFFF;\n",
              "      --disabled-bg-color: #3B4455;\n",
              "      --disabled-fill-color: #666;\n",
              "  }\n",
              "\n",
              "  .colab-df-quickchart {\n",
              "    background-color: var(--bg-color);\n",
              "    border: none;\n",
              "    border-radius: 50%;\n",
              "    cursor: pointer;\n",
              "    display: none;\n",
              "    fill: var(--fill-color);\n",
              "    height: 32px;\n",
              "    padding: 0;\n",
              "    width: 32px;\n",
              "  }\n",
              "\n",
              "  .colab-df-quickchart:hover {\n",
              "    background-color: var(--hover-bg-color);\n",
              "    box-shadow: 0 1px 2px rgba(60, 64, 67, 0.3), 0 1px 3px 1px rgba(60, 64, 67, 0.15);\n",
              "    fill: var(--button-hover-fill-color);\n",
              "  }\n",
              "\n",
              "  .colab-df-quickchart-complete:disabled,\n",
              "  .colab-df-quickchart-complete:disabled:hover {\n",
              "    background-color: var(--disabled-bg-color);\n",
              "    fill: var(--disabled-fill-color);\n",
              "    box-shadow: none;\n",
              "  }\n",
              "\n",
              "  .colab-df-spinner {\n",
              "    border: 2px solid var(--fill-color);\n",
              "    border-color: transparent;\n",
              "    border-bottom-color: var(--fill-color);\n",
              "    animation:\n",
              "      spin 1s steps(1) infinite;\n",
              "  }\n",
              "\n",
              "  @keyframes spin {\n",
              "    0% {\n",
              "      border-color: transparent;\n",
              "      border-bottom-color: var(--fill-color);\n",
              "      border-left-color: var(--fill-color);\n",
              "    }\n",
              "    20% {\n",
              "      border-color: transparent;\n",
              "      border-left-color: var(--fill-color);\n",
              "      border-top-color: var(--fill-color);\n",
              "    }\n",
              "    30% {\n",
              "      border-color: transparent;\n",
              "      border-left-color: var(--fill-color);\n",
              "      border-top-color: var(--fill-color);\n",
              "      border-right-color: var(--fill-color);\n",
              "    }\n",
              "    40% {\n",
              "      border-color: transparent;\n",
              "      border-right-color: var(--fill-color);\n",
              "      border-top-color: var(--fill-color);\n",
              "    }\n",
              "    60% {\n",
              "      border-color: transparent;\n",
              "      border-right-color: var(--fill-color);\n",
              "    }\n",
              "    80% {\n",
              "      border-color: transparent;\n",
              "      border-right-color: var(--fill-color);\n",
              "      border-bottom-color: var(--fill-color);\n",
              "    }\n",
              "    90% {\n",
              "      border-color: transparent;\n",
              "      border-bottom-color: var(--fill-color);\n",
              "    }\n",
              "  }\n",
              "</style>\n",
              "\n",
              "  <script>\n",
              "    async function quickchart(key) {\n",
              "      const quickchartButtonEl =\n",
              "        document.querySelector('#' + key + ' button');\n",
              "      quickchartButtonEl.disabled = true;  // To prevent multiple clicks.\n",
              "      quickchartButtonEl.classList.add('colab-df-spinner');\n",
              "      try {\n",
              "        const charts = await google.colab.kernel.invokeFunction(\n",
              "            'suggestCharts', [key], {});\n",
              "      } catch (error) {\n",
              "        console.error('Error during call to suggestCharts:', error);\n",
              "      }\n",
              "      quickchartButtonEl.classList.remove('colab-df-spinner');\n",
              "      quickchartButtonEl.classList.add('colab-df-quickchart-complete');\n",
              "    }\n",
              "    (() => {\n",
              "      let quickchartButtonEl =\n",
              "        document.querySelector('#df-7bff1cee-e429-44e6-92ed-656e33d3c9ad button');\n",
              "      quickchartButtonEl.style.display =\n",
              "        google.colab.kernel.accessAllowed ? 'block' : 'none';\n",
              "    })();\n",
              "  </script>\n",
              "</div>\n",
              "\n",
              "    </div>\n",
              "  </div>\n"
            ]
          },
          "metadata": {},
          "execution_count": 155
        }
      ]
    },
    {
      "cell_type": "markdown",
      "metadata": {
        "id": "btLO3wScyOmK"
      },
      "source": [
        "## 11.9 transposing"
      ]
    },
    {
      "cell_type": "markdown",
      "metadata": {
        "id": "z_d58lm0yOmK"
      },
      "source": [
        "- To transpose, access the T attribute (also the transpose function), similar to an ndarray:"
      ]
    },
    {
      "cell_type": "code",
      "execution_count": null,
      "metadata": {
        "id": "JvDT_HYNyOmK",
        "colab": {
          "base_uri": "https://localhost:8080/",
          "height": 112
        },
        "outputId": "b5c0994c-8be0-490d-ed92-993d50baf7b5"
      },
      "outputs": [
        {
          "output_type": "execute_result",
          "data": {
            "text/plain": [
              "         1\n",
              "Rah    Rah\n",
              "Roma  Roma"
            ],
            "text/html": [
              "\n",
              "  <div id=\"df-2d1675f2-2dbc-4b3f-8e35-cab2e76b7389\" class=\"colab-df-container\">\n",
              "    <div>\n",
              "<style scoped>\n",
              "    .dataframe tbody tr th:only-of-type {\n",
              "        vertical-align: middle;\n",
              "    }\n",
              "\n",
              "    .dataframe tbody tr th {\n",
              "        vertical-align: top;\n",
              "    }\n",
              "\n",
              "    .dataframe thead th {\n",
              "        text-align: right;\n",
              "    }\n",
              "</style>\n",
              "<table border=\"1\" class=\"dataframe\">\n",
              "  <thead>\n",
              "    <tr style=\"text-align: right;\">\n",
              "      <th></th>\n",
              "      <th>1</th>\n",
              "    </tr>\n",
              "  </thead>\n",
              "  <tbody>\n",
              "    <tr>\n",
              "      <th>Rah</th>\n",
              "      <td>Rah</td>\n",
              "    </tr>\n",
              "    <tr>\n",
              "      <th>Roma</th>\n",
              "      <td>Roma</td>\n",
              "    </tr>\n",
              "  </tbody>\n",
              "</table>\n",
              "</div>\n",
              "    <div class=\"colab-df-buttons\">\n",
              "\n",
              "  <div class=\"colab-df-container\">\n",
              "    <button class=\"colab-df-convert\" onclick=\"convertToInteractive('df-2d1675f2-2dbc-4b3f-8e35-cab2e76b7389')\"\n",
              "            title=\"Convert this dataframe to an interactive table.\"\n",
              "            style=\"display:none;\">\n",
              "\n",
              "  <svg xmlns=\"http://www.w3.org/2000/svg\" height=\"24px\" viewBox=\"0 -960 960 960\">\n",
              "    <path d=\"M120-120v-720h720v720H120Zm60-500h600v-160H180v160Zm220 220h160v-160H400v160Zm0 220h160v-160H400v160ZM180-400h160v-160H180v160Zm440 0h160v-160H620v160ZM180-180h160v-160H180v160Zm440 0h160v-160H620v160Z\"/>\n",
              "  </svg>\n",
              "    </button>\n",
              "\n",
              "  <style>\n",
              "    .colab-df-container {\n",
              "      display:flex;\n",
              "      gap: 12px;\n",
              "    }\n",
              "\n",
              "    .colab-df-convert {\n",
              "      background-color: #E8F0FE;\n",
              "      border: none;\n",
              "      border-radius: 50%;\n",
              "      cursor: pointer;\n",
              "      display: none;\n",
              "      fill: #1967D2;\n",
              "      height: 32px;\n",
              "      padding: 0 0 0 0;\n",
              "      width: 32px;\n",
              "    }\n",
              "\n",
              "    .colab-df-convert:hover {\n",
              "      background-color: #E2EBFA;\n",
              "      box-shadow: 0px 1px 2px rgba(60, 64, 67, 0.3), 0px 1px 3px 1px rgba(60, 64, 67, 0.15);\n",
              "      fill: #174EA6;\n",
              "    }\n",
              "\n",
              "    .colab-df-buttons div {\n",
              "      margin-bottom: 4px;\n",
              "    }\n",
              "\n",
              "    [theme=dark] .colab-df-convert {\n",
              "      background-color: #3B4455;\n",
              "      fill: #D2E3FC;\n",
              "    }\n",
              "\n",
              "    [theme=dark] .colab-df-convert:hover {\n",
              "      background-color: #434B5C;\n",
              "      box-shadow: 0px 1px 3px 1px rgba(0, 0, 0, 0.15);\n",
              "      filter: drop-shadow(0px 1px 2px rgba(0, 0, 0, 0.3));\n",
              "      fill: #FFFFFF;\n",
              "    }\n",
              "  </style>\n",
              "\n",
              "    <script>\n",
              "      const buttonEl =\n",
              "        document.querySelector('#df-2d1675f2-2dbc-4b3f-8e35-cab2e76b7389 button.colab-df-convert');\n",
              "      buttonEl.style.display =\n",
              "        google.colab.kernel.accessAllowed ? 'block' : 'none';\n",
              "\n",
              "      async function convertToInteractive(key) {\n",
              "        const element = document.querySelector('#df-2d1675f2-2dbc-4b3f-8e35-cab2e76b7389');\n",
              "        const dataTable =\n",
              "          await google.colab.kernel.invokeFunction('convertToInteractive',\n",
              "                                                    [key], {});\n",
              "        if (!dataTable) return;\n",
              "\n",
              "        const docLinkHtml = 'Like what you see? Visit the ' +\n",
              "          '<a target=\"_blank\" href=https://colab.research.google.com/notebooks/data_table.ipynb>data table notebook</a>'\n",
              "          + ' to learn more about interactive tables.';\n",
              "        element.innerHTML = '';\n",
              "        dataTable['output_type'] = 'display_data';\n",
              "        await google.colab.output.renderOutput(dataTable, element);\n",
              "        const docLink = document.createElement('div');\n",
              "        docLink.innerHTML = docLinkHtml;\n",
              "        element.appendChild(docLink);\n",
              "      }\n",
              "    </script>\n",
              "  </div>\n",
              "\n",
              "\n",
              "<div id=\"df-f199b22f-3868-4a81-89c3-ea1dd2ab1de3\">\n",
              "  <button class=\"colab-df-quickchart\" onclick=\"quickchart('df-f199b22f-3868-4a81-89c3-ea1dd2ab1de3')\"\n",
              "            title=\"Suggest charts\"\n",
              "            style=\"display:none;\">\n",
              "\n",
              "<svg xmlns=\"http://www.w3.org/2000/svg\" height=\"24px\"viewBox=\"0 0 24 24\"\n",
              "     width=\"24px\">\n",
              "    <g>\n",
              "        <path d=\"M19 3H5c-1.1 0-2 .9-2 2v14c0 1.1.9 2 2 2h14c1.1 0 2-.9 2-2V5c0-1.1-.9-2-2-2zM9 17H7v-7h2v7zm4 0h-2V7h2v10zm4 0h-2v-4h2v4z\"/>\n",
              "    </g>\n",
              "</svg>\n",
              "  </button>\n",
              "\n",
              "<style>\n",
              "  .colab-df-quickchart {\n",
              "      --bg-color: #E8F0FE;\n",
              "      --fill-color: #1967D2;\n",
              "      --hover-bg-color: #E2EBFA;\n",
              "      --hover-fill-color: #174EA6;\n",
              "      --disabled-fill-color: #AAA;\n",
              "      --disabled-bg-color: #DDD;\n",
              "  }\n",
              "\n",
              "  [theme=dark] .colab-df-quickchart {\n",
              "      --bg-color: #3B4455;\n",
              "      --fill-color: #D2E3FC;\n",
              "      --hover-bg-color: #434B5C;\n",
              "      --hover-fill-color: #FFFFFF;\n",
              "      --disabled-bg-color: #3B4455;\n",
              "      --disabled-fill-color: #666;\n",
              "  }\n",
              "\n",
              "  .colab-df-quickchart {\n",
              "    background-color: var(--bg-color);\n",
              "    border: none;\n",
              "    border-radius: 50%;\n",
              "    cursor: pointer;\n",
              "    display: none;\n",
              "    fill: var(--fill-color);\n",
              "    height: 32px;\n",
              "    padding: 0;\n",
              "    width: 32px;\n",
              "  }\n",
              "\n",
              "  .colab-df-quickchart:hover {\n",
              "    background-color: var(--hover-bg-color);\n",
              "    box-shadow: 0 1px 2px rgba(60, 64, 67, 0.3), 0 1px 3px 1px rgba(60, 64, 67, 0.15);\n",
              "    fill: var(--button-hover-fill-color);\n",
              "  }\n",
              "\n",
              "  .colab-df-quickchart-complete:disabled,\n",
              "  .colab-df-quickchart-complete:disabled:hover {\n",
              "    background-color: var(--disabled-bg-color);\n",
              "    fill: var(--disabled-fill-color);\n",
              "    box-shadow: none;\n",
              "  }\n",
              "\n",
              "  .colab-df-spinner {\n",
              "    border: 2px solid var(--fill-color);\n",
              "    border-color: transparent;\n",
              "    border-bottom-color: var(--fill-color);\n",
              "    animation:\n",
              "      spin 1s steps(1) infinite;\n",
              "  }\n",
              "\n",
              "  @keyframes spin {\n",
              "    0% {\n",
              "      border-color: transparent;\n",
              "      border-bottom-color: var(--fill-color);\n",
              "      border-left-color: var(--fill-color);\n",
              "    }\n",
              "    20% {\n",
              "      border-color: transparent;\n",
              "      border-left-color: var(--fill-color);\n",
              "      border-top-color: var(--fill-color);\n",
              "    }\n",
              "    30% {\n",
              "      border-color: transparent;\n",
              "      border-left-color: var(--fill-color);\n",
              "      border-top-color: var(--fill-color);\n",
              "      border-right-color: var(--fill-color);\n",
              "    }\n",
              "    40% {\n",
              "      border-color: transparent;\n",
              "      border-right-color: var(--fill-color);\n",
              "      border-top-color: var(--fill-color);\n",
              "    }\n",
              "    60% {\n",
              "      border-color: transparent;\n",
              "      border-right-color: var(--fill-color);\n",
              "    }\n",
              "    80% {\n",
              "      border-color: transparent;\n",
              "      border-right-color: var(--fill-color);\n",
              "      border-bottom-color: var(--fill-color);\n",
              "    }\n",
              "    90% {\n",
              "      border-color: transparent;\n",
              "      border-bottom-color: var(--fill-color);\n",
              "    }\n",
              "  }\n",
              "</style>\n",
              "\n",
              "  <script>\n",
              "    async function quickchart(key) {\n",
              "      const quickchartButtonEl =\n",
              "        document.querySelector('#' + key + ' button');\n",
              "      quickchartButtonEl.disabled = true;  // To prevent multiple clicks.\n",
              "      quickchartButtonEl.classList.add('colab-df-spinner');\n",
              "      try {\n",
              "        const charts = await google.colab.kernel.invokeFunction(\n",
              "            'suggestCharts', [key], {});\n",
              "      } catch (error) {\n",
              "        console.error('Error during call to suggestCharts:', error);\n",
              "      }\n",
              "      quickchartButtonEl.classList.remove('colab-df-spinner');\n",
              "      quickchartButtonEl.classList.add('colab-df-quickchart-complete');\n",
              "    }\n",
              "    (() => {\n",
              "      let quickchartButtonEl =\n",
              "        document.querySelector('#df-f199b22f-3868-4a81-89c3-ea1dd2ab1de3 button');\n",
              "      quickchartButtonEl.style.display =\n",
              "        google.colab.kernel.accessAllowed ? 'block' : 'none';\n",
              "    })();\n",
              "  </script>\n",
              "</div>\n",
              "\n",
              "    </div>\n",
              "  </div>\n"
            ]
          },
          "metadata": {},
          "execution_count": 145
        }
      ],
      "source": [
        "# only show the first 4 rows\n",
        "df[:4].T"
      ]
    },
    {
      "cell_type": "markdown",
      "source": [
        "### **Erika example**"
      ],
      "metadata": {
        "id": "99Gxo4vZCrNY"
      }
    },
    {
      "cell_type": "code",
      "source": [
        "# only show the first row.\n",
        "df[:1].T"
      ],
      "metadata": {
        "colab": {
          "base_uri": "https://localhost:8080/",
          "height": 112
        },
        "id": "0adjHO3iCrnb",
        "outputId": "28ff4340-2760-4295-d296-225609e3b6b9"
      },
      "execution_count": null,
      "outputs": [
        {
          "output_type": "execute_result",
          "data": {
            "text/plain": [
              "         1\n",
              "Rah    Rah\n",
              "Roma  Roma"
            ],
            "text/html": [
              "\n",
              "  <div id=\"df-85661386-bd9f-441e-b8e1-f01a7fbc0ad1\" class=\"colab-df-container\">\n",
              "    <div>\n",
              "<style scoped>\n",
              "    .dataframe tbody tr th:only-of-type {\n",
              "        vertical-align: middle;\n",
              "    }\n",
              "\n",
              "    .dataframe tbody tr th {\n",
              "        vertical-align: top;\n",
              "    }\n",
              "\n",
              "    .dataframe thead th {\n",
              "        text-align: right;\n",
              "    }\n",
              "</style>\n",
              "<table border=\"1\" class=\"dataframe\">\n",
              "  <thead>\n",
              "    <tr style=\"text-align: right;\">\n",
              "      <th></th>\n",
              "      <th>1</th>\n",
              "    </tr>\n",
              "  </thead>\n",
              "  <tbody>\n",
              "    <tr>\n",
              "      <th>Rah</th>\n",
              "      <td>Rah</td>\n",
              "    </tr>\n",
              "    <tr>\n",
              "      <th>Roma</th>\n",
              "      <td>Roma</td>\n",
              "    </tr>\n",
              "  </tbody>\n",
              "</table>\n",
              "</div>\n",
              "    <div class=\"colab-df-buttons\">\n",
              "\n",
              "  <div class=\"colab-df-container\">\n",
              "    <button class=\"colab-df-convert\" onclick=\"convertToInteractive('df-85661386-bd9f-441e-b8e1-f01a7fbc0ad1')\"\n",
              "            title=\"Convert this dataframe to an interactive table.\"\n",
              "            style=\"display:none;\">\n",
              "\n",
              "  <svg xmlns=\"http://www.w3.org/2000/svg\" height=\"24px\" viewBox=\"0 -960 960 960\">\n",
              "    <path d=\"M120-120v-720h720v720H120Zm60-500h600v-160H180v160Zm220 220h160v-160H400v160Zm0 220h160v-160H400v160ZM180-400h160v-160H180v160Zm440 0h160v-160H620v160ZM180-180h160v-160H180v160Zm440 0h160v-160H620v160Z\"/>\n",
              "  </svg>\n",
              "    </button>\n",
              "\n",
              "  <style>\n",
              "    .colab-df-container {\n",
              "      display:flex;\n",
              "      gap: 12px;\n",
              "    }\n",
              "\n",
              "    .colab-df-convert {\n",
              "      background-color: #E8F0FE;\n",
              "      border: none;\n",
              "      border-radius: 50%;\n",
              "      cursor: pointer;\n",
              "      display: none;\n",
              "      fill: #1967D2;\n",
              "      height: 32px;\n",
              "      padding: 0 0 0 0;\n",
              "      width: 32px;\n",
              "    }\n",
              "\n",
              "    .colab-df-convert:hover {\n",
              "      background-color: #E2EBFA;\n",
              "      box-shadow: 0px 1px 2px rgba(60, 64, 67, 0.3), 0px 1px 3px 1px rgba(60, 64, 67, 0.15);\n",
              "      fill: #174EA6;\n",
              "    }\n",
              "\n",
              "    .colab-df-buttons div {\n",
              "      margin-bottom: 4px;\n",
              "    }\n",
              "\n",
              "    [theme=dark] .colab-df-convert {\n",
              "      background-color: #3B4455;\n",
              "      fill: #D2E3FC;\n",
              "    }\n",
              "\n",
              "    [theme=dark] .colab-df-convert:hover {\n",
              "      background-color: #434B5C;\n",
              "      box-shadow: 0px 1px 3px 1px rgba(0, 0, 0, 0.15);\n",
              "      filter: drop-shadow(0px 1px 2px rgba(0, 0, 0, 0.3));\n",
              "      fill: #FFFFFF;\n",
              "    }\n",
              "  </style>\n",
              "\n",
              "    <script>\n",
              "      const buttonEl =\n",
              "        document.querySelector('#df-85661386-bd9f-441e-b8e1-f01a7fbc0ad1 button.colab-df-convert');\n",
              "      buttonEl.style.display =\n",
              "        google.colab.kernel.accessAllowed ? 'block' : 'none';\n",
              "\n",
              "      async function convertToInteractive(key) {\n",
              "        const element = document.querySelector('#df-85661386-bd9f-441e-b8e1-f01a7fbc0ad1');\n",
              "        const dataTable =\n",
              "          await google.colab.kernel.invokeFunction('convertToInteractive',\n",
              "                                                    [key], {});\n",
              "        if (!dataTable) return;\n",
              "\n",
              "        const docLinkHtml = 'Like what you see? Visit the ' +\n",
              "          '<a target=\"_blank\" href=https://colab.research.google.com/notebooks/data_table.ipynb>data table notebook</a>'\n",
              "          + ' to learn more about interactive tables.';\n",
              "        element.innerHTML = '';\n",
              "        dataTable['output_type'] = 'display_data';\n",
              "        await google.colab.output.renderOutput(dataTable, element);\n",
              "        const docLink = document.createElement('div');\n",
              "        docLink.innerHTML = docLinkHtml;\n",
              "        element.appendChild(docLink);\n",
              "      }\n",
              "    </script>\n",
              "  </div>\n",
              "\n",
              "\n",
              "<div id=\"df-962be836-1709-42f5-99da-1b21a485484b\">\n",
              "  <button class=\"colab-df-quickchart\" onclick=\"quickchart('df-962be836-1709-42f5-99da-1b21a485484b')\"\n",
              "            title=\"Suggest charts\"\n",
              "            style=\"display:none;\">\n",
              "\n",
              "<svg xmlns=\"http://www.w3.org/2000/svg\" height=\"24px\"viewBox=\"0 0 24 24\"\n",
              "     width=\"24px\">\n",
              "    <g>\n",
              "        <path d=\"M19 3H5c-1.1 0-2 .9-2 2v14c0 1.1.9 2 2 2h14c1.1 0 2-.9 2-2V5c0-1.1-.9-2-2-2zM9 17H7v-7h2v7zm4 0h-2V7h2v10zm4 0h-2v-4h2v4z\"/>\n",
              "    </g>\n",
              "</svg>\n",
              "  </button>\n",
              "\n",
              "<style>\n",
              "  .colab-df-quickchart {\n",
              "      --bg-color: #E8F0FE;\n",
              "      --fill-color: #1967D2;\n",
              "      --hover-bg-color: #E2EBFA;\n",
              "      --hover-fill-color: #174EA6;\n",
              "      --disabled-fill-color: #AAA;\n",
              "      --disabled-bg-color: #DDD;\n",
              "  }\n",
              "\n",
              "  [theme=dark] .colab-df-quickchart {\n",
              "      --bg-color: #3B4455;\n",
              "      --fill-color: #D2E3FC;\n",
              "      --hover-bg-color: #434B5C;\n",
              "      --hover-fill-color: #FFFFFF;\n",
              "      --disabled-bg-color: #3B4455;\n",
              "      --disabled-fill-color: #666;\n",
              "  }\n",
              "\n",
              "  .colab-df-quickchart {\n",
              "    background-color: var(--bg-color);\n",
              "    border: none;\n",
              "    border-radius: 50%;\n",
              "    cursor: pointer;\n",
              "    display: none;\n",
              "    fill: var(--fill-color);\n",
              "    height: 32px;\n",
              "    padding: 0;\n",
              "    width: 32px;\n",
              "  }\n",
              "\n",
              "  .colab-df-quickchart:hover {\n",
              "    background-color: var(--hover-bg-color);\n",
              "    box-shadow: 0 1px 2px rgba(60, 64, 67, 0.3), 0 1px 3px 1px rgba(60, 64, 67, 0.15);\n",
              "    fill: var(--button-hover-fill-color);\n",
              "  }\n",
              "\n",
              "  .colab-df-quickchart-complete:disabled,\n",
              "  .colab-df-quickchart-complete:disabled:hover {\n",
              "    background-color: var(--disabled-bg-color);\n",
              "    fill: var(--disabled-fill-color);\n",
              "    box-shadow: none;\n",
              "  }\n",
              "\n",
              "  .colab-df-spinner {\n",
              "    border: 2px solid var(--fill-color);\n",
              "    border-color: transparent;\n",
              "    border-bottom-color: var(--fill-color);\n",
              "    animation:\n",
              "      spin 1s steps(1) infinite;\n",
              "  }\n",
              "\n",
              "  @keyframes spin {\n",
              "    0% {\n",
              "      border-color: transparent;\n",
              "      border-bottom-color: var(--fill-color);\n",
              "      border-left-color: var(--fill-color);\n",
              "    }\n",
              "    20% {\n",
              "      border-color: transparent;\n",
              "      border-left-color: var(--fill-color);\n",
              "      border-top-color: var(--fill-color);\n",
              "    }\n",
              "    30% {\n",
              "      border-color: transparent;\n",
              "      border-left-color: var(--fill-color);\n",
              "      border-top-color: var(--fill-color);\n",
              "      border-right-color: var(--fill-color);\n",
              "    }\n",
              "    40% {\n",
              "      border-color: transparent;\n",
              "      border-right-color: var(--fill-color);\n",
              "      border-top-color: var(--fill-color);\n",
              "    }\n",
              "    60% {\n",
              "      border-color: transparent;\n",
              "      border-right-color: var(--fill-color);\n",
              "    }\n",
              "    80% {\n",
              "      border-color: transparent;\n",
              "      border-right-color: var(--fill-color);\n",
              "      border-bottom-color: var(--fill-color);\n",
              "    }\n",
              "    90% {\n",
              "      border-color: transparent;\n",
              "      border-bottom-color: var(--fill-color);\n",
              "    }\n",
              "  }\n",
              "</style>\n",
              "\n",
              "  <script>\n",
              "    async function quickchart(key) {\n",
              "      const quickchartButtonEl =\n",
              "        document.querySelector('#' + key + ' button');\n",
              "      quickchartButtonEl.disabled = true;  // To prevent multiple clicks.\n",
              "      quickchartButtonEl.classList.add('colab-df-spinner');\n",
              "      try {\n",
              "        const charts = await google.colab.kernel.invokeFunction(\n",
              "            'suggestCharts', [key], {});\n",
              "      } catch (error) {\n",
              "        console.error('Error during call to suggestCharts:', error);\n",
              "      }\n",
              "      quickchartButtonEl.classList.remove('colab-df-spinner');\n",
              "      quickchartButtonEl.classList.add('colab-df-quickchart-complete');\n",
              "    }\n",
              "    (() => {\n",
              "      let quickchartButtonEl =\n",
              "        document.querySelector('#df-962be836-1709-42f5-99da-1b21a485484b button');\n",
              "      quickchartButtonEl.style.display =\n",
              "        google.colab.kernel.accessAllowed ? 'block' : 'none';\n",
              "    })();\n",
              "  </script>\n",
              "</div>\n",
              "\n",
              "    </div>\n",
              "  </div>\n"
            ]
          },
          "metadata": {},
          "execution_count": 148
        }
      ]
    }
  ],
  "metadata": {
    "kernelspec": {
      "display_name": "Python 3",
      "language": "python",
      "name": "python3"
    },
    "language_info": {
      "codemirror_mode": {
        "name": "ipython",
        "version": 3
      },
      "file_extension": ".py",
      "mimetype": "text/x-python",
      "name": "python",
      "nbconvert_exporter": "python",
      "pygments_lexer": "ipython3",
      "version": "3.8.3"
    },
    "colab": {
      "provenance": [],
      "include_colab_link": true
    }
  },
  "nbformat": 4,
  "nbformat_minor": 0
}